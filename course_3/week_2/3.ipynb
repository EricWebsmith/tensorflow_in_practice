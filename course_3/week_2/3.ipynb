{
 "cells": [
  {
   "cell_type": "markdown",
   "metadata": {},
   "source": [
    " !wget --no-check-certificate \\\n",
    "     https://storage.googleapis.com/laurencemoroney-blog.appspot.com/bbc-text.csv \\\n",
    "     -O /tmp/bbc-text.csv\n",
    "     \n",
    "90%"
   ]
  },
  {
   "cell_type": "code",
   "execution_count": 62,
   "metadata": {},
   "outputs": [],
   "source": [
    "import csv\n",
    "import numpy as np\n",
    "from tensorflow.keras.preprocessing.text import Tokenizer\n",
    "from tensorflow.keras.preprocessing.sequence import pad_sequences\n",
    "from tensorflow.keras.models import Sequential\n",
    "from tensorflow.keras.layers import Embedding, Conv1D, GlobalAveragePooling1D, Dense, BatchNormalization \n",
    "from tensorflow.keras.optimizers import SGD, Adam\n",
    "from tensorflow.keras.callbacks import Callback"
   ]
  },
  {
   "cell_type": "code",
   "execution_count": 42,
   "metadata": {},
   "outputs": [],
   "source": [
    "vocab_size = 1000\n",
    "embedding_dim = 16\n",
    "max_length = 120\n",
    "trunc_type = 'post'\n",
    "padding_type = 'post'\n",
    "oov_tok = '<OOV>'\n",
    "training_portion = .8"
   ]
  },
  {
   "cell_type": "code",
   "execution_count": 82,
   "metadata": {},
   "outputs": [],
   "source": [
    "class myCallback(Callback):\n",
    "    def on_epoch_end(self, epoch, logs={}):\n",
    "        acc=0.95\n",
    "        if(logs.get('val_accuracy')>acc):\n",
    "            print(\"\\nReached {acc} accuracy so cancelling training!\")\n",
    "            self.model.stop_training = True"
   ]
  },
  {
   "cell_type": "code",
   "execution_count": 43,
   "metadata": {},
   "outputs": [
    {
     "name": "stdout",
     "output_type": "stream",
     "text": [
      "153\n"
     ]
    }
   ],
   "source": [
    "\n",
    "stopwords = [ \"a\", \"about\", \"above\", \"after\", \"again\", \"against\", \"all\", \"am\", \"an\", \"and\", \"any\", \"are\", \"as\", \"at\", \"be\", \"because\", \"been\", \"before\", \"being\", \"below\", \"between\", \"both\", \"but\", \"by\", \"could\", \"did\", \"do\", \"does\", \"doing\", \"down\", \"during\", \"each\", \"few\", \"for\", \"from\", \"further\", \"had\", \"has\", \"have\", \"having\", \"he\", \"he'd\", \"he'll\", \"he's\", \"her\", \"here\", \"here's\", \"hers\", \"herself\", \"him\", \"himself\", \"his\", \"how\", \"how's\", \"i\", \"i'd\", \"i'll\", \"i'm\", \"i've\", \"if\", \"in\", \"into\", \"is\", \"it\", \"it's\", \"its\", \"itself\", \"let's\", \"me\", \"more\", \"most\", \"my\", \"myself\", \"nor\", \"of\", \"on\", \"once\", \"only\", \"or\", \"other\", \"ought\", \"our\", \"ours\", \"ourselves\", \"out\", \"over\", \"own\", \"same\", \"she\", \"she'd\", \"she'll\", \"she's\", \"should\", \"so\", \"some\", \"such\", \"than\", \"that\", \"that's\", \"the\", \"their\", \"theirs\", \"them\", \"themselves\", \"then\", \"there\", \"there's\", \"these\", \"they\", \"they'd\", \"they'll\", \"they're\", \"they've\", \"this\", \"those\", \"through\", \"to\", \"too\", \"under\", \"until\", \"up\", \"very\", \"was\", \"we\", \"we'd\", \"we'll\", \"we're\", \"we've\", \"were\", \"what\", \"what's\", \"when\", \"when's\", \"where\", \"where's\", \"which\", \"while\", \"who\", \"who's\", \"whom\", \"why\", \"why's\", \"with\", \"would\", \"you\", \"you'd\", \"you'll\", \"you're\", \"you've\", \"your\", \"yours\", \"yourself\", \"yourselves\" ]\n",
    "print(len(stopwords))\n",
    "# Expected Output\n",
    "# 153"
   ]
  },
  {
   "cell_type": "code",
   "execution_count": 5,
   "metadata": {},
   "outputs": [],
   "source": [
    "labels=[]\n",
    "sentences=[]\n",
    "with open('/tmp/bbc_text/bbc-text.csv') as f:\n",
    "    reader=csv.reader(f)\n",
    "    next(reader)\n",
    "    for row in reader:\n",
    "        labels.append(row[0])\n",
    "        sentence=row[1]\n",
    "        for stopword in stopwords:\n",
    "            token=f\" {stopword} \"\n",
    "            sentence=sentence.replace(token, \" \")\n",
    "        sentences.append(sentence)\n",
    "        "
   ]
  },
  {
   "cell_type": "code",
   "execution_count": 24,
   "metadata": {},
   "outputs": [],
   "source": [
    "tokenizer = Tokenizer(num_words=vocab_size, oov_token=oov_tok)"
   ]
  },
  {
   "cell_type": "code",
   "execution_count": 25,
   "metadata": {},
   "outputs": [],
   "source": [
    "tokenizer.fit_on_texts(sentences)"
   ]
  },
  {
   "cell_type": "code",
   "execution_count": 26,
   "metadata": {},
   "outputs": [
    {
     "data": {
      "text/plain": [
       "29714"
      ]
     },
     "execution_count": 26,
     "metadata": {},
     "output_type": "execute_result"
    }
   ],
   "source": [
    "n_words=len(tokenizer.word_index)\n",
    "n_words"
   ]
  },
  {
   "cell_type": "code",
   "execution_count": 31,
   "metadata": {},
   "outputs": [],
   "source": [
    "seq=tokenizer.texts_to_sequences(sentences)"
   ]
  },
  {
   "cell_type": "code",
   "execution_count": 33,
   "metadata": {},
   "outputs": [],
   "source": [
    "padded=pad_sequences(seq, maxlen=max_length, padding='pre')"
   ]
  },
  {
   "cell_type": "code",
   "execution_count": 44,
   "metadata": {},
   "outputs": [],
   "source": [
    "padded=np.array(padded)"
   ]
  },
  {
   "cell_type": "code",
   "execution_count": 36,
   "metadata": {},
   "outputs": [],
   "source": [
    "label_dict={}\n",
    "for label in set(labels):\n",
    "    label_dict[label]=len(label_dict)"
   ]
  },
  {
   "cell_type": "code",
   "execution_count": 45,
   "metadata": {},
   "outputs": [],
   "source": [
    "int_labels = np.array(list(map(label_dict.get, labels)))"
   ]
  },
  {
   "cell_type": "code",
   "execution_count": 65,
   "metadata": {},
   "outputs": [],
   "source": [
    "n=len(int_labels)\n",
    "split_at=int(n*training_portion)\n",
    "X_train=padded[:split_at]\n",
    "y_train=int_labels[:split_at]\n",
    "X_valid=padded[split_at:]\n",
    "y_valid=int_labels[split_at:]"
   ]
  },
  {
   "cell_type": "code",
   "execution_count": null,
   "metadata": {},
   "outputs": [],
   "source": []
  },
  {
   "cell_type": "code",
   "execution_count": 145,
   "metadata": {},
   "outputs": [],
   "source": [
    "model = Sequential([\n",
    "    Embedding(vocab_size, embedding_dim, input_length=max_length),\n",
    "    GlobalAveragePooling1D(),\n",
    "    #Dense(16, activation='relu'),\n",
    "    BatchNormalization(),\n",
    "    Dense(5, activation='softmax')\n",
    "])"
   ]
  },
  {
   "cell_type": "code",
   "execution_count": 146,
   "metadata": {},
   "outputs": [
    {
     "name": "stdout",
     "output_type": "stream",
     "text": [
      "Model: \"sequential_20\"\n",
      "_________________________________________________________________\n",
      "Layer (type)                 Output Shape              Param #   \n",
      "=================================================================\n",
      "embedding_21 (Embedding)     (None, 120, 16)           16000     \n",
      "_________________________________________________________________\n",
      "global_average_pooling1d_20  (None, 16)                0         \n",
      "_________________________________________________________________\n",
      "batch_normalization_2 (Batch (None, 16)                64        \n",
      "_________________________________________________________________\n",
      "dense_39 (Dense)             (None, 5)                 85        \n",
      "=================================================================\n",
      "Total params: 16,149\n",
      "Trainable params: 16,117\n",
      "Non-trainable params: 32\n",
      "_________________________________________________________________\n"
     ]
    }
   ],
   "source": [
    "model.summary()"
   ]
  },
  {
   "cell_type": "code",
   "execution_count": 147,
   "metadata": {},
   "outputs": [],
   "source": [
    "model.compile(loss='sparse_categorical_crossentropy', optimizer=Adam(clipvalue=1.0), metrics=['accuracy'])"
   ]
  },
  {
   "cell_type": "code",
   "execution_count": 148,
   "metadata": {
    "scrolled": false
   },
   "outputs": [
    {
     "name": "stdout",
     "output_type": "stream",
     "text": [
      "Epoch 1/100\n",
      "56/56 [==============================] - 0s 6ms/step - loss: 1.3343 - accuracy: 0.6736 - val_loss: 1.5773 - val_accuracy: 0.4719\n",
      "Epoch 2/100\n",
      "56/56 [==============================] - 0s 5ms/step - loss: 0.8102 - accuracy: 0.8899 - val_loss: 1.5184 - val_accuracy: 0.4629\n",
      "Epoch 3/100\n",
      "56/56 [==============================] - 0s 5ms/step - loss: 0.4858 - accuracy: 0.9416 - val_loss: 1.4393 - val_accuracy: 0.5146\n",
      "Epoch 4/100\n",
      "56/56 [==============================] - 0s 4ms/step - loss: 0.3200 - accuracy: 0.9601 - val_loss: 1.3358 - val_accuracy: 0.6180\n",
      "Epoch 5/100\n",
      "56/56 [==============================] - 0s 4ms/step - loss: 0.2269 - accuracy: 0.9691 - val_loss: 1.1994 - val_accuracy: 0.8067\n",
      "Epoch 6/100\n",
      "56/56 [==============================] - 0s 4ms/step - loss: 0.1687 - accuracy: 0.9781 - val_loss: 1.0341 - val_accuracy: 0.8809\n",
      "Epoch 7/100\n",
      "56/56 [==============================] - 0s 4ms/step - loss: 0.1369 - accuracy: 0.9809 - val_loss: 0.8427 - val_accuracy: 0.9011\n",
      "Epoch 8/100\n",
      "56/56 [==============================] - 0s 4ms/step - loss: 0.1070 - accuracy: 0.9882 - val_loss: 0.6497 - val_accuracy: 0.9169\n",
      "Epoch 9/100\n",
      "56/56 [==============================] - 0s 4ms/step - loss: 0.0854 - accuracy: 0.9916 - val_loss: 0.4741 - val_accuracy: 0.9371\n",
      "Epoch 10/100\n",
      "56/56 [==============================] - 0s 4ms/step - loss: 0.0683 - accuracy: 0.9938 - val_loss: 0.3455 - val_accuracy: 0.9416\n",
      "Epoch 11/100\n",
      "56/56 [==============================] - 0s 4ms/step - loss: 0.0584 - accuracy: 0.9961 - val_loss: 0.2638 - val_accuracy: 0.9461\n",
      "Epoch 12/100\n",
      "56/56 [==============================] - 0s 4ms/step - loss: 0.0476 - accuracy: 0.9989 - val_loss: 0.2174 - val_accuracy: 0.9483\n",
      "Epoch 13/100\n",
      "56/56 [==============================] - 0s 4ms/step - loss: 0.0454 - accuracy: 0.9972 - val_loss: 0.1953 - val_accuracy: 0.9483\n",
      "Epoch 14/100\n",
      "56/56 [==============================] - 0s 5ms/step - loss: 0.0369 - accuracy: 0.9989 - val_loss: 0.1832 - val_accuracy: 0.9461\n",
      "Epoch 15/100\n",
      "56/56 [==============================] - 0s 5ms/step - loss: 0.0291 - accuracy: 0.9983 - val_loss: 0.1796 - val_accuracy: 0.9483\n",
      "Epoch 16/100\n",
      "50/56 [=========================>....] - ETA: 0s - loss: 0.0286 - accuracy: 0.9994\n",
      "Reached {acc} accuracy so cancelling training!\n",
      "56/56 [==============================] - 0s 5ms/step - loss: 0.0287 - accuracy: 0.9994 - val_loss: 0.1748 - val_accuracy: 0.9506\n"
     ]
    },
    {
     "data": {
      "text/plain": [
       "<tensorflow.python.keras.callbacks.History at 0x18d8699c948>"
      ]
     },
     "execution_count": 148,
     "metadata": {},
     "output_type": "execute_result"
    }
   ],
   "source": [
    "model.fit(X_train, y_train, epochs=100, validation_data=(X_valid, y_valid), callbacks=[myCallback()])"
   ]
  },
  {
   "cell_type": "code",
   "execution_count": 149,
   "metadata": {
    "scrolled": false
   },
   "outputs": [
    {
     "name": "stdout",
     "output_type": "stream",
     "text": [
      "Epoch 1/100\n",
      "56/56 [==============================] - 0s 5ms/step - loss: 0.0251 - accuracy: 0.9994 - val_loss: 0.1832 - val_accuracy: 0.9483\n",
      "Epoch 2/100\n",
      "56/56 [==============================] - 0s 4ms/step - loss: 0.0223 - accuracy: 1.0000 - val_loss: 0.1790 - val_accuracy: 0.9461\n",
      "Epoch 3/100\n",
      "56/56 [==============================] - 0s 4ms/step - loss: 0.0187 - accuracy: 0.9994 - val_loss: 0.1770 - val_accuracy: 0.9483\n",
      "Epoch 4/100\n",
      "56/56 [==============================] - 0s 5ms/step - loss: 0.0158 - accuracy: 1.0000 - val_loss: 0.1814 - val_accuracy: 0.9461\n",
      "Epoch 5/100\n",
      "56/56 [==============================] - 0s 5ms/step - loss: 0.0131 - accuracy: 1.0000 - val_loss: 0.1799 - val_accuracy: 0.9461\n",
      "Epoch 6/100\n",
      "56/56 [==============================] - 0s 5ms/step - loss: 0.0140 - accuracy: 1.0000 - val_loss: 0.1845 - val_accuracy: 0.9461\n",
      "Epoch 7/100\n",
      "56/56 [==============================] - ETA: 0s - loss: 0.0120 - accuracy: 1.00 - 0s 4ms/step - loss: 0.0122 - accuracy: 1.0000 - val_loss: 0.1826 - val_accuracy: 0.9461\n",
      "Epoch 8/100\n",
      "56/56 [==============================] - 0s 4ms/step - loss: 0.0116 - accuracy: 1.0000 - val_loss: 0.1838 - val_accuracy: 0.9483\n",
      "Epoch 9/100\n",
      "56/56 [==============================] - 0s 4ms/step - loss: 0.0098 - accuracy: 1.0000 - val_loss: 0.1840 - val_accuracy: 0.9438\n",
      "Epoch 10/100\n",
      "56/56 [==============================] - 0s 5ms/step - loss: 0.0086 - accuracy: 1.0000 - val_loss: 0.1853 - val_accuracy: 0.9461\n",
      "Epoch 11/100\n",
      "56/56 [==============================] - 0s 5ms/step - loss: 0.0080 - accuracy: 1.0000 - val_loss: 0.1873 - val_accuracy: 0.9483\n",
      "Epoch 12/100\n",
      "56/56 [==============================] - 0s 4ms/step - loss: 0.0069 - accuracy: 1.0000 - val_loss: 0.1865 - val_accuracy: 0.9483\n",
      "Epoch 13/100\n",
      "56/56 [==============================] - 0s 4ms/step - loss: 0.0071 - accuracy: 1.0000 - val_loss: 0.1865 - val_accuracy: 0.9483\n",
      "Epoch 14/100\n",
      "56/56 [==============================] - 0s 4ms/step - loss: 0.0068 - accuracy: 1.0000 - val_loss: 0.1887 - val_accuracy: 0.9483\n",
      "Epoch 15/100\n",
      "56/56 [==============================] - 0s 4ms/step - loss: 0.0068 - accuracy: 1.0000 - val_loss: 0.1869 - val_accuracy: 0.9483\n",
      "Epoch 16/100\n",
      "56/56 [==============================] - 0s 4ms/step - loss: 0.0064 - accuracy: 1.0000 - val_loss: 0.1918 - val_accuracy: 0.9483\n",
      "Epoch 17/100\n",
      "56/56 [==============================] - 0s 4ms/step - loss: 0.0048 - accuracy: 1.0000 - val_loss: 0.1921 - val_accuracy: 0.9483\n",
      "Epoch 18/100\n",
      "56/56 [==============================] - 0s 4ms/step - loss: 0.0061 - accuracy: 1.0000 - val_loss: 0.1938 - val_accuracy: 0.9461\n",
      "Epoch 19/100\n",
      "56/56 [==============================] - 0s 5ms/step - loss: 0.0055 - accuracy: 1.0000 - val_loss: 0.1946 - val_accuracy: 0.9438\n",
      "Epoch 20/100\n",
      "56/56 [==============================] - 0s 4ms/step - loss: 0.0042 - accuracy: 1.0000 - val_loss: 0.1975 - val_accuracy: 0.9438\n",
      "Epoch 21/100\n",
      "56/56 [==============================] - 0s 4ms/step - loss: 0.0047 - accuracy: 1.0000 - val_loss: 0.1985 - val_accuracy: 0.9483\n",
      "Epoch 22/100\n",
      "56/56 [==============================] - 0s 5ms/step - loss: 0.0043 - accuracy: 1.0000 - val_loss: 0.2041 - val_accuracy: 0.9461\n",
      "Epoch 23/100\n",
      "56/56 [==============================] - 0s 4ms/step - loss: 0.0042 - accuracy: 1.0000 - val_loss: 0.2020 - val_accuracy: 0.9461\n",
      "Epoch 24/100\n",
      "56/56 [==============================] - 0s 5ms/step - loss: 0.0031 - accuracy: 1.0000 - val_loss: 0.1990 - val_accuracy: 0.9506\n",
      "Epoch 25/100\n",
      "56/56 [==============================] - 0s 4ms/step - loss: 0.0041 - accuracy: 1.0000 - val_loss: 0.2026 - val_accuracy: 0.9506\n",
      "Epoch 26/100\n",
      "56/56 [==============================] - 0s 4ms/step - loss: 0.0029 - accuracy: 1.0000 - val_loss: 0.2005 - val_accuracy: 0.9506\n",
      "Epoch 27/100\n",
      "56/56 [==============================] - 0s 5ms/step - loss: 0.0032 - accuracy: 1.0000 - val_loss: 0.2062 - val_accuracy: 0.9461\n",
      "Epoch 28/100\n",
      "56/56 [==============================] - 0s 4ms/step - loss: 0.0027 - accuracy: 1.0000 - val_loss: 0.2032 - val_accuracy: 0.9461\n",
      "Epoch 29/100\n",
      "56/56 [==============================] - 0s 5ms/step - loss: 0.0033 - accuracy: 1.0000 - val_loss: 0.2042 - val_accuracy: 0.9461\n",
      "Epoch 30/100\n",
      "56/56 [==============================] - 0s 4ms/step - loss: 0.0024 - accuracy: 1.0000 - val_loss: 0.2067 - val_accuracy: 0.9461\n",
      "Epoch 31/100\n",
      "56/56 [==============================] - 0s 4ms/step - loss: 0.0023 - accuracy: 1.0000 - val_loss: 0.2092 - val_accuracy: 0.9461\n",
      "Epoch 32/100\n",
      "56/56 [==============================] - 0s 4ms/step - loss: 0.0023 - accuracy: 1.0000 - val_loss: 0.2071 - val_accuracy: 0.9461\n",
      "Epoch 33/100\n",
      "56/56 [==============================] - 0s 4ms/step - loss: 0.0022 - accuracy: 1.0000 - val_loss: 0.2138 - val_accuracy: 0.9416\n",
      "Epoch 34/100\n",
      "56/56 [==============================] - 0s 5ms/step - loss: 0.0020 - accuracy: 1.0000 - val_loss: 0.2128 - val_accuracy: 0.9438\n",
      "Epoch 35/100\n",
      "56/56 [==============================] - 0s 4ms/step - loss: 0.0016 - accuracy: 1.0000 - val_loss: 0.2166 - val_accuracy: 0.9438\n",
      "Epoch 36/100\n",
      "56/56 [==============================] - 0s 5ms/step - loss: 0.0015 - accuracy: 1.0000 - val_loss: 0.2166 - val_accuracy: 0.9438\n",
      "Epoch 37/100\n",
      "56/56 [==============================] - 0s 5ms/step - loss: 0.0014 - accuracy: 1.0000 - val_loss: 0.2181 - val_accuracy: 0.9461\n",
      "Epoch 38/100\n",
      "56/56 [==============================] - 0s 4ms/step - loss: 0.0015 - accuracy: 1.0000 - val_loss: 0.2204 - val_accuracy: 0.9461\n",
      "Epoch 39/100\n",
      "56/56 [==============================] - 0s 4ms/step - loss: 0.0015 - accuracy: 1.0000 - val_loss: 0.2233 - val_accuracy: 0.9461\n",
      "Epoch 40/100\n",
      "56/56 [==============================] - 0s 4ms/step - loss: 0.0015 - accuracy: 1.0000 - val_loss: 0.2204 - val_accuracy: 0.9438\n",
      "Epoch 41/100\n",
      "56/56 [==============================] - 0s 5ms/step - loss: 0.0013 - accuracy: 1.0000 - val_loss: 0.2270 - val_accuracy: 0.9438\n",
      "Epoch 42/100\n",
      "56/56 [==============================] - 0s 4ms/step - loss: 0.0014 - accuracy: 1.0000 - val_loss: 0.2313 - val_accuracy: 0.9483\n",
      "Epoch 43/100\n",
      "56/56 [==============================] - 0s 4ms/step - loss: 0.0011 - accuracy: 1.0000 - val_loss: 0.2314 - val_accuracy: 0.9461\n",
      "Epoch 44/100\n",
      "56/56 [==============================] - 0s 4ms/step - loss: 0.0012 - accuracy: 1.0000 - val_loss: 0.2314 - val_accuracy: 0.9438\n",
      "Epoch 45/100\n",
      "56/56 [==============================] - 0s 4ms/step - loss: 0.0013 - accuracy: 1.0000 - val_loss: 0.2249 - val_accuracy: 0.9461\n",
      "Epoch 46/100\n",
      "56/56 [==============================] - 0s 4ms/step - loss: 0.0011 - accuracy: 1.0000 - val_loss: 0.2259 - val_accuracy: 0.9461\n",
      "Epoch 47/100\n",
      "56/56 [==============================] - 0s 4ms/step - loss: 0.0010 - accuracy: 1.0000 - val_loss: 0.2289 - val_accuracy: 0.9416\n",
      "Epoch 48/100\n",
      "56/56 [==============================] - 0s 5ms/step - loss: 0.0017 - accuracy: 1.0000 - val_loss: 0.2323 - val_accuracy: 0.9438\n",
      "Epoch 49/100\n",
      "56/56 [==============================] - 0s 4ms/step - loss: 0.0010 - accuracy: 1.0000 - val_loss: 0.2418 - val_accuracy: 0.9461\n",
      "Epoch 50/100\n",
      "56/56 [==============================] - 0s 4ms/step - loss: 0.0011 - accuracy: 1.0000 - val_loss: 0.2373 - val_accuracy: 0.9461\n",
      "Epoch 51/100\n",
      "56/56 [==============================] - 0s 4ms/step - loss: 0.0010 - accuracy: 1.0000 - val_loss: 0.2280 - val_accuracy: 0.9438\n",
      "Epoch 52/100\n",
      "56/56 [==============================] - 0s 4ms/step - loss: 9.8357e-04 - accuracy: 1.0000 - val_loss: 0.2344 - val_accuracy: 0.9438\n",
      "Epoch 53/100\n",
      "56/56 [==============================] - 0s 4ms/step - loss: 7.7437e-04 - accuracy: 1.0000 - val_loss: 0.2370 - val_accuracy: 0.9438\n",
      "Epoch 54/100\n",
      "56/56 [==============================] - 0s 5ms/step - loss: 9.6251e-04 - accuracy: 1.0000 - val_loss: 0.2443 - val_accuracy: 0.9416\n",
      "Epoch 55/100\n",
      "56/56 [==============================] - 0s 5ms/step - loss: 7.5774e-04 - accuracy: 1.0000 - val_loss: 0.2420 - val_accuracy: 0.9393\n",
      "Epoch 56/100\n",
      "56/56 [==============================] - 0s 4ms/step - loss: 5.9884e-04 - accuracy: 1.0000 - val_loss: 0.2422 - val_accuracy: 0.9416\n",
      "Epoch 57/100\n",
      "56/56 [==============================] - 0s 4ms/step - loss: 6.0732e-04 - accuracy: 1.0000 - val_loss: 0.2436 - val_accuracy: 0.9416\n",
      "Epoch 58/100\n"
     ]
    },
    {
     "name": "stdout",
     "output_type": "stream",
     "text": [
      "56/56 [==============================] - 0s 5ms/step - loss: 7.6525e-04 - accuracy: 1.0000 - val_loss: 0.2497 - val_accuracy: 0.9371\n",
      "Epoch 59/100\n",
      "56/56 [==============================] - 0s 5ms/step - loss: 5.7945e-04 - accuracy: 1.0000 - val_loss: 0.2451 - val_accuracy: 0.9416\n",
      "Epoch 60/100\n",
      "56/56 [==============================] - 0s 5ms/step - loss: 7.2836e-04 - accuracy: 1.0000 - val_loss: 0.2425 - val_accuracy: 0.9393\n",
      "Epoch 61/100\n",
      "56/56 [==============================] - 0s 5ms/step - loss: 8.3374e-04 - accuracy: 1.0000 - val_loss: 0.2937 - val_accuracy: 0.9371\n",
      "Epoch 62/100\n",
      "56/56 [==============================] - 0s 5ms/step - loss: 6.8750e-04 - accuracy: 1.0000 - val_loss: 0.2603 - val_accuracy: 0.9416\n",
      "Epoch 63/100\n",
      "56/56 [==============================] - 0s 4ms/step - loss: 5.9395e-04 - accuracy: 1.0000 - val_loss: 0.2571 - val_accuracy: 0.9393\n",
      "Epoch 64/100\n",
      "56/56 [==============================] - 0s 5ms/step - loss: 6.8581e-04 - accuracy: 1.0000 - val_loss: 0.2482 - val_accuracy: 0.9348\n",
      "Epoch 65/100\n",
      "56/56 [==============================] - 0s 4ms/step - loss: 6.6544e-04 - accuracy: 1.0000 - val_loss: 0.2486 - val_accuracy: 0.9326\n",
      "Epoch 66/100\n",
      "56/56 [==============================] - 0s 4ms/step - loss: 4.1987e-04 - accuracy: 1.0000 - val_loss: 0.2535 - val_accuracy: 0.9348\n",
      "Epoch 67/100\n",
      "56/56 [==============================] - 0s 4ms/step - loss: 6.2057e-04 - accuracy: 1.0000 - val_loss: 0.2599 - val_accuracy: 0.9393\n",
      "Epoch 68/100\n",
      "56/56 [==============================] - 0s 4ms/step - loss: 3.8293e-04 - accuracy: 1.0000 - val_loss: 0.2617 - val_accuracy: 0.9393\n",
      "Epoch 69/100\n",
      "56/56 [==============================] - 0s 4ms/step - loss: 4.1368e-04 - accuracy: 1.0000 - val_loss: 0.2646 - val_accuracy: 0.9348\n",
      "Epoch 70/100\n",
      "56/56 [==============================] - 0s 5ms/step - loss: 4.4801e-04 - accuracy: 1.0000 - val_loss: 0.2697 - val_accuracy: 0.9348\n",
      "Epoch 71/100\n",
      "56/56 [==============================] - 0s 4ms/step - loss: 6.0552e-04 - accuracy: 1.0000 - val_loss: 0.2741 - val_accuracy: 0.9326\n",
      "Epoch 72/100\n",
      "56/56 [==============================] - 0s 5ms/step - loss: 5.4489e-04 - accuracy: 1.0000 - val_loss: 0.2700 - val_accuracy: 0.9416\n",
      "Epoch 73/100\n",
      "56/56 [==============================] - 0s 4ms/step - loss: 6.8713e-04 - accuracy: 1.0000 - val_loss: 0.3029 - val_accuracy: 0.9393\n",
      "Epoch 74/100\n",
      "56/56 [==============================] - 0s 5ms/step - loss: 4.0227e-04 - accuracy: 1.0000 - val_loss: 0.2695 - val_accuracy: 0.9393\n",
      "Epoch 75/100\n",
      "56/56 [==============================] - 0s 4ms/step - loss: 2.8519e-04 - accuracy: 1.0000 - val_loss: 0.2673 - val_accuracy: 0.9371\n",
      "Epoch 76/100\n",
      "56/56 [==============================] - 0s 5ms/step - loss: 3.4183e-04 - accuracy: 1.0000 - val_loss: 0.2697 - val_accuracy: 0.9393\n",
      "Epoch 77/100\n",
      "56/56 [==============================] - 0s 4ms/step - loss: 3.5509e-04 - accuracy: 1.0000 - val_loss: 0.2739 - val_accuracy: 0.9371\n",
      "Epoch 78/100\n",
      "56/56 [==============================] - 0s 4ms/step - loss: 3.2242e-04 - accuracy: 1.0000 - val_loss: 0.2731 - val_accuracy: 0.9371\n",
      "Epoch 79/100\n",
      "56/56 [==============================] - 0s 4ms/step - loss: 5.6000e-04 - accuracy: 1.0000 - val_loss: 0.2793 - val_accuracy: 0.9348\n",
      "Epoch 80/100\n",
      "56/56 [==============================] - 0s 5ms/step - loss: 5.9471e-04 - accuracy: 1.0000 - val_loss: 0.2853 - val_accuracy: 0.9348\n",
      "Epoch 81/100\n",
      "56/56 [==============================] - 0s 4ms/step - loss: 3.8297e-04 - accuracy: 1.0000 - val_loss: 0.3026 - val_accuracy: 0.9303\n",
      "Epoch 82/100\n",
      "56/56 [==============================] - 0s 4ms/step - loss: 4.3714e-04 - accuracy: 1.0000 - val_loss: 0.2932 - val_accuracy: 0.9393\n",
      "Epoch 83/100\n",
      "56/56 [==============================] - 0s 5ms/step - loss: 3.2599e-04 - accuracy: 1.0000 - val_loss: 0.2902 - val_accuracy: 0.9393\n",
      "Epoch 84/100\n",
      "56/56 [==============================] - 0s 4ms/step - loss: 2.4069e-04 - accuracy: 1.0000 - val_loss: 0.2882 - val_accuracy: 0.9393\n",
      "Epoch 85/100\n",
      "56/56 [==============================] - 0s 4ms/step - loss: 3.2679e-04 - accuracy: 1.0000 - val_loss: 0.2891 - val_accuracy: 0.9371\n",
      "Epoch 86/100\n",
      "56/56 [==============================] - 0s 4ms/step - loss: 2.8512e-04 - accuracy: 1.0000 - val_loss: 0.2867 - val_accuracy: 0.9393\n",
      "Epoch 87/100\n",
      "56/56 [==============================] - 0s 4ms/step - loss: 3.2759e-04 - accuracy: 1.0000 - val_loss: 0.2871 - val_accuracy: 0.9393\n",
      "Epoch 88/100\n",
      "56/56 [==============================] - 0s 4ms/step - loss: 1.3433e-04 - accuracy: 1.0000 - val_loss: 0.2877 - val_accuracy: 0.9393\n",
      "Epoch 89/100\n",
      "56/56 [==============================] - 0s 4ms/step - loss: 2.8869e-04 - accuracy: 1.0000 - val_loss: 0.2904 - val_accuracy: 0.9393\n",
      "Epoch 90/100\n",
      "56/56 [==============================] - 0s 5ms/step - loss: 2.7158e-04 - accuracy: 1.0000 - val_loss: 0.2930 - val_accuracy: 0.9393\n",
      "Epoch 91/100\n",
      "56/56 [==============================] - 0s 4ms/step - loss: 2.3916e-04 - accuracy: 1.0000 - val_loss: 0.3160 - val_accuracy: 0.9348\n",
      "Epoch 92/100\n",
      "56/56 [==============================] - 0s 4ms/step - loss: 1.8923e-04 - accuracy: 1.0000 - val_loss: 0.3016 - val_accuracy: 0.9326\n",
      "Epoch 93/100\n",
      "56/56 [==============================] - 0s 4ms/step - loss: 2.4877e-04 - accuracy: 1.0000 - val_loss: 0.2932 - val_accuracy: 0.9348\n",
      "Epoch 94/100\n",
      "56/56 [==============================] - 0s 4ms/step - loss: 2.3673e-04 - accuracy: 1.0000 - val_loss: 0.3004 - val_accuracy: 0.9416\n",
      "Epoch 95/100\n",
      "56/56 [==============================] - 0s 4ms/step - loss: 1.3435e-04 - accuracy: 1.0000 - val_loss: 0.2978 - val_accuracy: 0.9393\n",
      "Epoch 96/100\n",
      "56/56 [==============================] - 0s 5ms/step - loss: 2.0911e-04 - accuracy: 1.0000 - val_loss: 0.3027 - val_accuracy: 0.9371\n",
      "Epoch 97/100\n",
      "56/56 [==============================] - 0s 4ms/step - loss: 1.9300e-04 - accuracy: 1.0000 - val_loss: 0.2966 - val_accuracy: 0.9393\n",
      "Epoch 98/100\n",
      "56/56 [==============================] - 0s 5ms/step - loss: 4.4800e-04 - accuracy: 1.0000 - val_loss: 0.2974 - val_accuracy: 0.9393\n",
      "Epoch 99/100\n",
      "56/56 [==============================] - 0s 4ms/step - loss: 1.9843e-04 - accuracy: 1.0000 - val_loss: 0.3254 - val_accuracy: 0.9371\n",
      "Epoch 100/100\n",
      "56/56 [==============================] - 0s 4ms/step - loss: 3.2966e-04 - accuracy: 1.0000 - val_loss: 0.3064 - val_accuracy: 0.9416\n"
     ]
    },
    {
     "data": {
      "text/plain": [
       "<tensorflow.python.keras.callbacks.History at 0x18d86ad6b88>"
      ]
     },
     "execution_count": 149,
     "metadata": {},
     "output_type": "execute_result"
    }
   ],
   "source": [
    "model.fit(X_train, y_train, epochs=100, validation_data=(X_valid, y_valid))"
   ]
  },
  {
   "cell_type": "code",
   "execution_count": null,
   "metadata": {},
   "outputs": [],
   "source": []
  }
 ],
 "metadata": {
  "kernelspec": {
   "display_name": "Python 3",
   "language": "python",
   "name": "python3"
  },
  "language_info": {
   "codemirror_mode": {
    "name": "ipython",
    "version": 3
   },
   "file_extension": ".py",
   "mimetype": "text/x-python",
   "name": "python",
   "nbconvert_exporter": "python",
   "pygments_lexer": "ipython3",
   "version": "3.7.6"
  }
 },
 "nbformat": 4,
 "nbformat_minor": 4
}
