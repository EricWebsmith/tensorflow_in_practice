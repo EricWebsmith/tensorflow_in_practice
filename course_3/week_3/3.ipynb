{
 "cells": [
  {
   "cell_type": "markdown",
   "metadata": {},
   "source": [
    "!wget --no-check-certificate \\\n",
    "    https://storage.googleapis.com/laurencemoroney-blog.appspot.com/training_cleaned.csv \\\n",
    "    -O /tmp/training_cleaned.csv\n",
    "\n",
    "/tmp/glove.6B.100d.txt\n",
    "\n",
    "         Your Code here. Create list items where the first item is the text, found in row[5], and the second is the label. \n",
    "         Note that the label is a '0' or a '4' in the text. When it's the former, make\n",
    "         your label to be 0, otherwise 1. Keep a count of the number of sentences in num_sentences\n",
    "\n"
   ]
  },
  {
   "cell_type": "code",
   "execution_count": 47,
   "metadata": {},
   "outputs": [],
   "source": [
    "from tensorflow.keras.preprocessing.text import Tokenizer\n",
    "from tensorflow.keras.preprocessing.sequence import pad_sequences\n",
    "from tensorflow.keras.models import Sequential\n",
    "from tensorflow.keras.layers import Dense, Embedding, GlobalAveragePooling1D, Dropout, LSTM, Conv1D, MaxPool1D\n",
    "from tensorflow.keras.optimizers import Adam\n",
    "from tensorflow.keras.callbacks import Callback"
   ]
  },
  {
   "cell_type": "code",
   "execution_count": 82,
   "metadata": {},
   "outputs": [],
   "source": [
    "import numpy as np\n",
    "import csv\n",
    "import random"
   ]
  },
  {
   "cell_type": "code",
   "execution_count": 21,
   "metadata": {},
   "outputs": [],
   "source": [
    "embedding_dim = 100\n",
    "max_length = 16\n",
    "padding_type = 'post'\n",
    "oov_tok = '<OOV>'\n",
    "training_size=160000\n",
    "#Your dataset size here. Experiment using smaller values (i.e. 16000), but don't forget to train on at least 160000 to see the best effects\n",
    "test_portion=.1"
   ]
  },
  {
   "cell_type": "code",
   "execution_count": 109,
   "metadata": {},
   "outputs": [],
   "source": [
    "# Define a Callback class that stops training once accuracy reaches 99.9%\n",
    "class myCallback(Callback):\n",
    "    def on_epoch_end(self, epoch, logs={}):\n",
    "        if(logs.get('accuracy')>0.8):\n",
    "            print(\"\\nReached accuracy so cancelling training!\")\n",
    "            self.model.stop_training = True"
   ]
  },
  {
   "cell_type": "code",
   "execution_count": 83,
   "metadata": {},
   "outputs": [],
   "source": [
    "\n",
    "corpus=[]\n",
    "with open(\"/tmp/training_cleaned/training_cleaned.csv\") as f:\n",
    "    reader=csv.reader(f)\n",
    "    next(reader)\n",
    "    for row in reader:\n",
    "        if row[0]==\"0\":\n",
    "            label=0\n",
    "        else:\n",
    "            label=1\n",
    "        sentence=row[5]\n",
    "        corpus.append([label, sentence])\n"
   ]
  },
  {
   "cell_type": "code",
   "execution_count": 84,
   "metadata": {},
   "outputs": [],
   "source": [
    "random.shuffle(corpus)"
   ]
  },
  {
   "cell_type": "code",
   "execution_count": 86,
   "metadata": {},
   "outputs": [],
   "source": [
    "corpus=corpus[:training_size]"
   ]
  },
  {
   "cell_type": "code",
   "execution_count": 87,
   "metadata": {},
   "outputs": [
    {
     "data": {
      "text/plain": [
       "160000"
      ]
     },
     "execution_count": 87,
     "metadata": {},
     "output_type": "execute_result"
    }
   ],
   "source": [
    "len(corpus)"
   ]
  },
  {
   "cell_type": "code",
   "execution_count": 88,
   "metadata": {},
   "outputs": [],
   "source": [
    "sentences=[sentence for label, sentence in corpus]\n",
    "labels=[label for label, sentence in corpus]"
   ]
  },
  {
   "cell_type": "code",
   "execution_count": 89,
   "metadata": {},
   "outputs": [],
   "source": [
    "labels=np.array(labels)"
   ]
  },
  {
   "cell_type": "code",
   "execution_count": 90,
   "metadata": {},
   "outputs": [
    {
     "data": {
      "text/plain": [
       "79739"
      ]
     },
     "execution_count": 90,
     "metadata": {},
     "output_type": "execute_result"
    }
   ],
   "source": [
    "sum(labels)"
   ]
  },
  {
   "cell_type": "code",
   "execution_count": 91,
   "metadata": {},
   "outputs": [
    {
     "data": {
      "text/plain": [
       "160000"
      ]
     },
     "execution_count": 91,
     "metadata": {},
     "output_type": "execute_result"
    }
   ],
   "source": [
    "len(sentences)"
   ]
  },
  {
   "cell_type": "code",
   "execution_count": 92,
   "metadata": {},
   "outputs": [],
   "source": [
    "tokenizer=Tokenizer()"
   ]
  },
  {
   "cell_type": "code",
   "execution_count": 93,
   "metadata": {},
   "outputs": [],
   "source": [
    "tokenizer.fit_on_texts(sentences)"
   ]
  },
  {
   "cell_type": "code",
   "execution_count": 94,
   "metadata": {},
   "outputs": [],
   "source": [
    "seq = tokenizer.texts_to_sequences(sentences)"
   ]
  },
  {
   "cell_type": "code",
   "execution_count": 95,
   "metadata": {},
   "outputs": [],
   "source": [
    "padded = pad_sequences(seq, maxlen=max_length, padding=padding_type)"
   ]
  },
  {
   "cell_type": "code",
   "execution_count": 96,
   "metadata": {},
   "outputs": [],
   "source": [
    "padded = np.array(padded)"
   ]
  },
  {
   "cell_type": "code",
   "execution_count": 97,
   "metadata": {},
   "outputs": [],
   "source": [
    "split_at=int(training_size*test_portion)\n",
    "X_valid = padded[:split_at]\n",
    "y_valid = labels[:split_at]\n",
    "\n",
    "X_train = padded[split_at:training_size]\n",
    "y_train = labels[split_at:training_size]\n"
   ]
  },
  {
   "cell_type": "code",
   "execution_count": null,
   "metadata": {},
   "outputs": [],
   "source": []
  },
  {
   "cell_type": "code",
   "execution_count": 98,
   "metadata": {},
   "outputs": [],
   "source": [
    "vocab_size=len(tokenizer.word_index)"
   ]
  },
  {
   "cell_type": "code",
   "execution_count": 99,
   "metadata": {},
   "outputs": [
    {
     "data": {
      "text/plain": [
       "138814"
      ]
     },
     "execution_count": 99,
     "metadata": {},
     "output_type": "execute_result"
    }
   ],
   "source": [
    "vocab_size"
   ]
  },
  {
   "cell_type": "code",
   "execution_count": 100,
   "metadata": {},
   "outputs": [],
   "source": [
    "embeddings_index = {};\n",
    "with open(\"/tmp/glove.6B.100d.txt\", encoding='utf-8') as f:\n",
    "    for line in f:\n",
    "        values=line.split()\n",
    "        word=values[0]\n",
    "        coefs = np.asarray(values[1:], dtype='float32')\n",
    "        embeddings_index[word]=coefs"
   ]
  },
  {
   "cell_type": "code",
   "execution_count": 101,
   "metadata": {},
   "outputs": [],
   "source": [
    "embedding_matrix = np.zeros((vocab_size+1, embedding_dim))"
   ]
  },
  {
   "cell_type": "code",
   "execution_count": 102,
   "metadata": {},
   "outputs": [
    {
     "data": {
      "text/plain": [
       "(138815, 100)"
      ]
     },
     "execution_count": 102,
     "metadata": {},
     "output_type": "execute_result"
    }
   ],
   "source": [
    "embedding_matrix.shape"
   ]
  },
  {
   "cell_type": "code",
   "execution_count": 103,
   "metadata": {},
   "outputs": [
    {
     "data": {
      "text/plain": [
       "array([[0., 0., 0., ..., 0., 0., 0.],\n",
       "       [0., 0., 0., ..., 0., 0., 0.],\n",
       "       [0., 0., 0., ..., 0., 0., 0.],\n",
       "       ...,\n",
       "       [0., 0., 0., ..., 0., 0., 0.],\n",
       "       [0., 0., 0., ..., 0., 0., 0.],\n",
       "       [0., 0., 0., ..., 0., 0., 0.]])"
      ]
     },
     "execution_count": 103,
     "metadata": {},
     "output_type": "execute_result"
    }
   ],
   "source": [
    "embedding_matrix"
   ]
  },
  {
   "cell_type": "code",
   "execution_count": 104,
   "metadata": {},
   "outputs": [],
   "source": [
    "for word, i in tokenizer.word_index.items():\n",
    "    word_vector = embeddings_index.get(word)\n",
    "    if word_vector is not None:\n",
    "        embedding_matrix[i]=word_vector"
   ]
  },
  {
   "cell_type": "code",
   "execution_count": 105,
   "metadata": {},
   "outputs": [
    {
     "name": "stdout",
     "output_type": "stream",
     "text": [
      "138815\n"
     ]
    }
   ],
   "source": [
    "print(len(embedding_matrix))"
   ]
  },
  {
   "cell_type": "code",
   "execution_count": 106,
   "metadata": {},
   "outputs": [
    {
     "name": "stdout",
     "output_type": "stream",
     "text": [
      "Model: \"sequential_5\"\n",
      "_________________________________________________________________\n",
      "Layer (type)                 Output Shape              Param #   \n",
      "=================================================================\n",
      "embedding_6 (Embedding)      (None, 16, 100)           13881500  \n",
      "_________________________________________________________________\n",
      "dropout_6 (Dropout)          (None, 16, 100)           0         \n",
      "_________________________________________________________________\n",
      "conv1d_5 (Conv1D)            (None, 13, 65)            26065     \n",
      "_________________________________________________________________\n",
      "max_pooling1d_4 (MaxPooling1 (None, 3, 65)             0         \n",
      "_________________________________________________________________\n",
      "lstm_5 (LSTM)                (None, 64)                33280     \n",
      "_________________________________________________________________\n",
      "dense_5 (Dense)              (None, 1)                 65        \n",
      "=================================================================\n",
      "Total params: 13,940,910\n",
      "Trainable params: 59,410\n",
      "Non-trainable params: 13,881,500\n",
      "_________________________________________________________________\n"
     ]
    }
   ],
   "source": [
    "model = Sequential([\n",
    "    Embedding(vocab_size+1, embedding_dim, input_length=16, weights=[embedding_matrix], trainable=False),\n",
    "    Dropout(0.2),\n",
    "    Conv1D(65, 4, activation='relu'),\n",
    "    MaxPool1D(4),\n",
    "    LSTM(64),\n",
    "    Dense(1, activation='sigmoid')\n",
    "])\n",
    "model.summary()"
   ]
  },
  {
   "cell_type": "code",
   "execution_count": 107,
   "metadata": {},
   "outputs": [],
   "source": [
    "model.compile(loss='binary_crossentropy', optimizer=Adam(clipvalue=1.0), metrics=['accuracy'])"
   ]
  },
  {
   "cell_type": "code",
   "execution_count": 77,
   "metadata": {},
   "outputs": [],
   "source": [
    "model.compile(loss='binary_crossentropy', optimizer=Adam(), metrics=['accuracy'])"
   ]
  },
  {
   "cell_type": "code",
   "execution_count": 110,
   "metadata": {
    "scrolled": false
   },
   "outputs": [
    {
     "name": "stdout",
     "output_type": "stream",
     "text": [
      "Train on 144000 samples, validate on 16000 samples\n",
      "Epoch 1/100\n",
      "144000/144000 [==============================] - 16s 114us/sample - loss: 0.4879 - accuracy: 0.7599 - val_loss: 0.4937 - val_accuracy: 0.7589\n",
      "Epoch 2/100\n",
      "144000/144000 [==============================] - 16s 113us/sample - loss: 0.4817 - accuracy: 0.7630 - val_loss: 0.4924 - val_accuracy: 0.7593\n",
      "Epoch 3/100\n",
      "144000/144000 [==============================] - 16s 113us/sample - loss: 0.4755 - accuracy: 0.7685 - val_loss: 0.4893 - val_accuracy: 0.7651\n",
      "Epoch 4/100\n",
      "144000/144000 [==============================] - 16s 114us/sample - loss: 0.4720 - accuracy: 0.7702 - val_loss: 0.4886 - val_accuracy: 0.7641\n",
      "Epoch 5/100\n",
      "144000/144000 [==============================] - 16s 114us/sample - loss: 0.4672 - accuracy: 0.7732 - val_loss: 0.4912 - val_accuracy: 0.7610\n",
      "Epoch 6/100\n",
      "144000/144000 [==============================] - 16s 114us/sample - loss: 0.4622 - accuracy: 0.7785 - val_loss: 0.4879 - val_accuracy: 0.7625\n",
      "Epoch 7/100\n",
      "144000/144000 [==============================] - 16s 111us/sample - loss: 0.4592 - accuracy: 0.7799 - val_loss: 0.4907 - val_accuracy: 0.7582\n",
      "Epoch 8/100\n",
      "144000/144000 [==============================] - 16s 114us/sample - loss: 0.4573 - accuracy: 0.7797 - val_loss: 0.4963 - val_accuracy: 0.7586\n",
      "Epoch 9/100\n",
      "144000/144000 [==============================] - 16s 111us/sample - loss: 0.4548 - accuracy: 0.7813 - val_loss: 0.4904 - val_accuracy: 0.7626\n",
      "Epoch 10/100\n",
      "144000/144000 [==============================] - 16s 110us/sample - loss: 0.4514 - accuracy: 0.7836 - val_loss: 0.4913 - val_accuracy: 0.7646\n",
      "Epoch 11/100\n",
      "144000/144000 [==============================] - 16s 112us/sample - loss: 0.4518 - accuracy: 0.7834 - val_loss: 0.4942 - val_accuracy: 0.7603\n",
      "Epoch 12/100\n",
      "144000/144000 [==============================] - 16s 111us/sample - loss: 0.4479 - accuracy: 0.7854 - val_loss: 0.4933 - val_accuracy: 0.7632\n",
      "Epoch 13/100\n",
      "144000/144000 [==============================] - 16s 111us/sample - loss: 0.4471 - accuracy: 0.7860 - val_loss: 0.4935 - val_accuracy: 0.7626\n",
      "Epoch 14/100\n",
      "144000/144000 [==============================] - 17s 116us/sample - loss: 0.4456 - accuracy: 0.7863 - val_loss: 0.4975 - val_accuracy: 0.7594\n",
      "Epoch 15/100\n",
      "144000/144000 [==============================] - 16s 114us/sample - loss: 0.4447 - accuracy: 0.7876 - val_loss: 0.4966 - val_accuracy: 0.7636\n",
      "Epoch 16/100\n",
      "144000/144000 [==============================] - 16s 113us/sample - loss: 0.4425 - accuracy: 0.7898 - val_loss: 0.4954 - val_accuracy: 0.7593\n",
      "Epoch 17/100\n",
      "144000/144000 [==============================] - 17s 115us/sample - loss: 0.4407 - accuracy: 0.7908 - val_loss: 0.5011 - val_accuracy: 0.7616\n",
      "Epoch 18/100\n",
      "144000/144000 [==============================] - 16s 114us/sample - loss: 0.4400 - accuracy: 0.7905 - val_loss: 0.4969 - val_accuracy: 0.7616\n",
      "Epoch 19/100\n",
      "144000/144000 [==============================] - 17s 121us/sample - loss: 0.4393 - accuracy: 0.7894 - val_loss: 0.5000 - val_accuracy: 0.7614\n",
      "Epoch 20/100\n",
      "144000/144000 [==============================] - 17s 116us/sample - loss: 0.4391 - accuracy: 0.7911 - val_loss: 0.5015 - val_accuracy: 0.7614\n",
      "Epoch 21/100\n",
      "144000/144000 [==============================] - 16s 113us/sample - loss: 0.4375 - accuracy: 0.7908 - val_loss: 0.5012 - val_accuracy: 0.7610\n",
      "Epoch 22/100\n",
      "144000/144000 [==============================] - 16s 114us/sample - loss: 0.4371 - accuracy: 0.7915 - val_loss: 0.5045 - val_accuracy: 0.7598\n",
      "Epoch 23/100\n",
      "144000/144000 [==============================] - 16s 109us/sample - loss: 0.4351 - accuracy: 0.7928 - val_loss: 0.5018 - val_accuracy: 0.7587\n",
      "Epoch 24/100\n",
      "144000/144000 [==============================] - 16s 112us/sample - loss: 0.4365 - accuracy: 0.7922 - val_loss: 0.5031 - val_accuracy: 0.7611\n",
      "Epoch 25/100\n",
      "144000/144000 [==============================] - 16s 114us/sample - loss: 0.4342 - accuracy: 0.7932 - val_loss: 0.5056 - val_accuracy: 0.7581\n",
      "Epoch 26/100\n",
      "144000/144000 [==============================] - 17s 115us/sample - loss: 0.4353 - accuracy: 0.7922 - val_loss: 0.5057 - val_accuracy: 0.7567\n",
      "Epoch 27/100\n",
      "144000/144000 [==============================] - 16s 113us/sample - loss: 0.4338 - accuracy: 0.7942 - val_loss: 0.5024 - val_accuracy: 0.7615\n",
      "Epoch 28/100\n",
      "144000/144000 [==============================] - 16s 113us/sample - loss: 0.4332 - accuracy: 0.7944 - val_loss: 0.5010 - val_accuracy: 0.7589\n",
      "Epoch 29/100\n",
      "144000/144000 [==============================] - 16s 112us/sample - loss: 0.4334 - accuracy: 0.7951 - val_loss: 0.5055 - val_accuracy: 0.7616\n",
      "Epoch 30/100\n",
      "144000/144000 [==============================] - 16s 111us/sample - loss: 0.4323 - accuracy: 0.7948 - val_loss: 0.5037 - val_accuracy: 0.7563\n",
      "Epoch 31/100\n",
      "144000/144000 [==============================] - 16s 112us/sample - loss: 0.4329 - accuracy: 0.7943 - val_loss: 0.5055 - val_accuracy: 0.7589\n",
      "Epoch 32/100\n",
      "144000/144000 [==============================] - 16s 112us/sample - loss: 0.4318 - accuracy: 0.7945 - val_loss: 0.5028 - val_accuracy: 0.7562\n",
      "Epoch 33/100\n",
      "144000/144000 [==============================] - 16s 110us/sample - loss: 0.4309 - accuracy: 0.7956 - val_loss: 0.4994 - val_accuracy: 0.7607\n",
      "Epoch 34/100\n",
      "144000/144000 [==============================] - 16s 110us/sample - loss: 0.4296 - accuracy: 0.7947 - val_loss: 0.5061 - val_accuracy: 0.7567\n",
      "Epoch 35/100\n",
      "144000/144000 [==============================] - 16s 111us/sample - loss: 0.4300 - accuracy: 0.7958 - val_loss: 0.5056 - val_accuracy: 0.7617\n",
      "Epoch 36/100\n",
      "144000/144000 [==============================] - 16s 114us/sample - loss: 0.4295 - accuracy: 0.7965 - val_loss: 0.5097 - val_accuracy: 0.7574\n",
      "Epoch 37/100\n",
      "144000/144000 [==============================] - 16s 112us/sample - loss: 0.4296 - accuracy: 0.7955 - val_loss: 0.5027 - val_accuracy: 0.7606\n",
      "Epoch 38/100\n",
      "144000/144000 [==============================] - 16s 113us/sample - loss: 0.4286 - accuracy: 0.7972 - val_loss: 0.5064 - val_accuracy: 0.7613\n",
      "Epoch 39/100\n",
      "144000/144000 [==============================] - 16s 114us/sample - loss: 0.4294 - accuracy: 0.7967 - val_loss: 0.5066 - val_accuracy: 0.7528\n",
      "Epoch 40/100\n",
      "144000/144000 [==============================] - 16s 114us/sample - loss: 0.4284 - accuracy: 0.7979 - val_loss: 0.5055 - val_accuracy: 0.7582\n",
      "Epoch 41/100\n",
      "144000/144000 [==============================] - 16s 110us/sample - loss: 0.4289 - accuracy: 0.7963 - val_loss: 0.5072 - val_accuracy: 0.7559\n",
      "Epoch 42/100\n",
      "144000/144000 [==============================] - 17s 115us/sample - loss: 0.4286 - accuracy: 0.7971 - val_loss: 0.5110 - val_accuracy: 0.7551\n",
      "Epoch 43/100\n",
      "144000/144000 [==============================] - 16s 113us/sample - loss: 0.4268 - accuracy: 0.7978 - val_loss: 0.5100 - val_accuracy: 0.7558\n",
      "Epoch 44/100\n",
      "144000/144000 [==============================] - 16s 112us/sample - loss: 0.4271 - accuracy: 0.7977 - val_loss: 0.5093 - val_accuracy: 0.7591\n",
      "Epoch 45/100\n",
      "144000/144000 [==============================] - 16s 108us/sample - loss: 0.4277 - accuracy: 0.7972 - val_loss: 0.5068 - val_accuracy: 0.7580\n",
      "Epoch 46/100\n",
      "144000/144000 [==============================] - 16s 109us/sample - loss: 0.4275 - accuracy: 0.7970 - val_loss: 0.5078 - val_accuracy: 0.7548\n",
      "Epoch 47/100\n",
      "144000/144000 [==============================] - 16s 110us/sample - loss: 0.4268 - accuracy: 0.7982 - val_loss: 0.5099 - val_accuracy: 0.7590\n",
      "Epoch 48/100\n",
      "144000/144000 [==============================] - 16s 112us/sample - loss: 0.4275 - accuracy: 0.7966 - val_loss: 0.5094 - val_accuracy: 0.7573\n",
      "Epoch 49/100\n",
      "144000/144000 [==============================] - 16s 109us/sample - loss: 0.4262 - accuracy: 0.7983 - val_loss: 0.5082 - val_accuracy: 0.7577\n",
      "Epoch 50/100\n",
      "144000/144000 [==============================] - 16s 114us/sample - loss: 0.4270 - accuracy: 0.7985 - val_loss: 0.5081 - val_accuracy: 0.7573\n",
      "Epoch 51/100\n",
      "144000/144000 [==============================] - 16s 114us/sample - loss: 0.4275 - accuracy: 0.7973 - val_loss: 0.5080 - val_accuracy: 0.7552\n",
      "Epoch 52/100\n",
      "144000/144000 [==============================] - 17s 115us/sample - loss: 0.4257 - accuracy: 0.7984 - val_loss: 0.5104 - val_accuracy: 0.7592\n",
      "Epoch 53/100\n"
     ]
    },
    {
     "name": "stdout",
     "output_type": "stream",
     "text": [
      "144000/144000 [==============================] - 17s 115us/sample - loss: 0.4248 - accuracy: 0.7998 - val_loss: 0.5090 - val_accuracy: 0.7575\n",
      "Epoch 54/100\n",
      "144000/144000 [==============================] - 16s 112us/sample - loss: 0.4255 - accuracy: 0.7982 - val_loss: 0.5086 - val_accuracy: 0.7583\n",
      "Epoch 55/100\n",
      "144000/144000 [==============================] - 16s 109us/sample - loss: 0.4244 - accuracy: 0.7994 - val_loss: 0.5116 - val_accuracy: 0.7599\n",
      "Epoch 56/100\n",
      "143744/144000 [============================>.] - ETA: 0s - loss: 0.4248 - accuracy: 0.8008\n",
      "Reached accuracy so cancelling training!\n",
      "144000/144000 [==============================] - 17s 117us/sample - loss: 0.4248 - accuracy: 0.8008 - val_loss: 0.5072 - val_accuracy: 0.7592\n"
     ]
    },
    {
     "data": {
      "text/plain": [
       "<tensorflow.python.keras.callbacks.History at 0x1806e29b508>"
      ]
     },
     "execution_count": 110,
     "metadata": {},
     "output_type": "execute_result"
    }
   ],
   "source": [
    "model.fit(X_train, y_train, epochs=100, validation_data=(X_valid, y_valid), callbacks=[myCallback()])"
   ]
  },
  {
   "cell_type": "code",
   "execution_count": null,
   "metadata": {},
   "outputs": [],
   "source": []
  }
 ],
 "metadata": {
  "kernelspec": {
   "display_name": "Python 3",
   "language": "python",
   "name": "python3"
  },
  "language_info": {
   "codemirror_mode": {
    "name": "ipython",
    "version": 3
   },
   "file_extension": ".py",
   "mimetype": "text/x-python",
   "name": "python",
   "nbconvert_exporter": "python",
   "pygments_lexer": "ipython3",
   "version": "3.7.6"
  }
 },
 "nbformat": 4,
 "nbformat_minor": 4
}
