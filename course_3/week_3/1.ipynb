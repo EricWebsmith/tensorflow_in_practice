{
 "cells": [
  {
   "cell_type": "code",
   "execution_count": 1,
   "metadata": {
    "colab": {},
    "colab_type": "code",
    "id": "hmA6EzkQJ5jt"
   },
   "outputs": [],
   "source": [
    "import json\n",
    "import tensorflow as tf\n",
    "import csv\n",
    "import random\n",
    "import numpy as np\n",
    "\n",
    "from tensorflow.keras.preprocessing.text import Tokenizer\n",
    "from tensorflow.keras.preprocessing.sequence import pad_sequences\n",
    "from tensorflow.keras.utils import to_categorical\n",
    "from tensorflow.keras import regularizers\n",
    "\n",
    "\n",
    "embedding_dim = 100\n",
    "max_length = 16\n",
    "trunc_type='post'\n",
    "padding_type='post'\n",
    "oov_tok = \"<OOV>\"\n",
    "training_size=160000\n",
    "#Your dataset size here. Experiment using smaller values (i.e. 16000), but don't forget to train on at least 160000 to see the best effects\n",
    "test_portion=.1\n",
    "\n",
    "\n"
   ]
  },
  {
   "cell_type": "code",
   "execution_count": 2,
   "metadata": {},
   "outputs": [],
   "source": [
    "\n",
    "# Note that I cleaned the Stanford dataset to remove LATIN1 encoding to make it easier for Python CSV reader\n",
    "# You can do that yourself with:\n",
    "# iconv -f LATIN1 -t UTF8 training.1600000.processed.noemoticon.csv -o training_cleaned.csv\n",
    "# I then hosted it on my site to make it easier to use in this notebook\n",
    "\n",
    "#!wget --no-check-certificate \\\n",
    "#    https://storage.googleapis.com/laurencemoroney-blog.appspot.com/training_cleaned.csv \\\n",
    "#    -O /tmp/training_cleaned.csv"
   ]
  },
  {
   "cell_type": "code",
   "execution_count": 3,
   "metadata": {
    "colab": {
     "base_uri": "https://localhost:8080/",
     "height": 204
    },
    "colab_type": "code",
    "executionInfo": {
     "elapsed": 7135,
     "status": "ok",
     "timestamp": 1559930021999,
     "user": {
      "displayName": "Laurence Moroney",
      "photoUrl": "https://lh4.googleusercontent.com/-wUzpekukCVw/AAAAAAAAAAI/AAAAAAAAAHw/pQPstOOJqqE/s64/photo.jpg",
      "userId": "17858265307580721507"
     },
     "user_tz": 420
    },
    "id": "bM0l_dORKqE0",
    "outputId": "491ba86b-f780-4355-a4be-765565a29c8c"
   },
   "outputs": [],
   "source": [
    "corpus = []\n",
    "\n",
    "num_sentences = 0\n",
    "\n",
    "with open(\"/tmp/training_cleaned/training_cleaned.csv\", encoding='utf-8') as csvfile:\n",
    "    reader = csv.reader(csvfile, delimiter=',')\n",
    "    for row in reader:\n",
    "      # Your Code here. Create list items where the first item is the text, found in row[5], and the second is the label. Note that the label is a '0' or a '4' in the text. When it's the former, make\n",
    "      # your label to be 0, otherwise 1. Keep a count of the number of sentences in num_sentences\n",
    "        list_item=[]\n",
    "        # YOUR CODE HERE\n",
    "        text = row[5]\n",
    "        label = row[0]\n",
    "        if label==\"0\":\n",
    "            label=0\n",
    "        else:\n",
    "            label=1\n",
    "        list_item=[text, label]\n",
    "        num_sentences = num_sentences + 1\n",
    "        corpus.append(list_item)\n",
    "\n",
    "\n"
   ]
  },
  {
   "cell_type": "code",
   "execution_count": 4,
   "metadata": {
    "colab": {
     "base_uri": "https://localhost:8080/",
     "height": 68
    },
    "colab_type": "code",
    "executionInfo": {
     "elapsed": 224,
     "status": "ok",
     "timestamp": 1559930024089,
     "user": {
      "displayName": "Laurence Moroney",
      "photoUrl": "https://lh4.googleusercontent.com/-wUzpekukCVw/AAAAAAAAAAI/AAAAAAAAAHw/pQPstOOJqqE/s64/photo.jpg",
      "userId": "17858265307580721507"
     },
     "user_tz": 420
    },
    "id": "3kxblBUjEUX-",
    "outputId": "3c0227a2-e74b-4d9b-cabb-f9ee150571b1"
   },
   "outputs": [
    {
     "name": "stdout",
     "output_type": "stream",
     "text": [
      "1600000\n",
      "1600000\n",
      "[\"is upset that he can't update his Facebook by texting it... and might cry as a result  School today also. Blah!\", 0]\n"
     ]
    }
   ],
   "source": [
    "print(num_sentences)\n",
    "print(len(corpus))\n",
    "print(corpus[1])\n",
    "\n",
    "# Expected Output:\n",
    "# 1600000\n",
    "# 1600000\n",
    "# [\"is upset that he can't update his Facebook by texting it... and might cry as a result  School today also. Blah!\", 0]"
   ]
  },
  {
   "cell_type": "code",
   "execution_count": 5,
   "metadata": {
    "colab": {},
    "colab_type": "code",
    "id": "ohOGz24lsNAD"
   },
   "outputs": [],
   "source": [
    "sentences=[]\n",
    "labels=[]\n",
    "random.shuffle(corpus)\n",
    "for x in range(training_size):\n",
    "    sentences.append(corpus[x][0])\n",
    "    labels.append(corpus[x][1])\n",
    "\n",
    "labels=np.asarray(labels)    \n",
    "\n",
    "tokenizer = Tokenizer()\n",
    "tokenizer.fit_on_texts(sentences)\n",
    "\n",
    "word_index = tokenizer.word_index\n",
    "vocab_size=len(word_index)\n",
    "\n",
    "sequences = tokenizer.texts_to_sequences(sentences)\n",
    "padded = np.asarray(pad_sequences(sequences, padding=padding_type, maxlen=max_length)) \n",
    "\n",
    "split = int(test_portion * training_size)\n",
    "\n",
    "test_sequences = padded[:split]\n",
    "test_labels = labels[:split]\n",
    "\n",
    "training_sequences = padded[split:training_size]\n",
    "training_labels = labels[split:training_size]"
   ]
  },
  {
   "cell_type": "code",
   "execution_count": 6,
   "metadata": {},
   "outputs": [
    {
     "data": {
      "text/plain": [
       "numpy.ndarray"
      ]
     },
     "execution_count": 6,
     "metadata": {},
     "output_type": "execute_result"
    }
   ],
   "source": [
    "type(training_labels)"
   ]
  },
  {
   "cell_type": "code",
   "execution_count": 7,
   "metadata": {
    "colab": {
     "base_uri": "https://localhost:8080/",
     "height": 51
    },
    "colab_type": "code",
    "executionInfo": {
     "elapsed": 209,
     "status": "ok",
     "timestamp": 1559930100077,
     "user": {
      "displayName": "Laurence Moroney",
      "photoUrl": "https://lh4.googleusercontent.com/-wUzpekukCVw/AAAAAAAAAAI/AAAAAAAAAHw/pQPstOOJqqE/s64/photo.jpg",
      "userId": "17858265307580721507"
     },
     "user_tz": 420
    },
    "id": "gIrtRem1En3N",
    "outputId": "4ad8401c-8dba-420d-8aee-38dac0b0839a"
   },
   "outputs": [
    {
     "name": "stdout",
     "output_type": "stream",
     "text": [
      "138682\n",
      "1\n"
     ]
    }
   ],
   "source": [
    "print(vocab_size)\n",
    "print(word_index['i'])\n",
    "# Expected Output\n",
    "# 138858\n",
    "# 1"
   ]
  },
  {
   "cell_type": "code",
   "execution_count": 8,
   "metadata": {},
   "outputs": [],
   "source": [
    "# Note this is the 100 dimension version of GloVe from Stanford\n",
    "# I unzipped and hosted it on my site to make this notebook easier\n",
    "#!wget --no-check-certificate \\\n",
    "#    https://storage.googleapis.com/laurencemoroney-blog.appspot.com/glove.6B.100d.txt \\\n",
    "#    -O /tmp/glove.6B.100d.txt"
   ]
  },
  {
   "cell_type": "code",
   "execution_count": 9,
   "metadata": {
    "colab": {
     "base_uri": "https://localhost:8080/",
     "height": 204
    },
    "colab_type": "code",
    "executionInfo": {
     "elapsed": 13089,
     "status": "ok",
     "timestamp": 1559930143373,
     "user": {
      "displayName": "Laurence Moroney",
      "photoUrl": "https://lh4.googleusercontent.com/-wUzpekukCVw/AAAAAAAAAAI/AAAAAAAAAHw/pQPstOOJqqE/s64/photo.jpg",
      "userId": "17858265307580721507"
     },
     "user_tz": 420
    },
    "id": "C1zdgJkusRh0",
    "outputId": "b6edd322-8191-45e7-cb12-08921685a72f"
   },
   "outputs": [],
   "source": [
    "\n",
    "embeddings_index = {};\n",
    "with open('/tmp/glove.6B.100d.txt', encoding='utf-8') as f:\n",
    "    for line in f:\n",
    "        values = line.split();\n",
    "        word = values[0];\n",
    "        coefs = np.asarray(values[1:], dtype='float32');\n",
    "        embeddings_index[word] = coefs;\n",
    "\n",
    "embeddings_matrix = np.zeros((vocab_size+1, embedding_dim));\n",
    "for word, i in word_index.items():\n",
    "    #print(word)\n",
    "    embedding_vector = embeddings_index.get(word);\n",
    "    if embedding_vector is not None:\n",
    "        embeddings_matrix[i] = embedding_vector;"
   ]
  },
  {
   "cell_type": "code",
   "execution_count": 10,
   "metadata": {
    "colab": {
     "base_uri": "https://localhost:8080/",
     "height": 34
    },
    "colab_type": "code",
    "executionInfo": {
     "elapsed": 193,
     "status": "ok",
     "timestamp": 1559930211883,
     "user": {
      "displayName": "Laurence Moroney",
      "photoUrl": "https://lh4.googleusercontent.com/-wUzpekukCVw/AAAAAAAAAAI/AAAAAAAAAHw/pQPstOOJqqE/s64/photo.jpg",
      "userId": "17858265307580721507"
     },
     "user_tz": 420
    },
    "id": "71NLk_lpFLNt",
    "outputId": "97cb88db-754f-4375-fdc3-876cd6b4fdce"
   },
   "outputs": [
    {
     "name": "stdout",
     "output_type": "stream",
     "text": [
      "138683\n"
     ]
    }
   ],
   "source": [
    "print(len(embeddings_matrix))\n",
    "# Expected Output\n",
    "# 138859"
   ]
  },
  {
   "cell_type": "code",
   "execution_count": 11,
   "metadata": {
    "colab": {},
    "colab_type": "code",
    "id": "iKKvbuEBOGFz"
   },
   "outputs": [
    {
     "name": "stdout",
     "output_type": "stream",
     "text": [
      "Model: \"sequential\"\n",
      "_________________________________________________________________\n",
      "Layer (type)                 Output Shape              Param #   \n",
      "=================================================================\n",
      "embedding (Embedding)        (None, 16, 100)           13868300  \n",
      "_________________________________________________________________\n",
      "dropout (Dropout)            (None, 16, 100)           0         \n",
      "_________________________________________________________________\n",
      "conv1d (Conv1D)              (None, 12, 65)            32565     \n",
      "_________________________________________________________________\n",
      "max_pooling1d (MaxPooling1D) (None, 3, 65)             0         \n",
      "_________________________________________________________________\n",
      "lstm (LSTM)                  (None, 64)                33280     \n",
      "_________________________________________________________________\n",
      "dense (Dense)                (None, 1)                 65        \n",
      "=================================================================\n",
      "Total params: 13,934,210\n",
      "Trainable params: 65,910\n",
      "Non-trainable params: 13,868,300\n",
      "_________________________________________________________________\n"
     ]
    }
   ],
   "source": [
    "model = tf.keras.Sequential([\n",
    "    tf.keras.layers.Embedding(vocab_size+1, embedding_dim, input_length=max_length, weights=[embeddings_matrix], trainable=False),\n",
    "    # YOUR CODE HERE - experiment with combining different types, such as convolutions and LSTMs\n",
    "    tf.keras.layers.Dropout(0.2),\n",
    "    tf.keras.layers.Conv1D(65, 5, activation='relu'),\n",
    "    tf.keras.layers.MaxPool1D(pool_size=4),\n",
    "    tf.keras.layers.LSTM(64),\n",
    "    tf.keras.layers.Dense(1, activation='sigmoid')\n",
    "])\n",
    "model.compile(loss='binary_crossentropy', optimizer='adam', metrics=['accuracy'])\n",
    "model.summary()\n",
    "\n",
    "\n"
   ]
  },
  {
   "cell_type": "code",
   "execution_count": 12,
   "metadata": {},
   "outputs": [
    {
     "name": "stdout",
     "output_type": "stream",
     "text": [
      "Epoch 1/50\n",
      "4500/4500 - 15s - loss: 0.5655 - accuracy: 0.7023 - val_loss: 0.5273 - val_accuracy: 0.7321\n",
      "Epoch 2/50\n",
      "4500/4500 - 14s - loss: 0.5246 - accuracy: 0.7334 - val_loss: 0.5038 - val_accuracy: 0.7479\n",
      "Epoch 3/50\n",
      "4500/4500 - 14s - loss: 0.5067 - accuracy: 0.7481 - val_loss: 0.4974 - val_accuracy: 0.7555\n",
      "Epoch 4/50\n",
      "4500/4500 - 14s - loss: 0.4942 - accuracy: 0.7559 - val_loss: 0.4908 - val_accuracy: 0.7590\n",
      "Epoch 5/50\n",
      "4500/4500 - 14s - loss: 0.4865 - accuracy: 0.7604 - val_loss: 0.4936 - val_accuracy: 0.7592\n",
      "Epoch 6/50\n",
      "4500/4500 - 14s - loss: 0.4782 - accuracy: 0.7662 - val_loss: 0.4898 - val_accuracy: 0.7611\n",
      "Epoch 7/50\n",
      "4500/4500 - 14s - loss: 0.4712 - accuracy: 0.7712 - val_loss: 0.4863 - val_accuracy: 0.7621\n",
      "Epoch 8/50\n",
      "4500/4500 - 14s - loss: 0.4678 - accuracy: 0.7733 - val_loss: 0.4912 - val_accuracy: 0.7620\n",
      "Epoch 9/50\n",
      "4500/4500 - 14s - loss: 0.4639 - accuracy: 0.7764 - val_loss: 0.4970 - val_accuracy: 0.7626\n",
      "Epoch 10/50\n",
      "4500/4500 - 14s - loss: 0.4615 - accuracy: 0.7773 - val_loss: 0.4892 - val_accuracy: 0.7630\n",
      "Epoch 11/50\n",
      "4500/4500 - 14s - loss: 0.4559 - accuracy: 0.7804 - val_loss: 0.4917 - val_accuracy: 0.7617\n",
      "Epoch 12/50\n",
      "4500/4500 - 16s - loss: 0.4533 - accuracy: 0.7813 - val_loss: 0.4921 - val_accuracy: 0.7613\n",
      "Epoch 13/50\n",
      "4500/4500 - 14s - loss: 0.4510 - accuracy: 0.7826 - val_loss: 0.4957 - val_accuracy: 0.7598\n",
      "Epoch 14/50\n",
      "4500/4500 - 14s - loss: 0.4480 - accuracy: 0.7851 - val_loss: 0.4907 - val_accuracy: 0.7634\n",
      "Epoch 15/50\n",
      "4500/4500 - 14s - loss: 0.4455 - accuracy: 0.7873 - val_loss: 0.4921 - val_accuracy: 0.7618\n",
      "Epoch 16/50\n",
      "4500/4500 - 14s - loss: 0.4455 - accuracy: 0.7870 - val_loss: 0.4941 - val_accuracy: 0.7619\n",
      "Epoch 17/50\n",
      "4500/4500 - 15s - loss: 0.4417 - accuracy: 0.7897 - val_loss: 0.4927 - val_accuracy: 0.7623\n",
      "Epoch 18/50\n",
      "4500/4500 - 15s - loss: 0.4409 - accuracy: 0.7887 - val_loss: 0.5011 - val_accuracy: 0.7607\n",
      "Epoch 19/50\n",
      "4500/4500 - 15s - loss: 0.4390 - accuracy: 0.7903 - val_loss: 0.5006 - val_accuracy: 0.7602\n",
      "Epoch 20/50\n",
      "4500/4500 - 14s - loss: 0.4380 - accuracy: 0.7914 - val_loss: 0.4974 - val_accuracy: 0.7637\n",
      "Epoch 21/50\n",
      "4500/4500 - 15s - loss: 0.4352 - accuracy: 0.7927 - val_loss: 0.5007 - val_accuracy: 0.7599\n",
      "Epoch 22/50\n",
      "4500/4500 - 17s - loss: 0.4358 - accuracy: 0.7920 - val_loss: 0.4987 - val_accuracy: 0.7607\n",
      "Epoch 23/50\n",
      "4500/4500 - 15s - loss: 0.4345 - accuracy: 0.7938 - val_loss: 0.5023 - val_accuracy: 0.7601\n",
      "Epoch 24/50\n",
      "4500/4500 - 14s - loss: 0.4336 - accuracy: 0.7941 - val_loss: 0.4992 - val_accuracy: 0.7617\n",
      "Epoch 25/50\n",
      "4500/4500 - 14s - loss: 0.4325 - accuracy: 0.7944 - val_loss: 0.5005 - val_accuracy: 0.7582\n",
      "Epoch 26/50\n",
      "4500/4500 - 15s - loss: 0.4334 - accuracy: 0.7936 - val_loss: 0.5024 - val_accuracy: 0.7601\n",
      "Epoch 27/50\n",
      "4500/4500 - 17s - loss: 0.4319 - accuracy: 0.7943 - val_loss: 0.5062 - val_accuracy: 0.7566\n",
      "Epoch 28/50\n",
      "4500/4500 - 16s - loss: 0.4315 - accuracy: 0.7954 - val_loss: 0.5027 - val_accuracy: 0.7619\n",
      "Epoch 29/50\n",
      "4500/4500 - 14s - loss: 0.4309 - accuracy: 0.7941 - val_loss: 0.4988 - val_accuracy: 0.7595\n",
      "Epoch 30/50\n",
      "4500/4500 - 15s - loss: 0.4291 - accuracy: 0.7953 - val_loss: 0.5015 - val_accuracy: 0.7587\n",
      "Epoch 31/50\n",
      "4500/4500 - 15s - loss: 0.4295 - accuracy: 0.7959 - val_loss: 0.5029 - val_accuracy: 0.7613\n",
      "Epoch 32/50\n",
      "4500/4500 - 14s - loss: 0.4273 - accuracy: 0.7970 - val_loss: 0.5043 - val_accuracy: 0.7601\n",
      "Epoch 33/50\n",
      "4500/4500 - 14s - loss: 0.4265 - accuracy: 0.7976 - val_loss: 0.5062 - val_accuracy: 0.7570\n",
      "Epoch 34/50\n",
      "4500/4500 - 14s - loss: 0.4279 - accuracy: 0.7969 - val_loss: 0.5059 - val_accuracy: 0.7602\n",
      "Epoch 35/50\n",
      "4500/4500 - 15s - loss: 0.4273 - accuracy: 0.7982 - val_loss: 0.5049 - val_accuracy: 0.7623\n",
      "Epoch 36/50\n",
      "4500/4500 - 14s - loss: 0.4259 - accuracy: 0.7988 - val_loss: 0.5054 - val_accuracy: 0.7599\n",
      "Epoch 37/50\n",
      "4500/4500 - 15s - loss: 0.4252 - accuracy: 0.7984 - val_loss: 0.5096 - val_accuracy: 0.7589\n",
      "Epoch 38/50\n",
      "4500/4500 - 14s - loss: 0.4251 - accuracy: 0.7978 - val_loss: 0.5109 - val_accuracy: 0.7593\n",
      "Epoch 39/50\n",
      "4500/4500 - 14s - loss: 0.4252 - accuracy: 0.7988 - val_loss: 0.5067 - val_accuracy: 0.7608\n",
      "Epoch 40/50\n",
      "4500/4500 - 15s - loss: 0.4249 - accuracy: 0.7997 - val_loss: 0.5076 - val_accuracy: 0.7613\n",
      "Epoch 41/50\n",
      "4500/4500 - 15s - loss: 0.4243 - accuracy: 0.7991 - val_loss: 0.5077 - val_accuracy: 0.7563\n",
      "Epoch 42/50\n",
      "4500/4500 - 15s - loss: 0.4240 - accuracy: 0.7994 - val_loss: 0.5073 - val_accuracy: 0.7624\n",
      "Epoch 43/50\n",
      "4500/4500 - 15s - loss: 0.4240 - accuracy: 0.7999 - val_loss: 0.5042 - val_accuracy: 0.7656\n",
      "Epoch 44/50\n",
      "4500/4500 - 15s - loss: 0.4243 - accuracy: 0.7998 - val_loss: 0.5063 - val_accuracy: 0.7591\n",
      "Epoch 45/50\n",
      "4500/4500 - 16s - loss: 0.4242 - accuracy: 0.8002 - val_loss: 0.5109 - val_accuracy: 0.7606\n",
      "Epoch 46/50\n",
      "4500/4500 - 16s - loss: 0.4218 - accuracy: 0.7998 - val_loss: 0.5100 - val_accuracy: 0.7602\n",
      "Epoch 47/50\n",
      "4500/4500 - 16s - loss: 0.4220 - accuracy: 0.8000 - val_loss: 0.5077 - val_accuracy: 0.7594\n",
      "Epoch 48/50\n",
      "4500/4500 - 15s - loss: 0.4220 - accuracy: 0.8001 - val_loss: 0.5076 - val_accuracy: 0.7577\n",
      "Epoch 49/50\n",
      "4500/4500 - 15s - loss: 0.4223 - accuracy: 0.8008 - val_loss: 0.5097 - val_accuracy: 0.7570\n",
      "Epoch 50/50\n",
      "4500/4500 - 15s - loss: 0.4222 - accuracy: 0.8006 - val_loss: 0.5059 - val_accuracy: 0.7577\n",
      "Training Complete\n"
     ]
    }
   ],
   "source": [
    "num_epochs = 50\n",
    "history = model.fit(\n",
    "    training_sequences, training_labels, \n",
    "    epochs=num_epochs, \n",
    "    validation_data=(test_sequences, test_labels), verbose=2)\n",
    "\n",
    "print(\"Training Complete\")"
   ]
  },
  {
   "cell_type": "code",
   "execution_count": 14,
   "metadata": {
    "colab": {},
    "colab_type": "code",
    "id": "qxju4ItJKO8F"
   },
   "outputs": [
    {
     "data": {
      "text/plain": [
       "<Figure size 432x288 with 0 Axes>"
      ]
     },
     "execution_count": 14,
     "metadata": {},
     "output_type": "execute_result"
    },
    {
     "data": {
      "image/png": "[encoded data removed]",
      "text/plain": [
       "<Figure size 432x288 with 1 Axes>"
      ]
     },
     "metadata": {
      "needs_background": "light"
     },
     "output_type": "display_data"
    },
    {
     "data": {
      "image/png": "[encoded data removed]",
      "text/plain": [
       "<Figure size 432x288 with 1 Axes>"
      ]
     },
     "metadata": {
      "needs_background": "light"
     },
     "output_type": "display_data"
    },
    {
     "data": {
      "text/plain": [
       "<Figure size 432x288 with 0 Axes>"
      ]
     },
     "metadata": {},
     "output_type": "display_data"
    }
   ],
   "source": [
    "import matplotlib.image  as mpimg\n",
    "import matplotlib.pyplot as plt\n",
    "\n",
    "#-----------------------------------------------------------\n",
    "# Retrieve a list of list results on training and test data\n",
    "# sets for each training epoch\n",
    "#-----------------------------------------------------------\n",
    "acc=history.history['accuracy']\n",
    "val_acc=history.history['val_accuracy']\n",
    "loss=history.history['loss']\n",
    "val_loss=history.history['val_loss']\n",
    "\n",
    "epochs=range(len(acc)) # Get number of epochs\n",
    "\n",
    "#------------------------------------------------\n",
    "# Plot training and validation accuracy per epoch\n",
    "#------------------------------------------------\n",
    "plt.plot(epochs, acc, 'r')\n",
    "plt.plot(epochs, val_acc, 'b')\n",
    "plt.title('Training and validation accuracy')\n",
    "plt.xlabel(\"Epochs\")\n",
    "plt.ylabel(\"Accuracy\")\n",
    "plt.legend([\"Accuracy\", \"Validation Accuracy\"])\n",
    "\n",
    "plt.figure()\n",
    "\n",
    "#------------------------------------------------\n",
    "# Plot training and validation loss per epoch\n",
    "#------------------------------------------------\n",
    "plt.plot(epochs, loss, 'r')\n",
    "plt.plot(epochs, val_loss, 'b')\n",
    "plt.title('Training and validation loss')\n",
    "plt.xlabel(\"Epochs\")\n",
    "plt.ylabel(\"Loss\")\n",
    "plt.legend([\"Loss\", \"Validation Loss\"])\n",
    "\n",
    "plt.figure()\n",
    "\n",
    "\n",
    "# Expected Output\n",
    "# A chart where the validation loss does not increase sharply!"
   ]
  },
  {
   "cell_type": "code",
   "execution_count": null,
   "metadata": {},
   "outputs": [],
   "source": []
  }
 ],
 "metadata": {
  "accelerator": "GPU",
  "colab": {
   "name": "NLP Course - Week 3 Exercise Question.ipynb",
   "provenance": [
    {
     "file_id": "1bEdiniaTOd2jRxqGDoluQKXTRmYGJUy0",
     "timestamp": 1559930374235
    }
   ],
   "version": "0.3.2"
  },
  "kernelspec": {
   "display_name": "Python 3",
   "language": "python",
   "name": "python3"
  },
  "language_info": {
   "codemirror_mode": {
    "name": "ipython",
    "version": 3
   },
   "file_extension": ".py",
   "mimetype": "text/x-python",
   "name": "python",
   "nbconvert_exporter": "python",
   "pygments_lexer": "ipython3",
   "version": "3.7.6"
  }
 },
 "nbformat": 4,
 "nbformat_minor": 1
}
