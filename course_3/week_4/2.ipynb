{
 "cells": [
  {
   "cell_type": "code",
   "execution_count": 3,
   "metadata": {
    "colab": {},
    "colab_type": "code",
    "id": "BOwsuGQQY9OL"
   },
   "outputs": [],
   "source": [
    "from tensorflow.keras.preprocessing.sequence import pad_sequences\n",
    "from tensorflow.keras.layers import Embedding, LSTM, Dense, Dropout, Bidirectional\n",
    "from tensorflow.keras.preprocessing.text import Tokenizer\n",
    "from tensorflow.keras.models import Sequential\n",
    "from tensorflow.keras.optimizers import Adam\n",
    "\n",
    "import tensorflow.keras.utils as ku \n",
    "import numpy as np "
   ]
  },
  {
   "cell_type": "code",
   "execution_count": 4,
   "metadata": {},
   "outputs": [],
   "source": [
    "### YOUR CODE HERE\n",
    "# Figure out how to import regularizers\n",
    "###\n",
    "from tensorflow.keras import regularizers"
   ]
  },
  {
   "cell_type": "code",
   "execution_count": 5,
   "metadata": {},
   "outputs": [],
   "source": [
    "# !wget --no-check-certificate \\\n",
    "#     https://storage.googleapis.com/laurencemoroney-blog.appspot.com/sonnets.txt \\\n",
    "#     -O /tmp/sonnets.txt"
   ]
  },
  {
   "cell_type": "code",
   "execution_count": null,
   "metadata": {},
   "outputs": [],
   "source": []
  },
  {
   "cell_type": "code",
   "execution_count": 6,
   "metadata": {
    "colab": {},
    "colab_type": "code",
    "id": "PRnDnCW-Z7qv"
   },
   "outputs": [],
   "source": [
    "tokenizer = Tokenizer()\n",
    "\n",
    "data = open('/tmp/sonnets/sonnets.txt').read()\n",
    "\n",
    "corpus = data.lower().split(\"\\n\")\n",
    "\n",
    "\n",
    "tokenizer.fit_on_texts(corpus)\n",
    "total_words = len(tokenizer.word_index) + 1\n",
    "\n",
    "# create input sequences using list of tokens\n",
    "input_sequences = []\n",
    "for line in corpus:\n",
    "    token_list = tokenizer.texts_to_sequences([line])[0]\n",
    "    for i in range(1, len(token_list)):\n",
    "        n_gram_sequence = token_list[:i+1]\n",
    "        input_sequences.append(n_gram_sequence)\n",
    "\n",
    "\n",
    "# pad sequences \n",
    "max_sequence_len = max([len(x) for x in input_sequences])\n",
    "input_sequences = np.array(pad_sequences(input_sequences, maxlen=max_sequence_len, padding='pre'))\n",
    "\n",
    "# create predictors and label\n",
    "predictors, label = input_sequences[:,:-1],input_sequences[:,-1]\n",
    "\n",
    "label = ku.to_categorical(label, num_classes=total_words)"
   ]
  },
  {
   "cell_type": "code",
   "execution_count": 13,
   "metadata": {},
   "outputs": [
    {
     "data": {
      "text/plain": [
       "(15462, 10)"
      ]
     },
     "execution_count": 13,
     "metadata": {},
     "output_type": "execute_result"
    }
   ],
   "source": [
    "predictors.shape"
   ]
  },
  {
   "cell_type": "code",
   "execution_count": 15,
   "metadata": {},
   "outputs": [
    {
     "data": {
      "text/plain": [
       "11"
      ]
     },
     "execution_count": 15,
     "metadata": {},
     "output_type": "execute_result"
    }
   ],
   "source": [
    "max_sequence_len"
   ]
  },
  {
   "cell_type": "code",
   "execution_count": 14,
   "metadata": {},
   "outputs": [
    {
     "data": {
      "text/plain": [
       "(15462, 3211)"
      ]
     },
     "execution_count": 14,
     "metadata": {},
     "output_type": "execute_result"
    }
   ],
   "source": [
    "label.shape"
   ]
  },
  {
   "cell_type": "code",
   "execution_count": 18,
   "metadata": {
    "colab": {},
    "colab_type": "code",
    "id": "w9vH8Y59ajYL"
   },
   "outputs": [
    {
     "name": "stdout",
     "output_type": "stream",
     "text": [
      "Model: \"sequential_4\"\n",
      "_________________________________________________________________\n",
      "Layer (type)                 Output Shape              Param #   \n",
      "=================================================================\n",
      "embedding_4 (Embedding)      (None, 10, 64)            205504    \n",
      "_________________________________________________________________\n",
      "bidirectional (Bidirectional (None, 10, 256)           197632    \n",
      "_________________________________________________________________\n",
      "dropout_4 (Dropout)          (None, 10, 256)           0         \n",
      "_________________________________________________________________\n",
      "lstm_9 (LSTM)                (None, 64)                82176     \n",
      "_________________________________________________________________\n",
      "dense_8 (Dense)              (None, 1024)              66560     \n",
      "_________________________________________________________________\n",
      "dense_9 (Dense)              (None, 3211)              3291275   \n",
      "=================================================================\n",
      "Total params: 3,843,147\n",
      "Trainable params: 3,843,147\n",
      "Non-trainable params: 0\n",
      "_________________________________________________________________\n",
      "None\n"
     ]
    }
   ],
   "source": [
    "model = Sequential()\n",
    "model.add(Embedding(total_words, 64, input_length=10))\n",
    "model.add(Bidirectional(LSTM(128, return_sequences=True)))\n",
    "model.add(Dropout(0.2))\n",
    "model.add(LSTM(64))\n",
    "model.add(Dense(1024, activation='relu', kernel_regularizer=regularizers.l2()))\n",
    "model.add(Dense(total_words, activation='softmax'))\n",
    "# Pick an optimizer\n",
    "model.compile(loss='categorical_crossentropy', optimizer='adam', metrics=['accuracy'])\n",
    "print(model.summary())\n"
   ]
  },
  {
   "cell_type": "code",
   "execution_count": null,
   "metadata": {},
   "outputs": [],
   "source": []
  },
  {
   "cell_type": "code",
   "execution_count": 19,
   "metadata": {
    "colab": {},
    "colab_type": "code",
    "id": "AIg2f1HBxqof"
   },
   "outputs": [
    {
     "name": "stdout",
     "output_type": "stream",
     "text": [
      "Epoch 1/100\n",
      "484/484 [==============================] - 4s 9ms/step - loss: 6.8974 - accuracy: 0.0228\n",
      "Epoch 2/100\n",
      "484/484 [==============================] - 4s 9ms/step - loss: 6.5019 - accuracy: 0.0221\n",
      "Epoch 3/100\n",
      "484/484 [==============================] - 4s 9ms/step - loss: 6.4209 - accuracy: 0.0241\n",
      "Epoch 4/100\n",
      "484/484 [==============================] - 4s 9ms/step - loss: 6.3249 - accuracy: 0.0273\n",
      "Epoch 5/100\n",
      "484/484 [==============================] - 5s 9ms/step - loss: 6.2319 - accuracy: 0.0319\n",
      "Epoch 6/100\n",
      "484/484 [==============================] - 4s 9ms/step - loss: 6.1615 - accuracy: 0.0348\n",
      "Epoch 7/100\n",
      "484/484 [==============================] - 4s 9ms/step - loss: 6.0905 - accuracy: 0.0382\n",
      "Epoch 8/100\n",
      "484/484 [==============================] - 4s 9ms/step - loss: 6.0244 - accuracy: 0.0409\n",
      "Epoch 9/100\n",
      "484/484 [==============================] - 4s 9ms/step - loss: 5.9546 - accuracy: 0.0445\n",
      "Epoch 10/100\n",
      "484/484 [==============================] - 4s 9ms/step - loss: 5.8781 - accuracy: 0.0482\n",
      "Epoch 11/100\n",
      "484/484 [==============================] - 4s 9ms/step - loss: 5.7890 - accuracy: 0.0545\n",
      "Epoch 12/100\n",
      "484/484 [==============================] - 4s 9ms/step - loss: 5.7021 - accuracy: 0.0586\n",
      "Epoch 13/100\n",
      "484/484 [==============================] - 4s 9ms/step - loss: 5.6152 - accuracy: 0.0630\n",
      "Epoch 14/100\n",
      "484/484 [==============================] - 4s 9ms/step - loss: 5.5405 - accuracy: 0.0656\n",
      "Epoch 15/100\n",
      "484/484 [==============================] - 5s 10ms/step - loss: 5.4599 - accuracy: 0.0706\n",
      "Epoch 16/100\n",
      "484/484 [==============================] - 5s 10ms/step - loss: 5.3822 - accuracy: 0.0738\n",
      "Epoch 17/100\n",
      "484/484 [==============================] - 4s 9ms/step - loss: 5.3110 - accuracy: 0.0792\n",
      "Epoch 18/100\n",
      "484/484 [==============================] - 4s 9ms/step - loss: 5.2328 - accuracy: 0.0830\n",
      "Epoch 19/100\n",
      "484/484 [==============================] - 4s 9ms/step - loss: 5.1576 - accuracy: 0.0885\n",
      "Epoch 20/100\n",
      "484/484 [==============================] - 5s 9ms/step - loss: 5.0793 - accuracy: 0.0925\n",
      "Epoch 21/100\n",
      "484/484 [==============================] - 5s 9ms/step - loss: 5.0060 - accuracy: 0.0985\n",
      "Epoch 22/100\n",
      "484/484 [==============================] - 5s 9ms/step - loss: 4.9355 - accuracy: 0.1010\n",
      "Epoch 23/100\n",
      "484/484 [==============================] - 4s 9ms/step - loss: 4.8571 - accuracy: 0.1094\n",
      "Epoch 24/100\n",
      "484/484 [==============================] - 4s 9ms/step - loss: 4.7854 - accuracy: 0.1132\n",
      "Epoch 25/100\n",
      "484/484 [==============================] - 5s 10ms/step - loss: 4.7112 - accuracy: 0.1193\n",
      "Epoch 26/100\n",
      "484/484 [==============================] - 5s 10ms/step - loss: 4.6345 - accuracy: 0.1251\n",
      "Epoch 27/100\n",
      "484/484 [==============================] - 5s 9ms/step - loss: 4.5663 - accuracy: 0.1315\n",
      "Epoch 28/100\n",
      "484/484 [==============================] - 5s 9ms/step - loss: 4.4934 - accuracy: 0.1380\n",
      "Epoch 29/100\n",
      "484/484 [==============================] - 4s 9ms/step - loss: 4.4254 - accuracy: 0.1454\n",
      "Epoch 30/100\n",
      "484/484 [==============================] - 4s 9ms/step - loss: 4.3527 - accuracy: 0.1556\n",
      "Epoch 31/100\n",
      "484/484 [==============================] - 4s 9ms/step - loss: 4.2815 - accuracy: 0.1623\n",
      "Epoch 32/100\n",
      "484/484 [==============================] - 5s 9ms/step - loss: 4.2164 - accuracy: 0.1677\n",
      "Epoch 33/100\n",
      "484/484 [==============================] - 5s 10ms/step - loss: 4.1510 - accuracy: 0.1773\n",
      "Epoch 34/100\n",
      "484/484 [==============================] - 5s 9ms/step - loss: 4.0861 - accuracy: 0.1865\n",
      "Epoch 35/100\n",
      "484/484 [==============================] - 4s 9ms/step - loss: 4.0202 - accuracy: 0.1973\n",
      "Epoch 36/100\n",
      "484/484 [==============================] - 5s 10ms/step - loss: 3.9576 - accuracy: 0.2074\n",
      "Epoch 37/100\n",
      "484/484 [==============================] - 5s 9ms/step - loss: 3.8985 - accuracy: 0.2192\n",
      "Epoch 38/100\n",
      "484/484 [==============================] - 5s 9ms/step - loss: 3.8379 - accuracy: 0.2294\n",
      "Epoch 39/100\n",
      "484/484 [==============================] - 4s 9ms/step - loss: 3.7744 - accuracy: 0.2381\n",
      "Epoch 40/100\n",
      "484/484 [==============================] - 4s 9ms/step - loss: 3.7199 - accuracy: 0.2482\n",
      "Epoch 41/100\n",
      "484/484 [==============================] - 4s 9ms/step - loss: 3.6633 - accuracy: 0.2644\n",
      "Epoch 42/100\n",
      "484/484 [==============================] - 5s 9ms/step - loss: 3.6037 - accuracy: 0.2742\n",
      "Epoch 43/100\n",
      "484/484 [==============================] - 5s 9ms/step - loss: 3.5551 - accuracy: 0.2824\n",
      "Epoch 44/100\n",
      "484/484 [==============================] - 4s 9ms/step - loss: 3.4978 - accuracy: 0.2961\n",
      "Epoch 45/100\n",
      "484/484 [==============================] - 5s 9ms/step - loss: 3.4564 - accuracy: 0.2993\n",
      "Epoch 46/100\n",
      "484/484 [==============================] - 5s 9ms/step - loss: 3.3990 - accuracy: 0.3140\n",
      "Epoch 47/100\n",
      "484/484 [==============================] - 5s 10ms/step - loss: 3.3458 - accuracy: 0.3271\n",
      "Epoch 48/100\n",
      "484/484 [==============================] - 5s 9ms/step - loss: 3.3137 - accuracy: 0.3300\n",
      "Epoch 49/100\n",
      "484/484 [==============================] - 5s 9ms/step - loss: 3.2664 - accuracy: 0.3417\n",
      "Epoch 50/100\n",
      "484/484 [==============================] - 4s 9ms/step - loss: 3.2070 - accuracy: 0.3558\n",
      "Epoch 51/100\n",
      "484/484 [==============================] - 4s 9ms/step - loss: 3.1654 - accuracy: 0.3646\n",
      "Epoch 52/100\n",
      "484/484 [==============================] - 5s 9ms/step - loss: 3.1259 - accuracy: 0.3698\n",
      "Epoch 53/100\n",
      "484/484 [==============================] - 4s 9ms/step - loss: 3.0780 - accuracy: 0.3851\n",
      "Epoch 54/100\n",
      "484/484 [==============================] - 4s 9ms/step - loss: 3.0339 - accuracy: 0.3925\n",
      "Epoch 55/100\n",
      "484/484 [==============================] - 4s 9ms/step - loss: 2.9860 - accuracy: 0.4018\n",
      "Epoch 56/100\n",
      "484/484 [==============================] - 5s 9ms/step - loss: 2.9522 - accuracy: 0.4100\n",
      "Epoch 57/100\n",
      "484/484 [==============================] - 5s 9ms/step - loss: 2.9214 - accuracy: 0.4168\n",
      "Epoch 58/100\n",
      "484/484 [==============================] - 4s 9ms/step - loss: 2.8625 - accuracy: 0.4320\n",
      "Epoch 59/100\n",
      "484/484 [==============================] - 4s 9ms/step - loss: 2.8199 - accuracy: 0.4389\n",
      "Epoch 60/100\n",
      "484/484 [==============================] - 4s 9ms/step - loss: 2.7999 - accuracy: 0.4455\n",
      "Epoch 61/100\n",
      "484/484 [==============================] - 4s 9ms/step - loss: 2.7554 - accuracy: 0.4557\n",
      "Epoch 62/100\n",
      "484/484 [==============================] - 4s 9ms/step - loss: 2.7193 - accuracy: 0.4587\n",
      "Epoch 63/100\n",
      "484/484 [==============================] - 5s 10ms/step - loss: 2.6766 - accuracy: 0.4732\n",
      "Epoch 64/100\n",
      "484/484 [==============================] - 4s 9ms/step - loss: 2.6435 - accuracy: 0.4796\n",
      "Epoch 65/100\n",
      "484/484 [==============================] - 4s 9ms/step - loss: 2.6147 - accuracy: 0.4864\n",
      "Epoch 66/100\n",
      "484/484 [==============================] - 5s 9ms/step - loss: 2.5813 - accuracy: 0.4944\n",
      "Epoch 67/100\n",
      "484/484 [==============================] - 4s 9ms/step - loss: 2.5519 - accuracy: 0.4999\n",
      "Epoch 68/100\n",
      "484/484 [==============================] - 4s 9ms/step - loss: 2.5101 - accuracy: 0.5084\n",
      "Epoch 69/100\n",
      "484/484 [==============================] - 4s 9ms/step - loss: 2.4867 - accuracy: 0.5158\n",
      "Epoch 70/100\n",
      "484/484 [==============================] - 4s 9ms/step - loss: 2.4404 - accuracy: 0.5255\n",
      "Epoch 71/100\n",
      "484/484 [==============================] - 4s 9ms/step - loss: 2.4241 - accuracy: 0.5305\n",
      "Epoch 72/100\n",
      "484/484 [==============================] - 4s 9ms/step - loss: 2.3923 - accuracy: 0.5349\n",
      "Epoch 73/100\n",
      "484/484 [==============================] - 4s 9ms/step - loss: 2.3681 - accuracy: 0.5379\n",
      "Epoch 74/100\n",
      "484/484 [==============================] - 4s 9ms/step - loss: 2.3313 - accuracy: 0.5475\n",
      "Epoch 75/100\n",
      "484/484 [==============================] - 5s 10ms/step - loss: 2.3005 - accuracy: 0.5564\n",
      "Epoch 76/100\n",
      "484/484 [==============================] - 4s 9ms/step - loss: 2.2736 - accuracy: 0.5618\n",
      "Epoch 77/100\n",
      "484/484 [==============================] - 4s 9ms/step - loss: 2.2378 - accuracy: 0.5723\n",
      "Epoch 78/100\n",
      "484/484 [==============================] - 4s 9ms/step - loss: 2.2110 - accuracy: 0.5772\n",
      "Epoch 79/100\n",
      "484/484 [==============================] - 4s 9ms/step - loss: 2.1953 - accuracy: 0.5790\n",
      "Epoch 80/100\n",
      "484/484 [==============================] - 4s 9ms/step - loss: 2.1690 - accuracy: 0.5861\n",
      "Epoch 81/100\n",
      "484/484 [==============================] - 5s 9ms/step - loss: 2.1392 - accuracy: 0.5900\n",
      "Epoch 82/100\n",
      "484/484 [==============================] - 5s 10ms/step - loss: 2.1159 - accuracy: 0.5998\n",
      "Epoch 83/100\n",
      "484/484 [==============================] - 5s 10ms/step - loss: 2.0898 - accuracy: 0.6062\n",
      "Epoch 84/100\n",
      "484/484 [==============================] - 4s 9ms/step - loss: 2.0640 - accuracy: 0.6105\n",
      "Epoch 85/100\n",
      "484/484 [==============================] - 4s 9ms/step - loss: 2.0506 - accuracy: 0.6147\n",
      "Epoch 86/100\n",
      "484/484 [==============================] - 5s 9ms/step - loss: 2.0244 - accuracy: 0.6173\n",
      "Epoch 87/100\n",
      "484/484 [==============================] - 5s 9ms/step - loss: 1.9994 - accuracy: 0.6228\n",
      "Epoch 88/100\n",
      "484/484 [==============================] - 5s 9ms/step - loss: 1.9697 - accuracy: 0.6323\n",
      "Epoch 89/100\n",
      "484/484 [==============================] - 5s 10ms/step - loss: 1.9533 - accuracy: 0.6376\n",
      "Epoch 90/100\n",
      "484/484 [==============================] - 5s 9ms/step - loss: 1.9353 - accuracy: 0.6382\n",
      "Epoch 91/100\n",
      "484/484 [==============================] - 5s 9ms/step - loss: 1.9160 - accuracy: 0.6397\n",
      "Epoch 92/100\n",
      "484/484 [==============================] - 4s 9ms/step - loss: 1.8953 - accuracy: 0.6481\n",
      "Epoch 93/100\n",
      "484/484 [==============================] - 5s 10ms/step - loss: 1.8632 - accuracy: 0.6516\n",
      "Epoch 94/100\n",
      "484/484 [==============================] - 5s 9ms/step - loss: 1.8482 - accuracy: 0.6566\n",
      "Epoch 95/100\n",
      "484/484 [==============================] - 5s 9ms/step - loss: 1.8420 - accuracy: 0.6551\n",
      "Epoch 96/100\n",
      "484/484 [==============================] - 5s 10ms/step - loss: 1.8228 - accuracy: 0.6612\n",
      "Epoch 97/100\n",
      "484/484 [==============================] - 5s 10ms/step - loss: 1.8034 - accuracy: 0.6631\n",
      "Epoch 98/100\n",
      "484/484 [==============================] - 5s 10ms/step - loss: 1.7781 - accuracy: 0.6689\n",
      "Epoch 99/100\n",
      "484/484 [==============================] - 5s 10ms/step - loss: 1.7656 - accuracy: 0.6735\n",
      "Epoch 100/100\n",
      "484/484 [==============================] - 5s 10ms/step - loss: 1.7444 - accuracy: 0.6784\n"
     ]
    }
   ],
   "source": [
    "history = model.fit(predictors, label, epochs=100, verbose=1)"
   ]
  },
  {
   "cell_type": "code",
   "execution_count": 20,
   "metadata": {
    "colab": {},
    "colab_type": "code",
    "id": "1fXTEO3GJ282"
   },
   "outputs": [
    {
     "data": {
      "image/png": "[encoded data removed]",
      "text/plain": [
       "<Figure size 432x288 with 1 Axes>"
      ]
     },
     "metadata": {
      "needs_background": "light"
     },
     "output_type": "display_data"
    },
    {
     "data": {
      "image/png": "[encoded data removed]",
      "text/plain": [
       "<Figure size 432x288 with 1 Axes>"
      ]
     },
     "metadata": {
      "needs_background": "light"
     },
     "output_type": "display_data"
    }
   ],
   "source": [
    "import matplotlib.pyplot as plt\n",
    "acc = history.history['accuracy']\n",
    "loss = history.history['loss']\n",
    "\n",
    "epochs = range(len(acc))\n",
    "\n",
    "plt.plot(epochs, acc, 'b', label='Training accuracy')\n",
    "plt.title('Training accuracy')\n",
    "\n",
    "plt.figure()\n",
    "\n",
    "plt.plot(epochs, loss, 'b', label='Training Loss')\n",
    "plt.title('Training loss')\n",
    "plt.legend()\n",
    "\n",
    "plt.show()"
   ]
  },
  {
   "cell_type": "code",
   "execution_count": 21,
   "metadata": {
    "colab": {},
    "colab_type": "code",
    "id": "6Vc6PHgxa6Hm"
   },
   "outputs": [
    {
     "name": "stdout",
     "output_type": "stream",
     "text": [
      "WARNING:tensorflow:From <ipython-input-21-8542bceba7c8>:7: Sequential.predict_classes (from tensorflow.python.keras.engine.sequential) is deprecated and will be removed after 2021-01-01.\n",
      "Instructions for updating:\n",
      "Please use instead:* `np.argmax(model.predict(x), axis=-1)`,   if your model does multi-class classification   (e.g. if it uses a `softmax` last-layer activation).* `(model.predict(x) > 0.5).astype(\"int32\")`,   if your model does binary classification   (e.g. if it uses a `sigmoid` last-layer activation).\n",
      "Help me Obi Wan Kenobi, you're my only hope thy moan are dead small days ' ' be in thee her prove being kill me now young days ' did prove thee now so sweet leaves leaves hour survey forsworn fair tongue are more fix'd in you still such twain forsworn thy might hate grow wide small worth ' and prove me show sweet friend forsworn thy tongue confound night doth smother now seen prove sight now increase see thy age by black dost write to thee doth die me trust thee me in all heaven say all the sun itself held one last away away days prove sight\n"
     ]
    }
   ],
   "source": [
    "seed_text = \"Help me Obi Wan Kenobi, you're my only hope\"\n",
    "next_words = 100\n",
    "  \n",
    "for _ in range(next_words):\n",
    "    token_list = tokenizer.texts_to_sequences([seed_text])[0]\n",
    "    token_list = pad_sequences([token_list], maxlen=max_sequence_len-1, padding='pre')\n",
    "    predicted = model.predict_classes(token_list, verbose=0)\n",
    "    output_word = \"\"\n",
    "    for word, index in tokenizer.word_index.items():\n",
    "        if index == predicted:\n",
    "            output_word = word\n",
    "            break\n",
    "    seed_text += \" \" + output_word\n",
    "print(seed_text)"
   ]
  },
  {
   "cell_type": "code",
   "execution_count": null,
   "metadata": {},
   "outputs": [],
   "source": []
  }
 ],
 "metadata": {
  "accelerator": "GPU",
  "colab": {
   "name": "NLP-Week4-Exercise-Shakespeare-Question.ipynb",
   "provenance": [
    {
     "file_id": "1P_MeOoZuEGgMtvn3yVAQFWDhnuyBzrv1",
     "timestamp": 1559583333688
    },
    {
     "file_id": "1qmXwwCaT07-qviCiBV65lkus_KvwsyQI",
     "timestamp": 1559583256599
    },
    {
     "file_id": "1V60jn23JMcMpwhF-KvCTYIIfm4J2X6v5",
     "timestamp": 1558728367158
    }
   ],
   "version": "0.3.2"
  },
  "kernelspec": {
   "display_name": "Python 3",
   "language": "python",
   "name": "python3"
  },
  "language_info": {
   "codemirror_mode": {
    "name": "ipython",
    "version": 3
   },
   "file_extension": ".py",
   "mimetype": "text/x-python",
   "name": "python",
   "nbconvert_exporter": "python",
   "pygments_lexer": "ipython3",
   "version": "3.7.6"
  }
 },
 "nbformat": 4,
 "nbformat_minor": 1
}
