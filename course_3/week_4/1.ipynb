{
 "cells": [
  {
   "cell_type": "code",
   "execution_count": 1,
   "metadata": {
    "colab": {},
    "colab_type": "code",
    "id": "BOwsuGQQY9OL"
   },
   "outputs": [],
   "source": [
    "from tensorflow.keras.preprocessing.sequence import pad_sequences\n",
    "from tensorflow.keras.layers import Embedding, LSTM, Dense, Dropout, Bidirectional\n",
    "from tensorflow.keras.preprocessing.text import Tokenizer\n",
    "from tensorflow.keras.models import Sequential\n",
    "from tensorflow.keras.optimizers import Adam\n",
    "import tensorflow.keras.utils as ku \n",
    "import numpy as np "
   ]
  },
  {
   "cell_type": "code",
   "execution_count": 2,
   "metadata": {},
   "outputs": [],
   "source": [
    "### YOUR CODE HERE\n",
    "# Figure out how to import regularizers\n",
    "###\n",
    "from tensorflow.keras import regularizers"
   ]
  },
  {
   "cell_type": "code",
   "execution_count": 3,
   "metadata": {},
   "outputs": [],
   "source": [
    "#!wget --no-check-certificate \\\n",
    "#    https://storage.googleapis.com/laurencemoroney-blog.appspot.com/sonnets.txt \\\n",
    "#    -O /tmp/sonnets/sonnets.txt"
   ]
  },
  {
   "cell_type": "code",
   "execution_count": 4,
   "metadata": {
    "colab": {},
    "colab_type": "code",
    "id": "PRnDnCW-Z7qv"
   },
   "outputs": [],
   "source": [
    "tokenizer = Tokenizer()\n",
    "\n",
    "data = open('/tmp/sonnets/sonnets.txt').read()\n",
    "\n",
    "corpus = data.lower().split(\"\\n\")\n",
    "\n",
    "\n",
    "tokenizer.fit_on_texts(corpus)\n",
    "total_words = len(tokenizer.word_index) + 1\n",
    "\n",
    "# create input sequences using list of tokens\n",
    "input_sequences = []\n",
    "for line in corpus:\n",
    "\ttoken_list = tokenizer.texts_to_sequences([line])[0]\n",
    "\tfor i in range(1, len(token_list)):\n",
    "\t\tn_gram_sequence = token_list[:i+1]\n",
    "\t\tinput_sequences.append(n_gram_sequence)\n",
    "\n",
    "\n",
    "# pad sequences \n",
    "max_sequence_len = max([len(x) for x in input_sequences])\n",
    "input_sequences = np.array(pad_sequences(input_sequences, maxlen=max_sequence_len, padding='pre'))\n",
    "\n",
    "# create predictors and label\n",
    "predictors, label = input_sequences[:,:-1],input_sequences[:,-1]\n",
    "\n",
    "label = ku.to_categorical(label, num_classes=total_words)"
   ]
  },
  {
   "cell_type": "code",
   "execution_count": 7,
   "metadata": {},
   "outputs": [
    {
     "data": {
      "text/plain": [
       "3211"
      ]
     },
     "execution_count": 7,
     "metadata": {},
     "output_type": "execute_result"
    }
   ],
   "source": [
    "total_words"
   ]
  },
  {
   "cell_type": "code",
   "execution_count": 11,
   "metadata": {
    "colab": {},
    "colab_type": "code",
    "id": "w9vH8Y59ajYL"
   },
   "outputs": [
    {
     "name": "stdout",
     "output_type": "stream",
     "text": [
      "Model: \"sequential_2\"\n",
      "_________________________________________________________________\n",
      "Layer (type)                 Output Shape              Param #   \n",
      "=================================================================\n",
      "embedding_2 (Embedding)      (None, 10, 64)            205504    \n",
      "_________________________________________________________________\n",
      "bidirectional_1 (Bidirection (None, 10, 300)           258000    \n",
      "_________________________________________________________________\n",
      "dropout_2 (Dropout)          (None, 10, 300)           0         \n",
      "_________________________________________________________________\n",
      "lstm_5 (LSTM)                (None, 100)               160400    \n",
      "_________________________________________________________________\n",
      "dense_2 (Dense)              (None, 1024)              103424    \n",
      "_________________________________________________________________\n",
      "dense_3 (Dense)              (None, 3211)              3291275   \n",
      "=================================================================\n",
      "Total params: 4,018,603\n",
      "Trainable params: 4,018,603\n",
      "Non-trainable params: 0\n",
      "_________________________________________________________________\n",
      "None\n"
     ]
    }
   ],
   "source": [
    "model = Sequential()\n",
    "model.add(Embedding(total_words, 64, input_length=max_sequence_len-1))\n",
    "model.add(Bidirectional(LSTM(150, return_sequences=True)))\n",
    "model.add(Dropout(0.2))\n",
    "model.add(LSTM(100))\n",
    "model.add(Dense(1024, activation='relu', kernel_regularizer=regularizers.l2(0.01)))\n",
    "model.add(Dense(total_words, activation='softmax'))\n",
    "# Pick an optimizer\n",
    "model.compile(loss='categorical_crossentropy', optimizer='adam', metrics=['accuracy'])\n",
    "print(model.summary())\n"
   ]
  },
  {
   "cell_type": "code",
   "execution_count": 12,
   "metadata": {
    "colab": {},
    "colab_type": "code",
    "id": "AIg2f1HBxqof"
   },
   "outputs": [
    {
     "name": "stdout",
     "output_type": "stream",
     "text": [
      "Epoch 1/100\n",
      "484/484 [==============================] - 4s 9ms/step - loss: 6.9359 - accuracy: 0.0206\n",
      "Epoch 2/100\n",
      "484/484 [==============================] - 4s 9ms/step - loss: 6.5053 - accuracy: 0.0211\n",
      "Epoch 3/100\n",
      "484/484 [==============================] - 4s 9ms/step - loss: 6.4328 - accuracy: 0.0244\n",
      "Epoch 4/100\n",
      "484/484 [==============================] - 4s 9ms/step - loss: 6.3451 - accuracy: 0.0273\n",
      "Epoch 5/100\n",
      "484/484 [==============================] - 4s 9ms/step - loss: 6.2466 - accuracy: 0.0318\n",
      "Epoch 6/100\n",
      "484/484 [==============================] - 4s 9ms/step - loss: 6.1785 - accuracy: 0.0354\n",
      "Epoch 7/100\n",
      "484/484 [==============================] - 4s 9ms/step - loss: 6.1123 - accuracy: 0.0374\n",
      "Epoch 8/100\n",
      "484/484 [==============================] - 4s 9ms/step - loss: 6.0423 - accuracy: 0.0400\n",
      "Epoch 9/100\n",
      "484/484 [==============================] - 4s 9ms/step - loss: 5.9736 - accuracy: 0.0424\n",
      "Epoch 10/100\n",
      "484/484 [==============================] - 4s 9ms/step - loss: 5.9000 - accuracy: 0.0457\n",
      "Epoch 11/100\n",
      "484/484 [==============================] - 4s 9ms/step - loss: 5.8230 - accuracy: 0.0477\n",
      "Epoch 12/100\n",
      "484/484 [==============================] - 4s 9ms/step - loss: 5.7354 - accuracy: 0.0544\n",
      "Epoch 13/100\n",
      "484/484 [==============================] - 4s 9ms/step - loss: 5.6440 - accuracy: 0.0631\n",
      "Epoch 14/100\n",
      "484/484 [==============================] - 4s 9ms/step - loss: 5.5513 - accuracy: 0.0657\n",
      "Epoch 15/100\n",
      "484/484 [==============================] - 4s 9ms/step - loss: 5.4656 - accuracy: 0.0656\n",
      "Epoch 16/100\n",
      "484/484 [==============================] - 4s 9ms/step - loss: 5.3779 - accuracy: 0.0747\n",
      "Epoch 17/100\n",
      "484/484 [==============================] - 4s 9ms/step - loss: 5.2936 - accuracy: 0.0774\n",
      "Epoch 18/100\n",
      "484/484 [==============================] - 4s 9ms/step - loss: 5.2076 - accuracy: 0.0804\n",
      "Epoch 19/100\n",
      "484/484 [==============================] - 4s 9ms/step - loss: 5.1251 - accuracy: 0.0882\n",
      "Epoch 20/100\n",
      "484/484 [==============================] - 4s 9ms/step - loss: 5.0509 - accuracy: 0.0917\n",
      "Epoch 21/100\n",
      "484/484 [==============================] - 4s 9ms/step - loss: 4.9745 - accuracy: 0.0967\n",
      "Epoch 22/100\n",
      "484/484 [==============================] - 4s 9ms/step - loss: 4.8950 - accuracy: 0.1029\n",
      "Epoch 23/100\n",
      "484/484 [==============================] - 4s 9ms/step - loss: 4.8177 - accuracy: 0.1084\n",
      "Epoch 24/100\n",
      "484/484 [==============================] - 4s 9ms/step - loss: 4.7423 - accuracy: 0.1173\n",
      "Epoch 25/100\n",
      "484/484 [==============================] - 4s 9ms/step - loss: 4.6688 - accuracy: 0.1217\n",
      "Epoch 26/100\n",
      "484/484 [==============================] - 4s 9ms/step - loss: 4.6033 - accuracy: 0.1263\n",
      "Epoch 27/100\n",
      "484/484 [==============================] - 4s 9ms/step - loss: 4.5182 - accuracy: 0.1330\n",
      "Epoch 28/100\n",
      "484/484 [==============================] - 4s 9ms/step - loss: 4.4421 - accuracy: 0.1420\n",
      "Epoch 29/100\n",
      "484/484 [==============================] - 4s 9ms/step - loss: 4.3740 - accuracy: 0.1462\n",
      "Epoch 30/100\n",
      "484/484 [==============================] - 4s 9ms/step - loss: 4.2800 - accuracy: 0.1575\n",
      "Epoch 31/100\n",
      "484/484 [==============================] - 4s 9ms/step - loss: 4.2121 - accuracy: 0.1667\n",
      "Epoch 32/100\n",
      "484/484 [==============================] - 4s 9ms/step - loss: 4.1350 - accuracy: 0.1801\n",
      "Epoch 33/100\n",
      "484/484 [==============================] - 4s 9ms/step - loss: 4.0681 - accuracy: 0.1900\n",
      "Epoch 34/100\n",
      "484/484 [==============================] - 4s 9ms/step - loss: 3.9931 - accuracy: 0.2039\n",
      "Epoch 35/100\n",
      "484/484 [==============================] - 4s 9ms/step - loss: 3.9126 - accuracy: 0.2165\n",
      "Epoch 36/100\n",
      "484/484 [==============================] - 4s 9ms/step - loss: 3.8505 - accuracy: 0.2269\n",
      "Epoch 37/100\n",
      "484/484 [==============================] - 4s 9ms/step - loss: 3.7787 - accuracy: 0.2401\n",
      "Epoch 38/100\n",
      "484/484 [==============================] - 4s 9ms/step - loss: 3.7232 - accuracy: 0.2473\n",
      "Epoch 39/100\n",
      "484/484 [==============================] - 4s 9ms/step - loss: 3.6508 - accuracy: 0.2594\n",
      "Epoch 40/100\n",
      "484/484 [==============================] - 4s 9ms/step - loss: 3.5886 - accuracy: 0.2776\n",
      "Epoch 41/100\n",
      "484/484 [==============================] - 4s 9ms/step - loss: 3.5247 - accuracy: 0.2923\n",
      "Epoch 42/100\n",
      "484/484 [==============================] - 4s 9ms/step - loss: 3.4691 - accuracy: 0.3027\n",
      "Epoch 43/100\n",
      "484/484 [==============================] - 4s 9ms/step - loss: 3.4132 - accuracy: 0.3145\n",
      "Epoch 44/100\n",
      "484/484 [==============================] - 4s 9ms/step - loss: 3.3516 - accuracy: 0.3267\n",
      "Epoch 45/100\n",
      "484/484 [==============================] - 5s 9ms/step - loss: 3.2940 - accuracy: 0.3382\n",
      "Epoch 46/100\n",
      "484/484 [==============================] - 5s 9ms/step - loss: 3.2338 - accuracy: 0.3555\n",
      "Epoch 47/100\n",
      "484/484 [==============================] - 4s 9ms/step - loss: 3.1855 - accuracy: 0.3609\n",
      "Epoch 48/100\n",
      "484/484 [==============================] - 4s 9ms/step - loss: 3.1374 - accuracy: 0.3738\n",
      "Epoch 49/100\n",
      "484/484 [==============================] - 4s 9ms/step - loss: 3.0719 - accuracy: 0.3880\n",
      "Epoch 50/100\n",
      "484/484 [==============================] - 4s 9ms/step - loss: 3.0404 - accuracy: 0.3977\n",
      "Epoch 51/100\n",
      "484/484 [==============================] - 4s 9ms/step - loss: 2.9843 - accuracy: 0.4080\n",
      "Epoch 52/100\n",
      "484/484 [==============================] - 4s 9ms/step - loss: 2.9274 - accuracy: 0.4197\n",
      "Epoch 53/100\n",
      "484/484 [==============================] - 4s 9ms/step - loss: 2.8801 - accuracy: 0.4340\n",
      "Epoch 54/100\n",
      "484/484 [==============================] - 4s 9ms/step - loss: 2.8374 - accuracy: 0.4409\n",
      "Epoch 55/100\n",
      "484/484 [==============================] - 4s 9ms/step - loss: 2.8070 - accuracy: 0.4493\n",
      "Epoch 56/100\n",
      "484/484 [==============================] - 4s 9ms/step - loss: 2.7571 - accuracy: 0.4602\n",
      "Epoch 57/100\n",
      "484/484 [==============================] - 4s 9ms/step - loss: 2.7014 - accuracy: 0.4691\n",
      "Epoch 58/100\n",
      "484/484 [==============================] - 5s 10ms/step - loss: 2.6721 - accuracy: 0.4790\n",
      "Epoch 59/100\n",
      "484/484 [==============================] - 4s 9ms/step - loss: 2.6368 - accuracy: 0.4886\n",
      "Epoch 60/100\n",
      "484/484 [==============================] - 4s 9ms/step - loss: 2.5814 - accuracy: 0.4993\n",
      "Epoch 61/100\n",
      "484/484 [==============================] - 4s 9ms/step - loss: 2.5371 - accuracy: 0.5084\n",
      "Epoch 62/100\n",
      "484/484 [==============================] - 4s 9ms/step - loss: 2.5081 - accuracy: 0.5140\n",
      "Epoch 63/100\n",
      "484/484 [==============================] - 4s 9ms/step - loss: 2.4796 - accuracy: 0.5248\n",
      "Epoch 64/100\n",
      "484/484 [==============================] - 4s 9ms/step - loss: 2.4501 - accuracy: 0.5316\n",
      "Epoch 65/100\n",
      "484/484 [==============================] - 5s 10ms/step - loss: 2.4091 - accuracy: 0.5387\n",
      "Epoch 66/100\n",
      "484/484 [==============================] - 4s 9ms/step - loss: 2.3562 - accuracy: 0.5537\n",
      "Epoch 67/100\n",
      "484/484 [==============================] - 4s 9ms/step - loss: 2.3426 - accuracy: 0.5523\n",
      "Epoch 68/100\n",
      "484/484 [==============================] - 4s 9ms/step - loss: 2.3081 - accuracy: 0.5634\n",
      "Epoch 69/100\n",
      "484/484 [==============================] - 4s 9ms/step - loss: 2.2669 - accuracy: 0.5712\n",
      "Epoch 70/100\n",
      "484/484 [==============================] - 4s 9ms/step - loss: 2.2360 - accuracy: 0.5741\n",
      "Epoch 71/100\n",
      "484/484 [==============================] - 4s 9ms/step - loss: 2.2116 - accuracy: 0.5872\n",
      "Epoch 72/100\n",
      "484/484 [==============================] - 4s 9ms/step - loss: 2.1742 - accuracy: 0.5927\n",
      "Epoch 73/100\n",
      "484/484 [==============================] - 4s 9ms/step - loss: 2.1435 - accuracy: 0.5984\n",
      "Epoch 74/100\n",
      "484/484 [==============================] - 4s 9ms/step - loss: 2.1219 - accuracy: 0.6060\n",
      "Epoch 75/100\n",
      "484/484 [==============================] - 4s 9ms/step - loss: 2.1023 - accuracy: 0.6101\n",
      "Epoch 76/100\n",
      "484/484 [==============================] - 5s 9ms/step - loss: 2.0726 - accuracy: 0.6167\n",
      "Epoch 77/100\n",
      "484/484 [==============================] - 4s 9ms/step - loss: 2.0304 - accuracy: 0.6286\n",
      "Epoch 78/100\n",
      "484/484 [==============================] - 4s 9ms/step - loss: 2.0097 - accuracy: 0.6301\n",
      "Epoch 79/100\n",
      "484/484 [==============================] - 4s 9ms/step - loss: 1.9789 - accuracy: 0.6361\n",
      "Epoch 80/100\n",
      "484/484 [==============================] - 4s 9ms/step - loss: 1.9587 - accuracy: 0.6449\n",
      "Epoch 81/100\n",
      "484/484 [==============================] - 4s 9ms/step - loss: 1.9328 - accuracy: 0.6480\n",
      "Epoch 82/100\n",
      "484/484 [==============================] - 4s 9ms/step - loss: 1.9212 - accuracy: 0.6457\n",
      "Epoch 83/100\n",
      "484/484 [==============================] - 4s 9ms/step - loss: 1.8807 - accuracy: 0.6592\n",
      "Epoch 84/100\n",
      "484/484 [==============================] - 4s 9ms/step - loss: 1.8587 - accuracy: 0.6653\n",
      "Epoch 85/100\n",
      "484/484 [==============================] - 4s 9ms/step - loss: 1.8503 - accuracy: 0.6666\n",
      "Epoch 86/100\n",
      "484/484 [==============================] - 4s 9ms/step - loss: 1.8365 - accuracy: 0.6652\n",
      "Epoch 87/100\n",
      "484/484 [==============================] - 4s 9ms/step - loss: 1.8063 - accuracy: 0.6729\n",
      "Epoch 88/100\n",
      "484/484 [==============================] - 4s 9ms/step - loss: 1.7869 - accuracy: 0.6766\n",
      "Epoch 89/100\n",
      "484/484 [==============================] - 4s 9ms/step - loss: 1.7660 - accuracy: 0.6798\n",
      "Epoch 90/100\n",
      "484/484 [==============================] - 4s 9ms/step - loss: 1.7477 - accuracy: 0.6860\n",
      "Epoch 91/100\n",
      "484/484 [==============================] - 4s 9ms/step - loss: 1.7234 - accuracy: 0.6889\n",
      "Epoch 92/100\n",
      "484/484 [==============================] - 4s 9ms/step - loss: 1.6983 - accuracy: 0.6986\n",
      "Epoch 93/100\n",
      "484/484 [==============================] - 4s 9ms/step - loss: 1.6884 - accuracy: 0.6980\n",
      "Epoch 94/100\n",
      "484/484 [==============================] - 4s 9ms/step - loss: 1.6650 - accuracy: 0.7048\n",
      "Epoch 95/100\n",
      "484/484 [==============================] - 4s 9ms/step - loss: 1.6500 - accuracy: 0.7050\n",
      "Epoch 96/100\n",
      "484/484 [==============================] - 5s 9ms/step - loss: 1.6278 - accuracy: 0.7132\n",
      "Epoch 97/100\n",
      "484/484 [==============================] - 4s 9ms/step - loss: 1.6187 - accuracy: 0.7160\n",
      "Epoch 98/100\n",
      "484/484 [==============================] - 4s 9ms/step - loss: 1.6198 - accuracy: 0.7101\n",
      "Epoch 99/100\n",
      "484/484 [==============================] - 5s 9ms/step - loss: 1.6011 - accuracy: 0.7141\n",
      "Epoch 100/100\n",
      "484/484 [==============================] - 4s 9ms/step - loss: 1.5706 - accuracy: 0.7216\n"
     ]
    }
   ],
   "source": [
    "history = model.fit(predictors, label, epochs=100, verbose=1)"
   ]
  },
  {
   "cell_type": "code",
   "execution_count": 14,
   "metadata": {
    "colab": {},
    "colab_type": "code",
    "id": "1fXTEO3GJ282"
   },
   "outputs": [
    {
     "data": {
      "image/png": "[encoded data removed]",
      "text/plain": [
       "<Figure size 432x288 with 1 Axes>"
      ]
     },
     "metadata": {
      "needs_background": "light"
     },
     "output_type": "display_data"
    },
    {
     "data": {
      "image/png": "[encoded data removed]",
      "text/plain": [
       "<Figure size 432x288 with 1 Axes>"
      ]
     },
     "metadata": {
      "needs_background": "light"
     },
     "output_type": "display_data"
    }
   ],
   "source": [
    "import matplotlib.pyplot as plt\n",
    "acc = history.history['accuracy']\n",
    "loss = history.history['loss']\n",
    "\n",
    "epochs = range(len(acc))\n",
    "\n",
    "plt.plot(epochs, acc, 'b', label='Training accuracy')\n",
    "plt.title('Training accuracy')\n",
    "\n",
    "plt.figure()\n",
    "\n",
    "plt.plot(epochs, loss, 'b', label='Training Loss')\n",
    "plt.title('Training loss')\n",
    "plt.legend()\n",
    "\n",
    "plt.show()"
   ]
  },
  {
   "cell_type": "code",
   "execution_count": 15,
   "metadata": {
    "colab": {},
    "colab_type": "code",
    "id": "6Vc6PHgxa6Hm"
   },
   "outputs": [
    {
     "name": "stdout",
     "output_type": "stream",
     "text": [
      "WARNING:tensorflow:From <ipython-input-15-622d307fa19a>:7: Sequential.predict_classes (from tensorflow.python.keras.engine.sequential) is deprecated and will be removed after 2021-01-01.\n",
      "Instructions for updating:\n",
      "Please use instead:* `np.argmax(model.predict(x), axis=-1)`,   if your model does multi-class classification   (e.g. if it uses a `softmax` last-layer activation).* `(model.predict(x) > 0.5).astype(\"int32\")`,   if your model does binary classification   (e.g. if it uses a `sigmoid` last-layer activation).\n",
      "Help me Obi Wan Kenobi, you're my only hope a poet's can spent taken some place me more will none write with thee so know you young bright prove thee thine eye seen his gain were live true mine all thee that thee of me my love's might end rare rare substantial mother ill face might rare 'will ' or thee yet die truth will see me it look hence thy heart or their rhyme skill might bear thee fair strife store good store dyed might 'tis true grew both ill delight away so end still chary twain bevel alone had thee say it days thee good long had\n"
     ]
    }
   ],
   "source": [
    "seed_text = \"Help me Obi Wan Kenobi, you're my only hope\"\n",
    "next_words = 100\n",
    "  \n",
    "for _ in range(next_words):\n",
    "    token_list = tokenizer.texts_to_sequences([seed_text])[0]\n",
    "    token_list = pad_sequences([token_list], maxlen=max_sequence_len-1, padding='pre')\n",
    "    predicted = model.predict_classes(token_list, verbose=0)\n",
    "    output_word = \"\"\n",
    "    for word, index in tokenizer.word_index.items():\n",
    "        if index == predicted:\n",
    "            output_word = word\n",
    "            break\n",
    "    seed_text += \" \" + output_word\n",
    "print(seed_text)"
   ]
  },
  {
   "cell_type": "code",
   "execution_count": null,
   "metadata": {},
   "outputs": [],
   "source": []
  }
 ],
 "metadata": {
  "accelerator": "GPU",
  "colab": {
   "name": "NLP-Week4-Exercise-Shakespeare-Question.ipynb",
   "provenance": [
    {
     "file_id": "1P_MeOoZuEGgMtvn3yVAQFWDhnuyBzrv1",
     "timestamp": 1559583333688
    },
    {
     "file_id": "1qmXwwCaT07-qviCiBV65lkus_KvwsyQI",
     "timestamp": 1559583256599
    },
    {
     "file_id": "1V60jn23JMcMpwhF-KvCTYIIfm4J2X6v5",
     "timestamp": 1558728367158
    }
   ],
   "version": "0.3.2"
  },
  "kernelspec": {
   "display_name": "Python 3",
   "language": "python",
   "name": "python3"
  },
  "language_info": {
   "codemirror_mode": {
    "name": "ipython",
    "version": 3
   },
   "file_extension": ".py",
   "mimetype": "text/x-python",
   "name": "python",
   "nbconvert_exporter": "python",
   "pygments_lexer": "ipython3",
   "version": "3.7.6"
  }
 },
 "nbformat": 4,
 "nbformat_minor": 1
}
