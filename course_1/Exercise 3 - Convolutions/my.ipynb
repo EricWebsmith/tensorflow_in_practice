{
 "cells": [
  {
   "cell_type": "markdown",
   "metadata": {
    "colab_type": "text",
    "id": "iQjHqsmTAVLU"
   },
   "source": [
    "## Exercise 3\n",
    "In the videos you looked at how you would improve Fashion MNIST using Convolutions. For your exercise see if you can improve MNIST to 99.8% accuracy or more using only a single convolutional layer and a single MaxPooling 2D. You should stop training once the accuracy goes above this amount. It should happen in less than 20 epochs, so it's ok to hard code the number of epochs for training, but your training must end once it hits the above metric. If it doesn't, then you'll need to redesign your layers.\n",
    "\n",
    "I've started the code for you -- you need to finish it!\n",
    "\n",
    "When 99.8% accuracy has been hit, you should print out the string \"Reached 99.8% accuracy so cancelling training!\"\n"
   ]
  },
  {
   "cell_type": "code",
   "execution_count": 56,
   "metadata": {
    "colab": {},
    "colab_type": "code",
    "id": "sfQRyaJWAIdg"
   },
   "outputs": [
    {
     "name": "stdout",
     "output_type": "stream",
     "text": [
      "Train on 60000 samples\n",
      "Epoch 1/20\n",
      "60000/60000 [==============================] - 15s 253us/sample - loss: 0.1776 - accuracy: 0.9470\n",
      "Epoch 2/20\n",
      "60000/60000 [==============================] - 15s 248us/sample - loss: 0.0645 - accuracy: 0.9807\n",
      "Epoch 3/20\n",
      "60000/60000 [==============================] - 15s 249us/sample - loss: 0.0377 - accuracy: 0.9878\n",
      "Epoch 4/20\n",
      "60000/60000 [==============================] - 15s 255us/sample - loss: 0.0267 - accuracy: 0.9906\n",
      "Epoch 5/20\n",
      "60000/60000 [==============================] - 15s 251us/sample - loss: 0.0185 - accuracy: 0.9936\n",
      "Epoch 6/20\n",
      "60000/60000 [==============================] - 15s 245us/sample - loss: 0.0142 - accuracy: 0.9954\n",
      "Epoch 7/20\n",
      "60000/60000 [==============================] - 15s 243us/sample - loss: 0.0113 - accuracy: 0.9960\n",
      "Epoch 8/20\n",
      "60000/60000 [==============================] - 14s 240us/sample - loss: 0.0093 - accuracy: 0.9968\n",
      "Epoch 9/20\n",
      "60000/60000 [==============================] - 14s 239us/sample - loss: 0.0093 - accuracy: 0.9967\n",
      "Epoch 10/20\n",
      "60000/60000 [==============================] - 14s 240us/sample - loss: 0.0062 - accuracy: 0.9979\n",
      "Epoch 11/20\n",
      "60000/60000 [==============================] - 15s 243us/sample - loss: 0.0095 - accuracy: 0.9965\n",
      "Epoch 12/20\n",
      "59872/60000 [============================>.] - ETA: 0s - loss: 0.0055 - accuracy: 0.9981done\n",
      "60000/60000 [==============================] - 15s 250us/sample - loss: 0.0055 - accuracy: 0.9981\n"
     ]
    },
    {
     "data": {
      "text/plain": [
       "<tensorflow.python.keras.callbacks.History at 0x20a42d50c08>"
      ]
     },
     "execution_count": 56,
     "metadata": {},
     "output_type": "execute_result"
    }
   ],
   "source": [
    "import tensorflow as tf\n",
    "\n",
    "# YOUR CODE STARTS HERE\n",
    "class myCallback(tf.keras.callbacks.Callback):\n",
    "    def on_epoch_end(self, epoch, logs):\n",
    "        if logs['accuracy']>0.998:\n",
    "            print(\"done\")\n",
    "            self.model.stop_training=True\n",
    "# YOUR CODE ENDS HERE\n",
    "\n",
    "mnist = tf.keras.datasets.mnist\n",
    "(training_images, training_labels), (test_images, test_labels) = mnist.load_data()\n",
    "\n",
    "# YOUR CODE STARTS HERE\n",
    "training_images = training_images.reshape(60000, 28, 28, 1)/255.0\n",
    "test_images = test_images.reshape(10000, 28, 28, 1)/255.0\n",
    "# YOUR CODE ENDS HERE\n",
    "\n",
    "model = tf.keras.models.Sequential([\n",
    "    # YOUR CODE STARTS HERE\n",
    "    tf.keras.layers.Conv2D(32, (3, 3), input_shape=(28, 28, 1)),\n",
    "    tf.keras.layers.MaxPooling2D((2,2)),\n",
    "    tf.keras.layers.Flatten(),\n",
    "    tf.keras.layers.Dense(128, activation='relu'),\n",
    "    tf.keras.layers.Dense(10, activation='softmax')\n",
    "    # YOUR CODE ENDS HERE\n",
    "])\n",
    "\n",
    "# YOUR CODE STARTS HERE\n",
    "model.compile(loss='sparse_categorical_crossentropy', optimizer='adam', metrics=['accuracy'])\n",
    "model.fit(training_images, training_labels, epochs=20, callbacks=[myCallback()])\n",
    "# YOUR CODE ENDS HERE\n",
    "\n"
   ]
  },
  {
   "cell_type": "code",
   "execution_count": 7,
   "metadata": {},
   "outputs": [],
   "source": [
    "import tensorflow as tf"
   ]
  },
  {
   "cell_type": "code",
   "execution_count": 8,
   "metadata": {},
   "outputs": [],
   "source": [
    "class myCallback(tf.keras.callbacks.Callback):\n",
    "    def on_epoch_end(self, epoch, logs):\n",
    "        if logs['accuracy']>0.998:\n",
    "            print(\"!!done!!\")\n",
    "            self.model.stop_training=True"
   ]
  },
  {
   "cell_type": "code",
   "execution_count": 45,
   "metadata": {},
   "outputs": [],
   "source": [
    "mnist = tf.keras.datasets.mnist\n",
    "(training_images, training_labels), (test_images, test_labels) = mnist.load_data()"
   ]
  },
  {
   "cell_type": "code",
   "execution_count": 46,
   "metadata": {},
   "outputs": [],
   "source": [
    "training_images=training_images.reshape(60000, 28, 28, 1)\n",
    "training_images=training_images / 255.0\n",
    "test_images = test_images.reshape(10000, 28, 28, 1)\n",
    "test_images=test_images/255.0"
   ]
  },
  {
   "cell_type": "code",
   "execution_count": 47,
   "metadata": {},
   "outputs": [],
   "source": [
    "model = tf.keras.models.Sequential([\n",
    "    # YOUR CODE STARTS HERE\n",
    "    tf.keras.layers.Conv2D(32, (3,3),activation='relu', input_shape=(28,28, 1)),\n",
    "    tf.keras.layers.MaxPooling2D((2,2)),\n",
    "    tf.keras.layers.Flatten(),\n",
    "    tf.keras.layers.Dense(128, activation='relu'),\n",
    "    tf.keras.layers.Dense(10, activation='softmax')\n",
    "    # YOUR CODE ENDS HERE\n",
    "])"
   ]
  },
  {
   "cell_type": "code",
   "execution_count": 48,
   "metadata": {},
   "outputs": [
    {
     "name": "stdout",
     "output_type": "stream",
     "text": [
      "Model: \"sequential_11\"\n",
      "_________________________________________________________________\n",
      "Layer (type)                 Output Shape              Param #   \n",
      "=================================================================\n",
      "conv2d_13 (Conv2D)           (None, 26, 26, 32)        320       \n",
      "_________________________________________________________________\n",
      "max_pooling2d_12 (MaxPooling (None, 13, 13, 32)        0         \n",
      "_________________________________________________________________\n",
      "flatten_10 (Flatten)         (None, 5408)              0         \n",
      "_________________________________________________________________\n",
      "dense_18 (Dense)             (None, 128)               692352    \n",
      "_________________________________________________________________\n",
      "dense_19 (Dense)             (None, 10)                1290      \n",
      "=================================================================\n",
      "Total params: 693,962\n",
      "Trainable params: 693,962\n",
      "Non-trainable params: 0\n",
      "_________________________________________________________________\n"
     ]
    }
   ],
   "source": [
    "model.summary()"
   ]
  },
  {
   "cell_type": "code",
   "execution_count": 51,
   "metadata": {},
   "outputs": [],
   "source": [
    "model.compile(loss='sparse_categorical_crossentropy', optimizer='adam', metrics=['accuracy'])"
   ]
  },
  {
   "cell_type": "code",
   "execution_count": 52,
   "metadata": {},
   "outputs": [
    {
     "name": "stdout",
     "output_type": "stream",
     "text": [
      "Train on 60000 samples\n",
      "Epoch 1/20\n",
      "60000/60000 [==============================] - 17s 285us/sample - loss: 0.1471 - accuracy: 0.9566\n",
      "Epoch 2/20\n",
      "60000/60000 [==============================] - 17s 277us/sample - loss: 0.0507 - accuracy: 0.9843\n",
      "Epoch 3/20\n",
      "60000/60000 [==============================] - 17s 277us/sample - loss: 0.0330 - accuracy: 0.9893\n",
      "Epoch 4/20\n",
      "60000/60000 [==============================] - 17s 277us/sample - loss: 0.0230 - accuracy: 0.9924\n",
      "Epoch 5/20\n",
      "60000/60000 [==============================] - 17s 278us/sample - loss: 0.0149 - accuracy: 0.9950\n",
      "Epoch 6/20\n",
      "60000/60000 [==============================] - 17s 278us/sample - loss: 0.0099 - accuracy: 0.9967\n",
      "Epoch 7/20\n",
      "60000/60000 [==============================] - 17s 279us/sample - loss: 0.0087 - accuracy: 0.9970\n",
      "Epoch 8/20\n",
      "60000/60000 [==============================] - 17s 279us/sample - loss: 0.0066 - accuracy: 0.9977\n",
      "Epoch 9/20\n",
      "59936/60000 [============================>.] - ETA: 0s - loss: 0.0049 - accuracy: 0.9985!!done!!\n",
      "60000/60000 [==============================] - 17s 278us/sample - loss: 0.0049 - accuracy: 0.9985\n"
     ]
    },
    {
     "data": {
      "text/plain": [
       "<tensorflow.python.keras.callbacks.History at 0x20a3bb9ef08>"
      ]
     },
     "execution_count": 52,
     "metadata": {},
     "output_type": "execute_result"
    }
   ],
   "source": [
    "model.fit(training_images, training_labels, epochs=20, callbacks=[myCallback()])"
   ]
  },
  {
   "cell_type": "code",
   "execution_count": 3,
   "metadata": {},
   "outputs": [],
   "source": [
    "import tensorflow.keras.layers as l"
   ]
  },
  {
   "cell_type": "code",
   "execution_count": 4,
   "metadata": {},
   "outputs": [],
   "source": [
    "?l.MaxPool2D"
   ]
  },
  {
   "cell_type": "code",
   "execution_count": null,
   "metadata": {},
   "outputs": [],
   "source": []
  }
 ],
 "metadata": {
  "colab": {
   "collapsed_sections": [],
   "name": "Exercise 3 - Question.ipynb",
   "provenance": [],
   "version": "0.3.2"
  },
  "kernelspec": {
   "display_name": "Python 3",
   "language": "python",
   "name": "python3"
  },
  "language_info": {
   "codemirror_mode": {
    "name": "ipython",
    "version": 3
   },
   "file_extension": ".py",
   "mimetype": "text/x-python",
   "name": "python",
   "nbconvert_exporter": "python",
   "pygments_lexer": "ipython3",
   "version": "3.7.7"
  }
 },
 "nbformat": 4,
 "nbformat_minor": 1
}
