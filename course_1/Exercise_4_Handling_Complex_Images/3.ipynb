{
 "cells": [
  {
   "cell_type": "markdown",
   "metadata": {},
   "source": [
    "Below is code with a link to a happy or sad dataset which contains 80 images, 40 happy and 40 sad. \n",
    "Create a convolutional neural network that trains to 100% accuracy on these images,  which cancels training upon hitting training accuracy of >.999\n",
    "\n",
    "Hint -- it will work best with 3 convolutional layers."
   ]
  },
  {
   "cell_type": "code",
   "execution_count": null,
   "metadata": {},
   "outputs": [],
   "source": [
    "import tensorflow as tf"
   ]
  },
  {
   "cell_type": "code",
   "execution_count": 2,
   "metadata": {},
   "outputs": [
    {
     "data": {
      "text/plain": [
       "'2.2.0'"
      ]
     },
     "execution_count": 2,
     "metadata": {},
     "output_type": "execute_result"
    }
   ],
   "source": [
    "tf.__version__"
   ]
  },
  {
   "cell_type": "code",
   "execution_count": 4,
   "metadata": {},
   "outputs": [],
   "source": [
    "from tensorflow.keras.preprocessing.image import ImageDataGenerator"
   ]
  },
  {
   "cell_type": "code",
   "execution_count": 6,
   "metadata": {},
   "outputs": [],
   "source": [
    "class myCallback(tf.keras.callbacks.Callback):\n",
    "    def on_epoch_end(self, epoch, logs):\n",
    "        if logs['accuracy']==1:\n",
    "            self.model.stop_training=True"
   ]
  },
  {
   "cell_type": "code",
   "execution_count": 5,
   "metadata": {},
   "outputs": [],
   "source": [
    "X_gen=ImageDataGenerator(1/255)"
   ]
  },
  {
   "cell_type": "code",
   "execution_count": 10,
   "metadata": {},
   "outputs": [
    {
     "name": "stdout",
     "output_type": "stream",
     "text": [
      "Found 80 images belonging to 2 classes.\n"
     ]
    }
   ],
   "source": [
    "X_generator=X_gen.flow_from_directory(\n",
    "    \"/tmp/h-or-s/\",\n",
    "    target_size=(150, 150),\n",
    "    class_mode='binary'\n",
    ")"
   ]
  },
  {
   "cell_type": "code",
   "execution_count": 12,
   "metadata": {},
   "outputs": [
    {
     "name": "stdout",
     "output_type": "stream",
     "text": [
      "Model: \"sequential_1\"\n",
      "_________________________________________________________________\n",
      "Layer (type)                 Output Shape              Param #   \n",
      "=================================================================\n",
      "conv2d_3 (Conv2D)            (None, 148, 148, 32)      896       \n",
      "_________________________________________________________________\n",
      "max_pooling2d_3 (MaxPooling2 (None, 74, 74, 32)        0         \n",
      "_________________________________________________________________\n",
      "dropout (Dropout)            (None, 74, 74, 32)        0         \n",
      "_________________________________________________________________\n",
      "conv2d_4 (Conv2D)            (None, 72, 72, 32)        9248      \n",
      "_________________________________________________________________\n",
      "max_pooling2d_4 (MaxPooling2 (None, 36, 36, 32)        0         \n",
      "_________________________________________________________________\n",
      "dropout_1 (Dropout)          (None, 36, 36, 32)        0         \n",
      "_________________________________________________________________\n",
      "conv2d_5 (Conv2D)            (None, 34, 34, 32)        9248      \n",
      "_________________________________________________________________\n",
      "max_pooling2d_5 (MaxPooling2 (None, 17, 17, 32)        0         \n",
      "_________________________________________________________________\n",
      "dropout_2 (Dropout)          (None, 17, 17, 32)        0         \n",
      "_________________________________________________________________\n",
      "flatten_1 (Flatten)          (None, 9248)              0         \n",
      "_________________________________________________________________\n",
      "dense_2 (Dense)              (None, 1024)              9470976   \n",
      "_________________________________________________________________\n",
      "dense_3 (Dense)              (None, 1)                 1025      \n",
      "=================================================================\n",
      "Total params: 9,491,393\n",
      "Trainable params: 9,491,393\n",
      "Non-trainable params: 0\n",
      "_________________________________________________________________\n"
     ]
    }
   ],
   "source": [
    "model=tf.keras.models.Sequential([\n",
    "    tf.keras.layers.Conv2D(32, (3,3), activation='relu', input_shape=(150,150,3)),\n",
    "    tf.keras.layers.MaxPooling2D((2,2)),\n",
    "    tf.keras.layers.Dropout(0.2),\n",
    "    tf.keras.layers.Conv2D(32, (3,3), activation='relu'),\n",
    "    tf.keras.layers.MaxPooling2D((2,2)),\n",
    "    tf.keras.layers.Dropout(0.2),\n",
    "    tf.keras.layers.Conv2D(32, (3,3), activation='relu'),\n",
    "    tf.keras.layers.MaxPooling2D((2,2)),\n",
    "    tf.keras.layers.Dropout(0.2),\n",
    "    tf.keras.layers.Flatten(),\n",
    "    tf.keras.layers.Dense(1024, activation='relu'),\n",
    "    tf.keras.layers.Dense(1, activation='sigmoid')\n",
    "])\n",
    "\n",
    "model.summary()"
   ]
  },
  {
   "cell_type": "code",
   "execution_count": 13,
   "metadata": {},
   "outputs": [],
   "source": [
    "model.compile(loss='binary_crossentropy', optimizer='adam', metrics=['accuracy'])"
   ]
  },
  {
   "cell_type": "code",
   "execution_count": 14,
   "metadata": {},
   "outputs": [
    {
     "name": "stderr",
     "output_type": "stream",
     "text": [
      "E:\\ProgramData\\Anaconda3\\lib\\site-packages\\keras_preprocessing\\image\\image_data_generator.py:720: UserWarning: This ImageDataGenerator specifies `featurewise_center`, but it hasn't been fit on any training data. Fit it first by calling `.fit(numpy_data)`.\n",
      "  warnings.warn('This ImageDataGenerator specifies '\n"
     ]
    },
    {
     "name": "stdout",
     "output_type": "stream",
     "text": [
      "Epoch 1/100\n",
      "3/3 [==============================] - 0s 103ms/step - loss: 585.7748 - accuracy: 0.5500\n",
      "Epoch 2/100\n",
      "3/3 [==============================] - 0s 35ms/step - loss: 60.9413 - accuracy: 0.5500\n",
      "Epoch 3/100\n",
      "3/3 [==============================] - 0s 20ms/step - loss: 68.4186 - accuracy: 0.5500\n",
      "Epoch 4/100\n",
      "3/3 [==============================] - 0s 33ms/step - loss: 26.1672 - accuracy: 0.5875\n",
      "Epoch 5/100\n",
      "3/3 [==============================] - 0s 25ms/step - loss: 4.8126 - accuracy: 0.8500\n",
      "Epoch 6/100\n",
      "3/3 [==============================] - 0s 27ms/step - loss: 4.8250 - accuracy: 0.8500\n",
      "Epoch 7/100\n",
      "3/3 [==============================] - 0s 22ms/step - loss: 1.2343 - accuracy: 0.9125\n",
      "Epoch 8/100\n",
      "3/3 [==============================] - 0s 35ms/step - loss: 0.3537 - accuracy: 0.9500\n",
      "Epoch 9/100\n",
      "3/3 [==============================] - 0s 25ms/step - loss: 0.7014 - accuracy: 0.9375\n",
      "Epoch 10/100\n",
      "3/3 [==============================] - 0s 22ms/step - loss: 0.7192 - accuracy: 0.9250\n",
      "Epoch 11/100\n",
      "3/3 [==============================] - 0s 23ms/step - loss: 0.4079 - accuracy: 0.9250\n",
      "Epoch 12/100\n",
      "3/3 [==============================] - 0s 33ms/step - loss: 1.0271 - accuracy: 0.8875\n",
      "Epoch 13/100\n",
      "3/3 [==============================] - 0s 26ms/step - loss: 0.9898 - accuracy: 0.9250\n",
      "Epoch 14/100\n",
      "3/3 [==============================] - 0s 27ms/step - loss: 1.2828 - accuracy: 0.9375\n",
      "Epoch 15/100\n",
      "3/3 [==============================] - 0s 21ms/step - loss: 0.3441 - accuracy: 0.9250\n",
      "Epoch 16/100\n",
      "3/3 [==============================] - 0s 25ms/step - loss: 0.5611 - accuracy: 0.9000\n",
      "Epoch 17/100\n",
      "3/3 [==============================] - 0s 25ms/step - loss: 0.2527 - accuracy: 0.9250\n",
      "Epoch 18/100\n",
      "3/3 [==============================] - 0s 22ms/step - loss: 0.2053 - accuracy: 0.9750\n",
      "Epoch 19/100\n",
      "3/3 [==============================] - 0s 23ms/step - loss: 0.5523 - accuracy: 0.9250\n",
      "Epoch 20/100\n",
      "3/3 [==============================] - 0s 27ms/step - loss: 0.2729 - accuracy: 0.9625\n",
      "Epoch 21/100\n",
      "3/3 [==============================] - 0s 34ms/step - loss: 0.2465 - accuracy: 0.9375\n",
      "Epoch 22/100\n",
      "3/3 [==============================] - 0s 35ms/step - loss: 0.4287 - accuracy: 0.9500\n",
      "Epoch 23/100\n",
      "3/3 [==============================] - 0s 22ms/step - loss: 0.5049 - accuracy: 0.9125\n",
      "Epoch 24/100\n",
      "3/3 [==============================] - 0s 25ms/step - loss: 0.3246 - accuracy: 0.9500\n",
      "Epoch 25/100\n",
      "3/3 [==============================] - 0s 21ms/step - loss: 0.1862 - accuracy: 0.9625\n",
      "Epoch 26/100\n",
      "3/3 [==============================] - 0s 25ms/step - loss: 0.2720 - accuracy: 0.9500\n",
      "Epoch 27/100\n",
      "3/3 [==============================] - 0s 37ms/step - loss: 0.1994 - accuracy: 0.9375\n",
      "Epoch 28/100\n",
      "3/3 [==============================] - 0s 21ms/step - loss: 0.0428 - accuracy: 0.9875\n",
      "Epoch 29/100\n",
      "3/3 [==============================] - 0s 26ms/step - loss: 0.0942 - accuracy: 0.9625\n",
      "Epoch 30/100\n",
      "3/3 [==============================] - 0s 26ms/step - loss: 0.1714 - accuracy: 0.9625\n",
      "Epoch 31/100\n",
      "3/3 [==============================] - 0s 29ms/step - loss: 0.3534 - accuracy: 0.9625\n",
      "Epoch 32/100\n",
      "3/3 [==============================] - 0s 27ms/step - loss: 0.1147 - accuracy: 0.9750\n",
      "Epoch 33/100\n",
      "3/3 [==============================] - 0s 25ms/step - loss: 0.4354 - accuracy: 0.9250\n",
      "Epoch 34/100\n",
      "3/3 [==============================] - 0s 38ms/step - loss: 0.0245 - accuracy: 0.9875\n",
      "Epoch 35/100\n",
      "3/3 [==============================] - 0s 27ms/step - loss: 0.1561 - accuracy: 0.9625\n",
      "Epoch 36/100\n",
      "3/3 [==============================] - 0s 43ms/step - loss: 0.3438 - accuracy: 0.9375\n",
      "Epoch 37/100\n",
      "3/3 [==============================] - 0s 29ms/step - loss: 0.1024 - accuracy: 0.9750\n",
      "Epoch 38/100\n",
      "3/3 [==============================] - 0s 20ms/step - loss: 0.2306 - accuracy: 0.9750\n",
      "Epoch 39/100\n",
      "3/3 [==============================] - 0s 22ms/step - loss: 0.0238 - accuracy: 0.9875\n",
      "Epoch 40/100\n",
      "3/3 [==============================] - 0s 38ms/step - loss: 0.0577 - accuracy: 0.9750\n",
      "Epoch 41/100\n",
      "3/3 [==============================] - 0s 36ms/step - loss: 0.1800 - accuracy: 0.9625\n",
      "Epoch 42/100\n",
      "3/3 [==============================] - 0s 37ms/step - loss: 0.0289 - accuracy: 0.9750\n",
      "Epoch 43/100\n",
      "3/3 [==============================] - 0s 26ms/step - loss: 0.1465 - accuracy: 0.9625\n",
      "Epoch 44/100\n",
      "3/3 [==============================] - 0s 33ms/step - loss: 0.0027 - accuracy: 1.0000\n"
     ]
    },
    {
     "data": {
      "text/plain": [
       "<tensorflow.python.keras.callbacks.History at 0x1f5c5197688>"
      ]
     },
     "execution_count": 14,
     "metadata": {},
     "output_type": "execute_result"
    }
   ],
   "source": [
    "model.fit(X_generator, epochs=100, callbacks=[myCallback()])"
   ]
  },
  {
   "cell_type": "code",
   "execution_count": null,
   "metadata": {},
   "outputs": [],
   "source": []
  }
 ],
 "metadata": {
  "kernelspec": {
   "display_name": "Python 3",
   "language": "python",
   "name": "python3"
  },
  "language_info": {
   "codemirror_mode": {
    "name": "ipython",
    "version": 3
   },
   "file_extension": ".py",
   "mimetype": "text/x-python",
   "name": "python",
   "nbconvert_exporter": "python",
   "pygments_lexer": "ipython3",
   "version": "3.7.6"
  }
 },
 "nbformat": 4,
 "nbformat_minor": 4
}
