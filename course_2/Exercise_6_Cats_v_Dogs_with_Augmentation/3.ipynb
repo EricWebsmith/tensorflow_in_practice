{
 "cells": [
  {
   "cell_type": "markdown",
   "metadata": {},
   "source": [
    "In this exercise you will train a CNN on the FULL Cats-v-dogs dataset\n",
    "\n",
    "This will require you doing a lot of data preprocessing because\n",
    "\n",
    "the dataset isn't split into training and validation for you\n",
    "\n",
    "This code block has all the required inputs\n",
    "\n",
    "TRAINING_DIR = \"/tmp/cats-v-dogs/training/\"\n",
    "\n",
    "VALIDATION_DIR = \"/tmp/cats-v-dogs/testing/\"\n",
    "\n",
    "3 layers, 75%"
   ]
  },
  {
   "cell_type": "code",
   "execution_count": 13,
   "metadata": {},
   "outputs": [],
   "source": [
    "import tensorflow as tf\n",
    "from tensorflow.keras.preprocessing.image import ImageDataGenerator\n",
    "from tensorflow.keras.optimizers import RMSprop"
   ]
  },
  {
   "cell_type": "code",
   "execution_count": 2,
   "metadata": {},
   "outputs": [
    {
     "data": {
      "text/plain": [
       "'2.2.0'"
      ]
     },
     "execution_count": 2,
     "metadata": {},
     "output_type": "execute_result"
    }
   ],
   "source": [
    "tf.__version__"
   ]
  },
  {
   "cell_type": "code",
   "execution_count": 11,
   "metadata": {},
   "outputs": [],
   "source": [
    "class myCallback(tf.keras.callbacks.Callback):\n",
    "    \n",
    "    def on_epoch_end(self, epoch, logs={}):\n",
    "        desired_accuracy=0.8\n",
    "        if(logs.get('accuracy')>desired_accuracy):\n",
    "            print(f\"\\nReached {desired_accuracy} accuracy so cancelling training!\")\n",
    "            self.model.stop_training = True"
   ]
  },
  {
   "cell_type": "code",
   "execution_count": 5,
   "metadata": {},
   "outputs": [],
   "source": [
    "train_gen=ImageDataGenerator(\n",
    "    1/255,\n",
    "    rotation_range=40,\n",
    "    width_shift_range=0.2,\n",
    "    height_shift_range=0.2,\n",
    "    shear_range=0.2,\n",
    "    zoom_range=0.2,\n",
    "    horizontal_flip=True,\n",
    ")\n"
   ]
  },
  {
   "cell_type": "code",
   "execution_count": 6,
   "metadata": {},
   "outputs": [
    {
     "name": "stdout",
     "output_type": "stream",
     "text": [
      "Found 22495 images belonging to 2 classes.\n"
     ]
    }
   ],
   "source": [
    "train_generator=train_gen.flow_from_directory(\n",
    "    \"/tmp/cats-v-dogs/training/\",\n",
    "    class_mode=\"binary\",\n",
    "    target_size=(150, 150),\n",
    "    \n",
    ")"
   ]
  },
  {
   "cell_type": "code",
   "execution_count": 7,
   "metadata": {},
   "outputs": [
    {
     "name": "stdout",
     "output_type": "stream",
     "text": [
      "Found 2501 images belonging to 2 classes.\n"
     ]
    }
   ],
   "source": [
    "valid_gen=ImageDataGenerator(1/255)\n",
    "valid_generator=valid_gen.flow_from_directory(\n",
    "    \"/tmp/cats-v-dogs/testing/\",\n",
    "    class_mode=\"binary\",\n",
    "    target_size=(150, 150),\n",
    "    \n",
    ")"
   ]
  },
  {
   "cell_type": "code",
   "execution_count": 27,
   "metadata": {},
   "outputs": [
    {
     "name": "stdout",
     "output_type": "stream",
     "text": [
      "Model: \"sequential_6\"\n",
      "_________________________________________________________________\n",
      "Layer (type)                 Output Shape              Param #   \n",
      "=================================================================\n",
      "conv2d_23 (Conv2D)           (None, 148, 148, 16)      448       \n",
      "_________________________________________________________________\n",
      "max_pooling2d_23 (MaxPooling (None, 74, 74, 16)        0         \n",
      "_________________________________________________________________\n",
      "conv2d_24 (Conv2D)           (None, 72, 72, 32)        4640      \n",
      "_________________________________________________________________\n",
      "max_pooling2d_24 (MaxPooling (None, 36, 36, 32)        0         \n",
      "_________________________________________________________________\n",
      "conv2d_25 (Conv2D)           (None, 34, 34, 64)        18496     \n",
      "_________________________________________________________________\n",
      "max_pooling2d_25 (MaxPooling (None, 17, 17, 64)        0         \n",
      "_________________________________________________________________\n",
      "conv2d_26 (Conv2D)           (None, 15, 15, 32)        18464     \n",
      "_________________________________________________________________\n",
      "max_pooling2d_26 (MaxPooling (None, 7, 7, 32)          0         \n",
      "_________________________________________________________________\n",
      "flatten_6 (Flatten)          (None, 1568)              0         \n",
      "_________________________________________________________________\n",
      "batch_normalization (BatchNo (None, 1568)              6272      \n",
      "_________________________________________________________________\n",
      "dense_18 (Dense)             (None, 512)               803328    \n",
      "_________________________________________________________________\n",
      "batch_normalization_1 (Batch (None, 512)               2048      \n",
      "_________________________________________________________________\n",
      "dense_19 (Dense)             (None, 64)                32832     \n",
      "_________________________________________________________________\n",
      "batch_normalization_2 (Batch (None, 64)                256       \n",
      "_________________________________________________________________\n",
      "dense_20 (Dense)             (None, 1)                 65        \n",
      "=================================================================\n",
      "Total params: 886,849\n",
      "Trainable params: 882,561\n",
      "Non-trainable params: 4,288\n",
      "_________________________________________________________________\n"
     ]
    }
   ],
   "source": [
    "model=tf.keras.models.Sequential([\n",
    "    tf.keras.layers.Conv2D(16, (3,3), activation='relu', input_shape=(150, 150, 3)),\n",
    "    tf.keras.layers.MaxPooling2D((2,2)),\n",
    "\n",
    "    \n",
    "    tf.keras.layers.Conv2D(32, (3,3), activation='relu'),\n",
    "    tf.keras.layers.MaxPooling2D((2,2)),\n",
    "\n",
    "    \n",
    "    tf.keras.layers.Conv2D(64, (3,3), activation='relu'),\n",
    "    tf.keras.layers.MaxPooling2D((2,2)),\n",
    "\n",
    "    \n",
    "    tf.keras.layers.Conv2D(32, (3,3), activation='relu'),\n",
    "    tf.keras.layers.MaxPooling2D((2,2)),\n",
    "\n",
    "     \n",
    "    tf.keras.layers.Flatten(),\n",
    "    tf.keras.layers.BatchNormalization(),\n",
    "    tf.keras.layers.Dense(512, activation='relu'),\n",
    "    tf.keras.layers.BatchNormalization(),\n",
    "    tf.keras.layers.Dense(64, activation='relu'),\n",
    "    tf.keras.layers.BatchNormalization(),\n",
    "    tf.keras.layers.Dense(1, activation='sigmoid')\n",
    "])\n",
    "\n",
    "model.summary()"
   ]
  },
  {
   "cell_type": "code",
   "execution_count": 28,
   "metadata": {},
   "outputs": [],
   "source": [
    "model.compile(loss='binary_crossentropy', optimizer=RMSprop(lr=0.001), metrics=['accuracy'])"
   ]
  },
  {
   "cell_type": "code",
   "execution_count": 29,
   "metadata": {},
   "outputs": [
    {
     "name": "stderr",
     "output_type": "stream",
     "text": [
      "E:\\ProgramData\\Anaconda3\\lib\\site-packages\\keras_preprocessing\\image\\image_data_generator.py:720: UserWarning: This ImageDataGenerator specifies `featurewise_center`, but it hasn't been fit on any training data. Fit it first by calling `.fit(numpy_data)`.\n",
      "  warnings.warn('This ImageDataGenerator specifies '\n"
     ]
    },
    {
     "name": "stdout",
     "output_type": "stream",
     "text": [
      "Epoch 1/100\n",
      "511/703 [====================>.........] - ETA: 38s - loss: 0.6725 - accuracy: 0.6050"
     ]
    },
    {
     "name": "stderr",
     "output_type": "stream",
     "text": [
      "E:\\ProgramData\\Anaconda3\\lib\\site-packages\\PIL\\TiffImagePlugin.py:770: UserWarning: Possibly corrupt EXIF data.  Expecting to read 32 bytes but only got 0. Skipping tag 270\n",
      "  \" Skipping tag %s\" % (size, len(data), tag)\n",
      "E:\\ProgramData\\Anaconda3\\lib\\site-packages\\PIL\\TiffImagePlugin.py:770: UserWarning: Possibly corrupt EXIF data.  Expecting to read 5 bytes but only got 0. Skipping tag 271\n",
      "  \" Skipping tag %s\" % (size, len(data), tag)\n",
      "E:\\ProgramData\\Anaconda3\\lib\\site-packages\\PIL\\TiffImagePlugin.py:770: UserWarning: Possibly corrupt EXIF data.  Expecting to read 8 bytes but only got 0. Skipping tag 272\n",
      "  \" Skipping tag %s\" % (size, len(data), tag)\n",
      "E:\\ProgramData\\Anaconda3\\lib\\site-packages\\PIL\\TiffImagePlugin.py:770: UserWarning: Possibly corrupt EXIF data.  Expecting to read 8 bytes but only got 0. Skipping tag 282\n",
      "  \" Skipping tag %s\" % (size, len(data), tag)\n",
      "E:\\ProgramData\\Anaconda3\\lib\\site-packages\\PIL\\TiffImagePlugin.py:770: UserWarning: Possibly corrupt EXIF data.  Expecting to read 8 bytes but only got 0. Skipping tag 283\n",
      "  \" Skipping tag %s\" % (size, len(data), tag)\n",
      "E:\\ProgramData\\Anaconda3\\lib\\site-packages\\PIL\\TiffImagePlugin.py:770: UserWarning: Possibly corrupt EXIF data.  Expecting to read 20 bytes but only got 0. Skipping tag 306\n",
      "  \" Skipping tag %s\" % (size, len(data), tag)\n",
      "E:\\ProgramData\\Anaconda3\\lib\\site-packages\\PIL\\TiffImagePlugin.py:770: UserWarning: Possibly corrupt EXIF data.  Expecting to read 48 bytes but only got 0. Skipping tag 532\n",
      "  \" Skipping tag %s\" % (size, len(data), tag)\n",
      "E:\\ProgramData\\Anaconda3\\lib\\site-packages\\PIL\\TiffImagePlugin.py:788: UserWarning: Corrupt EXIF data.  Expecting to read 2 bytes but only got 0. \n",
      "  warnings.warn(str(msg))\n"
     ]
    },
    {
     "name": "stdout",
     "output_type": "stream",
     "text": [
      "703/703 [==============================] - 148s 210ms/step - loss: 0.6617 - accuracy: 0.6150 - val_loss: 0.6461 - val_accuracy: 0.6126\n",
      "Epoch 2/100\n",
      "703/703 [==============================] - 155s 220ms/step - loss: 0.5955 - accuracy: 0.6758 - val_loss: 0.5144 - val_accuracy: 0.7529\n",
      "Epoch 3/100\n",
      "703/703 [==============================] - 150s 213ms/step - loss: 0.5563 - accuracy: 0.7131 - val_loss: 0.6263 - val_accuracy: 0.6202\n",
      "Epoch 4/100\n",
      "703/703 [==============================] - 150s 214ms/step - loss: 0.5265 - accuracy: 0.7383 - val_loss: 0.5290 - val_accuracy: 0.7457\n",
      "Epoch 5/100\n",
      "703/703 [==============================] - 151s 215ms/step - loss: 0.5071 - accuracy: 0.7538 - val_loss: 0.4946 - val_accuracy: 0.7537\n",
      "Epoch 6/100\n",
      "703/703 [==============================] - 149s 212ms/step - loss: 0.4971 - accuracy: 0.7596 - val_loss: 0.4282 - val_accuracy: 0.8289\n",
      "Epoch 7/100\n",
      "703/703 [==============================] - 148s 210ms/step - loss: 0.4771 - accuracy: 0.7734 - val_loss: 0.8551 - val_accuracy: 0.6130\n",
      "Epoch 8/100\n",
      "703/703 [==============================] - 149s 212ms/step - loss: 0.4639 - accuracy: 0.7808 - val_loss: 0.9537 - val_accuracy: 0.7249\n",
      "Epoch 9/100\n",
      "703/703 [==============================] - 148s 210ms/step - loss: 0.4581 - accuracy: 0.7836 - val_loss: 0.4493 - val_accuracy: 0.8005\n",
      "Epoch 10/100\n",
      "703/703 [==============================] - ETA: 0s - loss: 0.4308 - accuracy: 0.8022\n",
      "Reached 0.8 accuracy so cancelling training!\n",
      "703/703 [==============================] - 147s 209ms/step - loss: 0.4308 - accuracy: 0.8022 - val_loss: 0.5129 - val_accuracy: 0.7469\n"
     ]
    },
    {
     "data": {
      "text/plain": [
       "<tensorflow.python.keras.callbacks.History at 0x119a4d12a08>"
      ]
     },
     "execution_count": 29,
     "metadata": {},
     "output_type": "execute_result"
    }
   ],
   "source": [
    "model.fit(train_generator, epochs=100, validation_data=valid_generator, callbacks=[myCallback()])"
   ]
  },
  {
   "cell_type": "code",
   "execution_count": 30,
   "metadata": {},
   "outputs": [],
   "source": [
    "class myCallback85(tf.keras.callbacks.Callback):\n",
    "    \n",
    "    def on_epoch_end(self, epoch, logs={}):\n",
    "        desired_accuracy=0.85\n",
    "        if(logs.get('accuracy')>desired_accuracy):\n",
    "            print(f\"\\nReached {desired_accuracy} accuracy so cancelling training!\")\n",
    "            self.model.stop_training = True"
   ]
  },
  {
   "cell_type": "code",
   "execution_count": 31,
   "metadata": {},
   "outputs": [
    {
     "name": "stdout",
     "output_type": "stream",
     "text": [
      "Epoch 1/100\n",
      "703/703 [==============================] - 150s 213ms/step - loss: 0.4261 - accuracy: 0.8064 - val_loss: 0.5749 - val_accuracy: 0.6817\n",
      "Epoch 2/100\n",
      "703/703 [==============================] - 152s 216ms/step - loss: 0.4266 - accuracy: 0.8037 - val_loss: 0.4091 - val_accuracy: 0.8217\n",
      "Epoch 3/100\n",
      "703/703 [==============================] - 174s 248ms/step - loss: 0.4090 - accuracy: 0.8141 - val_loss: 0.4680 - val_accuracy: 0.7877\n",
      "Epoch 4/100\n",
      "703/703 [==============================] - 176s 251ms/step - loss: 0.4019 - accuracy: 0.8194 - val_loss: 0.3567 - val_accuracy: 0.8461\n",
      "Epoch 5/100\n",
      "703/703 [==============================] - 174s 247ms/step - loss: 0.4065 - accuracy: 0.8157 - val_loss: 0.6605 - val_accuracy: 0.7553\n",
      "Epoch 6/100\n",
      "703/703 [==============================] - 172s 245ms/step - loss: 0.4044 - accuracy: 0.8155 - val_loss: 0.8016 - val_accuracy: 0.7457\n",
      "Epoch 7/100\n",
      "703/703 [==============================] - 169s 241ms/step - loss: 0.3874 - accuracy: 0.8277 - val_loss: 0.6061 - val_accuracy: 0.6749\n",
      "Epoch 8/100\n",
      "703/703 [==============================] - 169s 241ms/step - loss: 0.3862 - accuracy: 0.8251 - val_loss: 0.4373 - val_accuracy: 0.8077\n",
      "Epoch 9/100\n",
      "703/703 [==============================] - 169s 240ms/step - loss: 0.3770 - accuracy: 0.8291 - val_loss: 0.3181 - val_accuracy: 0.8764\n",
      "Epoch 10/100\n",
      "703/703 [==============================] - 168s 239ms/step - loss: 0.3634 - accuracy: 0.8394 - val_loss: 0.3938 - val_accuracy: 0.8273\n",
      "Epoch 11/100\n",
      "703/703 [==============================] - 169s 240ms/step - loss: 0.3789 - accuracy: 0.8312 - val_loss: 0.7339 - val_accuracy: 0.6553\n",
      "Epoch 12/100\n",
      "703/703 [==============================] - 168s 239ms/step - loss: 0.3707 - accuracy: 0.8338 - val_loss: 0.3041 - val_accuracy: 0.8752\n",
      "Epoch 13/100\n",
      "703/703 [==============================] - 172s 244ms/step - loss: 0.3842 - accuracy: 0.8284 - val_loss: 0.4423 - val_accuracy: 0.8057\n",
      "Epoch 14/100\n",
      "703/703 [==============================] - 170s 241ms/step - loss: 0.3693 - accuracy: 0.8360 - val_loss: 0.3058 - val_accuracy: 0.8780\n",
      "Epoch 15/100\n",
      "703/703 [==============================] - 168s 239ms/step - loss: 0.3493 - accuracy: 0.8453 - val_loss: 0.8982 - val_accuracy: 0.7141\n",
      "Epoch 16/100\n",
      "703/703 [==============================] - 168s 240ms/step - loss: 0.3641 - accuracy: 0.8390 - val_loss: 0.3908 - val_accuracy: 0.8581\n",
      "Epoch 17/100\n",
      "703/703 [==============================] - 164s 233ms/step - loss: 0.3477 - accuracy: 0.8482 - val_loss: 0.5868 - val_accuracy: 0.8017\n",
      "Epoch 18/100\n",
      "703/703 [==============================] - 165s 234ms/step - loss: 0.3734 - accuracy: 0.8328 - val_loss: 0.3641 - val_accuracy: 0.8513\n",
      "Epoch 19/100\n",
      "703/703 [==============================] - 166s 236ms/step - loss: 0.3436 - accuracy: 0.8493 - val_loss: 0.2576 - val_accuracy: 0.9044\n",
      "Epoch 20/100\n",
      "703/703 [==============================] - ETA: 0s - loss: 0.3350 - accuracy: 0.8522\n",
      "Reached 0.85 accuracy so cancelling training!\n",
      "703/703 [==============================] - 168s 238ms/step - loss: 0.3350 - accuracy: 0.8522 - val_loss: 0.6910 - val_accuracy: 0.7637\n"
     ]
    },
    {
     "data": {
      "text/plain": [
       "<tensorflow.python.keras.callbacks.History at 0x1198e5d1148>"
      ]
     },
     "execution_count": 31,
     "metadata": {},
     "output_type": "execute_result"
    }
   ],
   "source": [
    "model.fit(train_generator, epochs=100, validation_data=valid_generator, callbacks=[myCallback85()])"
   ]
  },
  {
   "cell_type": "code",
   "execution_count": null,
   "metadata": {},
   "outputs": [],
   "source": []
  }
 ],
 "metadata": {
  "kernelspec": {
   "display_name": "Python 3",
   "language": "python",
   "name": "python3"
  },
  "language_info": {
   "codemirror_mode": {
    "name": "ipython",
    "version": 3
   },
   "file_extension": ".py",
   "mimetype": "text/x-python",
   "name": "python",
   "nbconvert_exporter": "python",
   "pygments_lexer": "ipython3",
   "version": "3.7.6"
  }
 },
 "nbformat": 4,
 "nbformat_minor": 4
}
