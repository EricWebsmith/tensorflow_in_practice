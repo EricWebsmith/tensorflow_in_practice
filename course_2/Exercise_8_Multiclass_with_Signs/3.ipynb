{
 "cells": [
  {
   "cell_type": "code",
   "execution_count": 1,
   "metadata": {},
   "outputs": [
    {
     "name": "stdout",
     "output_type": "stream",
     "text": [
      "2.2.0\n"
     ]
    }
   ],
   "source": [
    "import csv\n",
    "import numpy as np\n",
    "import tensorflow as tf\n",
    "from tensorflow.keras.preprocessing.image import ImageDataGenerator\n",
    "print(tf.__version__)"
   ]
  },
  {
   "cell_type": "code",
   "execution_count": 70,
   "metadata": {},
   "outputs": [],
   "source": [
    "class myCallback(tf.keras.callbacks.Callback):\n",
    "    def on_epoch_end(self, epoch, logs={}):\n",
    "        desired_accuracy=0.99\n",
    "        if(logs.get('val_accuracy')>desired_accuracy):\n",
    "            print(f\"\\nReached {desired_accuracy} accuracy so cancelling training!\")\n",
    "            self.model.stop_training = True"
   ]
  },
  {
   "cell_type": "code",
   "execution_count": null,
   "metadata": {},
   "outputs": [],
   "source": []
  },
  {
   "cell_type": "code",
   "execution_count": 3,
   "metadata": {},
   "outputs": [],
   "source": [
    "labels=[]\n",
    "images=[]\n",
    "\n",
    "with open('/tmp/sign/sign_mnist_train.csv') as train_file:\n",
    "    reader=csv.reader(train_file)\n",
    "    next(reader)\n",
    "\n",
    "    for row in reader:\n",
    "        labels.append(int(row[0]))\n",
    "        image=[]\n",
    "        for i in range(1, 784+1):\n",
    "            image.append(int(row[i]))\n",
    "        images.append(image)\n",
    "        \n",
    "labels = np.array(labels)\n",
    "images = np.array(images)\n",
    "images=images.reshape(-1, 28, 28, 1)"
   ]
  },
  {
   "cell_type": "code",
   "execution_count": 21,
   "metadata": {},
   "outputs": [
    {
     "data": {
      "text/plain": [
       "(27455, 28, 28, 1)"
      ]
     },
     "execution_count": 21,
     "metadata": {},
     "output_type": "execute_result"
    }
   ],
   "source": [
    "images.shape"
   ]
  },
  {
   "cell_type": "code",
   "execution_count": 4,
   "metadata": {},
   "outputs": [],
   "source": [
    "valid_images=[]\n",
    "valid_labels=[]\n",
    "with open('/tmp/sign/sign_mnist_test.csv') as  valid_file:\n",
    "    reader=csv.reader(valid_file)\n",
    "    next(reader)\n",
    "    for row in reader:\n",
    "        valid_labels.append(int(row[0]))\n",
    "        image=[]\n",
    "        for i in range(1, 784+1):\n",
    "            image.append(int(row[i]))\n",
    "        valid_images.append(image)\n",
    "        \n",
    "valid_labels = np.array(valid_labels)        \n",
    "valid_images = np.array(valid_images)\n",
    "valid_images=valid_images.reshape(-1, 28, 28, 1)"
   ]
  },
  {
   "cell_type": "code",
   "execution_count": 20,
   "metadata": {},
   "outputs": [
    {
     "data": {
      "text/plain": [
       "(7172, 28, 28, 1)"
      ]
     },
     "execution_count": 20,
     "metadata": {},
     "output_type": "execute_result"
    }
   ],
   "source": [
    "valid_images.shape"
   ]
  },
  {
   "cell_type": "code",
   "execution_count": 60,
   "metadata": {},
   "outputs": [],
   "source": [
    "train_gen = ImageDataGenerator(\n",
    "    rescale=1/255,\n",
    "    rotation_range=10,\n",
    "    width_shift_range=0.1,\n",
    "    height_shift_range=0.1,\n",
    "    shear_range=0.1,\n",
    "    zoom_range=0.1,\n",
    "    horizontal_flip=False,\n",
    ")\n",
    "train_generator = train_gen.flow(images, labels)"
   ]
  },
  {
   "cell_type": "code",
   "execution_count": null,
   "metadata": {
    "scrolled": true
   },
   "outputs": [],
   "source": []
  },
  {
   "cell_type": "code",
   "execution_count": 47,
   "metadata": {},
   "outputs": [],
   "source": [
    "valid_gen = ImageDataGenerator(rescale=1/255)\n",
    "valid_generator = valid_gen.flow(valid_images, valid_labels)"
   ]
  },
  {
   "cell_type": "code",
   "execution_count": null,
   "metadata": {},
   "outputs": [],
   "source": []
  },
  {
   "cell_type": "code",
   "execution_count": null,
   "metadata": {},
   "outputs": [],
   "source": []
  },
  {
   "cell_type": "code",
   "execution_count": 71,
   "metadata": {},
   "outputs": [],
   "source": [
    "model=tf.keras.models.Sequential([\n",
    "    tf.keras.layers.Conv2D(16, (3,3), activation='relu', input_shape=(28, 28, 1)),\n",
    "    tf.keras.layers.MaxPooling2D((2,2)),\n",
    "    tf.keras.layers.BatchNormalization(),\n",
    "      \n",
    "    tf.keras.layers.Conv2D(32, (3,3), activation='relu'),\n",
    "    tf.keras.layers.MaxPooling2D((2,2)),\n",
    "    tf.keras.layers.BatchNormalization(),\n",
    "    \n",
    "    tf.keras.layers.Flatten(),\n",
    "    tf.keras.layers.Dense(25, activation='softmax'),\n",
    "])"
   ]
  },
  {
   "cell_type": "code",
   "execution_count": 72,
   "metadata": {},
   "outputs": [
    {
     "name": "stdout",
     "output_type": "stream",
     "text": [
      "Model: \"sequential_11\"\n",
      "_________________________________________________________________\n",
      "Layer (type)                 Output Shape              Param #   \n",
      "=================================================================\n",
      "conv2d_27 (Conv2D)           (None, 26, 26, 16)        160       \n",
      "_________________________________________________________________\n",
      "max_pooling2d_27 (MaxPooling (None, 13, 13, 16)        0         \n",
      "_________________________________________________________________\n",
      "batch_normalization_27 (Batc (None, 13, 13, 16)        64        \n",
      "_________________________________________________________________\n",
      "conv2d_28 (Conv2D)           (None, 11, 11, 32)        4640      \n",
      "_________________________________________________________________\n",
      "max_pooling2d_28 (MaxPooling (None, 5, 5, 32)          0         \n",
      "_________________________________________________________________\n",
      "batch_normalization_28 (Batc (None, 5, 5, 32)          128       \n",
      "_________________________________________________________________\n",
      "flatten_11 (Flatten)         (None, 800)               0         \n",
      "_________________________________________________________________\n",
      "dense_17 (Dense)             (None, 25)                20025     \n",
      "=================================================================\n",
      "Total params: 25,017\n",
      "Trainable params: 24,921\n",
      "Non-trainable params: 96\n",
      "_________________________________________________________________\n"
     ]
    }
   ],
   "source": [
    "model.summary()"
   ]
  },
  {
   "cell_type": "code",
   "execution_count": 73,
   "metadata": {},
   "outputs": [],
   "source": [
    "model.compile(loss='sparse_categorical_crossentropy', optimizer='adam', metrics=['accuracy'])"
   ]
  },
  {
   "cell_type": "code",
   "execution_count": 74,
   "metadata": {},
   "outputs": [
    {
     "name": "stdout",
     "output_type": "stream",
     "text": [
      "Epoch 1/100\n",
      "856/858 [============================>.] - ETA: 0s - loss: 0.9276 - accuracy: 0.7244\n",
      "Epoch 00001: val_loss improved from inf to 0.43674, saving model to /tmp/sign/best.h5\n",
      "858/858 [==============================] - 7s 9ms/step - loss: 0.9267 - accuracy: 0.7246 - val_loss: 0.4367 - val_accuracy: 0.8454\n",
      "Epoch 2/100\n",
      "853/858 [============================>.] - ETA: 0s - loss: 0.2836 - accuracy: 0.9132\n",
      "Epoch 00002: val_loss improved from 0.43674 to 0.18962, saving model to /tmp/sign/best.h5\n",
      "858/858 [==============================] - 8s 9ms/step - loss: 0.2832 - accuracy: 0.9131 - val_loss: 0.1896 - val_accuracy: 0.9264\n",
      "Epoch 3/100\n",
      "854/858 [============================>.] - ETA: 0s - loss: 0.1745 - accuracy: 0.9472\n",
      "Epoch 00003: val_loss did not improve from 0.18962\n",
      "858/858 [==============================] - 7s 9ms/step - loss: 0.1743 - accuracy: 0.9473 - val_loss: 0.5417 - val_accuracy: 0.8410\n",
      "Epoch 4/100\n",
      "853/858 [============================>.] - ETA: 0s - loss: 0.1209 - accuracy: 0.9637\n",
      "Epoch 00004: val_loss did not improve from 0.18962\n",
      "858/858 [==============================] - 7s 8ms/step - loss: 0.1208 - accuracy: 0.9637 - val_loss: 0.3775 - val_accuracy: 0.8733\n",
      "Epoch 5/100\n",
      "854/858 [============================>.] - ETA: 0s - loss: 0.0983 - accuracy: 0.9693\n",
      "Epoch 00005: val_loss improved from 0.18962 to 0.07867, saving model to /tmp/sign/best.h5\n",
      "858/858 [==============================] - 8s 9ms/step - loss: 0.0982 - accuracy: 0.9693 - val_loss: 0.0787 - val_accuracy: 0.9748\n",
      "Epoch 6/100\n",
      "858/858 [==============================] - ETA: 0s - loss: 0.0808 - accuracy: 0.9754\n",
      "Epoch 00006: val_loss did not improve from 0.07867\n",
      "858/858 [==============================] - 7s 9ms/step - loss: 0.0808 - accuracy: 0.9754 - val_loss: 0.2047 - val_accuracy: 0.9282\n",
      "Epoch 7/100\n",
      "858/858 [==============================] - ETA: 0s - loss: 0.0667 - accuracy: 0.9801\n",
      "Epoch 00007: val_loss improved from 0.07867 to 0.02963, saving model to /tmp/sign/best.h5\n",
      "858/858 [==============================] - 8s 9ms/step - loss: 0.0667 - accuracy: 0.9801 - val_loss: 0.0296 - val_accuracy: 0.9891\n",
      "Epoch 8/100\n",
      "853/858 [============================>.] - ETA: 0s - loss: 0.0607 - accuracy: 0.9815\n",
      "Epoch 00008: val_loss did not improve from 0.02963\n",
      "858/858 [==============================] - 7s 9ms/step - loss: 0.0606 - accuracy: 0.9816 - val_loss: 0.1571 - val_accuracy: 0.9477\n",
      "Epoch 9/100\n",
      "854/858 [============================>.] - ETA: 0s - loss: 0.0567 - accuracy: 0.9814\n",
      "Epoch 00009: val_loss did not improve from 0.02963\n",
      "858/858 [==============================] - 7s 9ms/step - loss: 0.0567 - accuracy: 0.9815 - val_loss: 0.2855 - val_accuracy: 0.9212\n",
      "Epoch 10/100\n",
      "855/858 [============================>.] - ETA: 0s - loss: 0.0545 - accuracy: 0.9826\n",
      "Reached 0.99 accuracy so cancelling training!\n",
      "\n",
      "Epoch 00010: val_loss improved from 0.02963 to 0.02810, saving model to /tmp/sign/best.h5\n",
      "858/858 [==============================] - 8s 9ms/step - loss: 0.0544 - accuracy: 0.9826 - val_loss: 0.0281 - val_accuracy: 0.9918\n"
     ]
    },
    {
     "data": {
      "text/plain": [
       "<tensorflow.python.keras.callbacks.History at 0x1a341ccbbc8>"
      ]
     },
     "execution_count": 74,
     "metadata": {},
     "output_type": "execute_result"
    }
   ],
   "source": [
    "model.fit(train_generator, epochs=100, validation_data=valid_generator, \n",
    "    callbacks=[myCallback(), tf.keras.callbacks.ModelCheckpoint(\"/tmp/sign/best.h5\", save_best_only=True, verbose=2)]\n",
    "    )"
   ]
  },
  {
   "cell_type": "code",
   "execution_count": null,
   "metadata": {},
   "outputs": [],
   "source": []
  }
 ],
 "metadata": {
  "kernelspec": {
   "display_name": "Python 3",
   "language": "python",
   "name": "python3"
  },
  "language_info": {
   "codemirror_mode": {
    "name": "ipython",
    "version": 3
   },
   "file_extension": ".py",
   "mimetype": "text/x-python",
   "name": "python",
   "nbconvert_exporter": "python",
   "pygments_lexer": "ipython3",
   "version": "3.7.6"
  }
 },
 "nbformat": 4,
 "nbformat_minor": 4
}
