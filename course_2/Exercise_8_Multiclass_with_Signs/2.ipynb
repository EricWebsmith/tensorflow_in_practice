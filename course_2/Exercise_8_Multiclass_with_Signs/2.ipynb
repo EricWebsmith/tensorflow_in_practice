{
 "cells": [
  {
   "cell_type": "code",
   "execution_count": 5,
   "metadata": {
    "colab": {},
    "colab_type": "code",
    "id": "wYtuKeK0dImp"
   },
   "outputs": [],
   "source": [
    "import csv\n",
    "import numpy as np\n",
    "import tensorflow as tf\n",
    "from tensorflow.keras.preprocessing.image import ImageDataGenerator\n",
    "#from google.colab import files"
   ]
  },
  {
   "cell_type": "markdown",
   "metadata": {
    "colab_type": "text",
    "id": "EmMyh9_mkDHF"
   },
   "source": [
    "The data for this exercise is available at: https://www.kaggle.com/datamunge/sign-language-mnist/home\n",
    "\n",
    "Sign up and download to find 2 CSV files: sign_mnist_test.csv and sign_mnist_train.csv -- You will upload both of them using this button before you can continue.\n"
   ]
  },
  {
   "cell_type": "code",
   "execution_count": 6,
   "metadata": {
    "colab": {},
    "colab_type": "code",
    "id": "IcLOZlnnc_N7"
   },
   "outputs": [],
   "source": [
    "#uploaded=files.upload()"
   ]
  },
  {
   "cell_type": "code",
   "execution_count": 7,
   "metadata": {
    "colab": {},
    "colab_type": "code",
    "id": "4kxw-_rmcnVu"
   },
   "outputs": [
    {
     "name": "stdout",
     "output_type": "stream",
     "text": [
      "(27455, 28, 28)\n",
      "(27455,)\n",
      "(7172, 28, 28)\n",
      "(7172,)\n"
     ]
    }
   ],
   "source": [
    "def get_data(filename):\n",
    "    # You will need to write code that will read the file passed\n",
    "    # into this function. The first line contains the column headers\n",
    "    # so you should ignore it\n",
    "    # Each successive line contians 785 comma separated values between 0 and 255\n",
    "    # The first value is the label\n",
    "    # The rest are the pixel values for that picture\n",
    "    # The function will return 2 np.array types. One with all the labels\n",
    "    # One with all the images\n",
    "    #\n",
    "    # Tips: \n",
    "    # If you read a full line (as 'row') then row[0] has the label\n",
    "    # and row[1:785] has the 784 pixel values\n",
    "    # Take a look at np.array_split to turn the 784 pixels into 28x28\n",
    "    # You are reading in strings, but need the values to be floats\n",
    "    # Check out np.array().astype for a conversion\n",
    "    with open(filename) as training_file:\n",
    "        # Your code starts here\n",
    "        csv_reader = csv.reader(training_file, delimiter=',')\n",
    "        next(csv_reader)\n",
    "        temp_images = []\n",
    "        temp_labels = []\n",
    "        for row in csv_reader:\n",
    "            image_data = row[1:785]\n",
    "            image_data_as_array = np.array_split(image_data, 28)\n",
    "            temp_images.append(image_data_as_array)\n",
    "            temp_labels.append(row[0])\n",
    "        # Your code ends here\n",
    "        images=np.array(temp_images).astype('float')\n",
    "        labels=np.array(temp_labels).astype('float')\n",
    "    return images, labels\n",
    "\n",
    "\n",
    "training_images, training_labels = get_data('/tmp/sign/sign_mnist_train.csv')\n",
    "testing_images, testing_labels = get_data('/tmp/sign/sign_mnist_test.csv')\n",
    "\n",
    "# Keep these\n",
    "print(training_images.shape)\n",
    "print(training_labels.shape)\n",
    "print(testing_images.shape)\n",
    "print(testing_labels.shape)\n",
    "\n",
    "# Their output should be:\n",
    "# (27455, 28, 28)\n",
    "# (27455,)\n",
    "# (7172, 28, 28)\n",
    "# (7172,)"
   ]
  },
  {
   "cell_type": "code",
   "execution_count": 8,
   "metadata": {
    "colab": {},
    "colab_type": "code",
    "id": "awoqRpyZdQkD"
   },
   "outputs": [
    {
     "name": "stdout",
     "output_type": "stream",
     "text": [
      "(27455, 28, 28, 1)\n",
      "(7172, 28, 28, 1)\n"
     ]
    }
   ],
   "source": [
    "# In this section you will have to add another dimension to the data\n",
    "# So, for example, if your array is (10000, 28, 28)\n",
    "# You will need to make it (10000, 28, 28, 1)\n",
    "# Hint: np.expand_dims\n",
    "\n",
    "training_images = np.expand_dims(training_images, axis=3)\n",
    "testing_images = np.expand_dims(testing_images, axis=3)\n",
    "\n",
    "# Create an ImageDataGenerator and do Image Augmentation\n",
    "train_datagen = ImageDataGenerator(\n",
    "    rescale=1/255,\n",
    "    rotation_range=40,\n",
    "    width_shift_range=0.2,\n",
    "    height_shift_range=0.2,\n",
    "    shear_range=0.2,\n",
    "    zoom_range=0.2,\n",
    "    horizontal_flip=True\n",
    ")\n",
    "\n",
    "validation_datagen = ImageDataGenerator(rescale=1/255)\n",
    "    \n",
    "# Keep These\n",
    "print(training_images.shape)\n",
    "print(testing_images.shape)\n",
    "    \n",
    "# Their output should be:\n",
    "# (27455, 28, 28, 1)\n",
    "# (7172, 28, 28, 1)"
   ]
  },
  {
   "cell_type": "code",
   "execution_count": 11,
   "metadata": {
    "colab": {},
    "colab_type": "code",
    "id": "Rmb7S32cgRqS"
   },
   "outputs": [
    {
     "name": "stdout",
     "output_type": "stream",
     "text": [
      "Epoch 1/15\n",
      "858/858 [==============================] - 8s 9ms/step - loss: 3.0034 - accuracy: 0.0986 - val_loss: 2.4006 - val_accuracy: 0.2807\n",
      "Epoch 2/15\n",
      "858/858 [==============================] - 7s 8ms/step - loss: 2.4282 - accuracy: 0.2463 - val_loss: 1.8667 - val_accuracy: 0.3713\n",
      "Epoch 3/15\n",
      "858/858 [==============================] - 7s 8ms/step - loss: 2.0895 - accuracy: 0.3385 - val_loss: 1.5231 - val_accuracy: 0.4912\n",
      "Epoch 4/15\n",
      "858/858 [==============================] - 7s 9ms/step - loss: 1.8720 - accuracy: 0.4043 - val_loss: 1.3143 - val_accuracy: 0.5446\n",
      "Epoch 5/15\n",
      "858/858 [==============================] - 7s 9ms/step - loss: 1.7011 - accuracy: 0.4521 - val_loss: 1.0312 - val_accuracy: 0.6762\n",
      "Epoch 6/15\n",
      "858/858 [==============================] - 7s 9ms/step - loss: 1.5479 - accuracy: 0.4983 - val_loss: 0.9832 - val_accuracy: 0.6715\n",
      "Epoch 7/15\n",
      "858/858 [==============================] - 7s 9ms/step - loss: 1.4421 - accuracy: 0.5279 - val_loss: 0.8341 - val_accuracy: 0.7195\n",
      "Epoch 8/15\n",
      "858/858 [==============================] - 7s 9ms/step - loss: 1.3645 - accuracy: 0.5507 - val_loss: 0.7280 - val_accuracy: 0.7560\n",
      "Epoch 9/15\n",
      "858/858 [==============================] - 7s 9ms/step - loss: 1.3058 - accuracy: 0.5738 - val_loss: 0.7084 - val_accuracy: 0.7447\n",
      "Epoch 10/15\n",
      "858/858 [==============================] - 7s 9ms/step - loss: 1.2348 - accuracy: 0.5918 - val_loss: 0.7038 - val_accuracy: 0.7648\n",
      "Epoch 11/15\n",
      "858/858 [==============================] - 7s 8ms/step - loss: 1.1921 - accuracy: 0.6075 - val_loss: 0.6061 - val_accuracy: 0.7861\n",
      "Epoch 12/15\n",
      "858/858 [==============================] - 7s 9ms/step - loss: 1.1411 - accuracy: 0.6208 - val_loss: 0.6045 - val_accuracy: 0.7949\n",
      "Epoch 13/15\n",
      "858/858 [==============================] - 7s 8ms/step - loss: 1.1104 - accuracy: 0.6323 - val_loss: 0.5784 - val_accuracy: 0.7998\n",
      "Epoch 14/15\n",
      "858/858 [==============================] - 7s 8ms/step - loss: 1.0709 - accuracy: 0.6425 - val_loss: 0.6206 - val_accuracy: 0.7720\n",
      "Epoch 15/15\n",
      "858/858 [==============================] - 7s 9ms/step - loss: 1.0356 - accuracy: 0.6523 - val_loss: 0.5429 - val_accuracy: 0.8024\n",
      "225/225 [==============================] - 0s 2ms/step - loss: 201.9079 - accuracy: 0.5449\n"
     ]
    },
    {
     "data": {
      "text/plain": [
       "[6.92426086682151, 0.56609035]"
      ]
     },
     "execution_count": 11,
     "metadata": {},
     "output_type": "execute_result"
    }
   ],
   "source": [
    "# Define the model\n",
    "# Use no more than 2 Conv2D and 2 MaxPooling2D\n",
    "model = tf.keras.models.Sequential([\n",
    "    # Your Code Here\n",
    "    tf.keras.layers.Conv2D(16, (3,3), activation='relu', input_shape=(28, 28, 1)),\n",
    "    tf.keras.layers.MaxPooling2D((2,2)),\n",
    "    tf.keras.layers.Dropout(0.2),\n",
    "    tf.keras.layers.Conv2D(32, (3,3), activation='relu'),\n",
    "    tf.keras.layers.MaxPooling2D((2,2)),\n",
    "    tf.keras.layers.Dropout(0.2),\n",
    "    tf.keras.layers.Flatten(),\n",
    "    tf.keras.layers.Dense(128, activation='relu'),\n",
    "    tf.keras.layers.Dense(26, activation='softmax')\n",
    "])\n",
    "\n",
    "# Compile Model. \n",
    "model.compile(loss='sparse_categorical_crossentropy', optimizer='adam', metrics=['accuracy'])\n",
    "\n",
    "# Train the Model\n",
    "history = model.fit(\n",
    "    train_datagen.flow(training_images, training_labels, batch_size=32),\n",
    "    validation_data=validation_datagen.flow(testing_images, testing_labels, batch_size=32),\n",
    "    epochs=15,\n",
    "    \n",
    ")\n",
    "\n",
    "model.evaluate(testing_images, testing_labels)\n",
    "    \n",
    "# The output from model.evaluate should be close to:\n",
    "[6.92426086682151, 0.56609035]\n"
   ]
  },
  {
   "cell_type": "code",
   "execution_count": 12,
   "metadata": {
    "colab": {},
    "colab_type": "code",
    "id": "_Q3Zpr46dsij"
   },
   "outputs": [
    {
     "data": {
      "image/png": "[encoded data removed]",
      "text/plain": [
       "<Figure size 432x288 with 1 Axes>"
      ]
     },
     "metadata": {
      "needs_background": "light"
     },
     "output_type": "display_data"
    },
    {
     "data": {
      "image/png": "[encoded data removed]",
      "text/plain": [
       "<Figure size 432x288 with 1 Axes>"
      ]
     },
     "metadata": {
      "needs_background": "light"
     },
     "output_type": "display_data"
    }
   ],
   "source": [
    "# Plot the chart for accuracy and loss on both training and validation\n",
    "\n",
    "import matplotlib.pyplot as plt\n",
    "acc = history.history['accuracy']\n",
    "val_acc = history.history['val_accuracy']\n",
    "loss = history.history['loss']\n",
    "val_loss =  history.history['val_loss']\n",
    "\n",
    "epochs = range(len(acc))\n",
    "\n",
    "plt.plot(epochs, acc, 'r', label='Training accuracy')\n",
    "plt.plot(epochs, val_acc, 'b', label='Validation accuracy')\n",
    "plt.title('Training and validation accuracy')\n",
    "plt.legend()\n",
    "plt.figure()\n",
    "\n",
    "plt.plot(epochs, loss, 'r', label='Training Loss')\n",
    "plt.plot(epochs, val_loss, 'b', label='Validation Loss')\n",
    "plt.title('Training and validation loss')\n",
    "plt.legend()\n",
    "\n",
    "plt.show()"
   ]
  },
  {
   "cell_type": "code",
   "execution_count": null,
   "metadata": {},
   "outputs": [],
   "source": []
  }
 ],
 "metadata": {
  "colab": {
   "name": "Exercise 8 - Question.ipynb",
   "provenance": [
    {
     "file_id": "1KMi9wAhMhxvuc-bfptkCUlnVRGrh5ySj",
     "timestamp": 1550682934823
    }
   ],
   "version": "0.3.2"
  },
  "kernelspec": {
   "display_name": "Python 3",
   "language": "python",
   "name": "python3"
  },
  "language_info": {
   "codemirror_mode": {
    "name": "ipython",
    "version": 3
   },
   "file_extension": ".py",
   "mimetype": "text/x-python",
   "name": "python",
   "nbconvert_exporter": "python",
   "pygments_lexer": "ipython3",
   "version": "3.7.6"
  }
 },
 "nbformat": 4,
 "nbformat_minor": 1
}
