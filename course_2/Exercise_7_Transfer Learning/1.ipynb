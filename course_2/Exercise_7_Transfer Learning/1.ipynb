{
 "cells": [
  {
   "cell_type": "code",
   "execution_count": 1,
   "metadata": {
    "colab": {},
    "colab_type": "code",
    "id": "lbFmQdsZs5eW"
   },
   "outputs": [],
   "source": [
    "# Import all the necessary files!\n",
    "import os\n",
    "import path\n",
    "import tensorflow as tf\n",
    "from tensorflow.keras import layers\n",
    "from tensorflow.keras import Model"
   ]
  },
  {
   "cell_type": "code",
   "execution_count": 2,
   "metadata": {},
   "outputs": [],
   "source": [
    "# Download the inception v3 weights\n",
    "\n",
    "#!wget --no-check-certificate \\\n",
    "#    https://storage.googleapis.com/mledu-datasets/inception_v3_weights_tf_dim_ordering_tf_kernels_notop.h5 \\\n",
    "#    -O /tmp/inception_v3_weights_tf_dim_ordering_tf_kernels_notop.h5"
   ]
  },
  {
   "cell_type": "code",
   "execution_count": 3,
   "metadata": {
    "colab": {},
    "colab_type": "code",
    "id": "1xJZ5glPPCRz"
   },
   "outputs": [],
   "source": [
    "\n",
    "\n",
    "# Import the inception model  \n",
    "from tensorflow.keras.applications.inception_v3 import InceptionV3\n",
    "\n",
    "# Create an instance of the inception model from the local pre-trained weights\n",
    "local_weights_file = '/tmp/inception_v3_weights_tf_dim_ordering_tf_kernels_notop.h5'\n",
    "\n",
    "pre_trained_model = InceptionV3(input_shape=(150, 150, 3), include_top=False, weights=None)\n",
    "\n",
    "pre_trained_model.load_weights(local_weights_file)\n",
    "\n",
    "# Make all the layers in the pre-trained model non-trainable\n",
    "for layer in pre_trained_model.layers:\n",
    "    layer.trainable=True\n",
    "  # Your Code Here\n",
    "  \n",
    "# Print the model summary\n",
    "#pre_trained_model.summary()\n",
    "\n",
    "# Expected Output is extremely large, but should end with:\n",
    "\n",
    "#batch_normalization_v1_281 (Bat (None, 3, 3, 192)    576         conv2d_281[0][0]                 \n",
    "#__________________________________________________________________________________________________\n",
    "#activation_273 (Activation)     (None, 3, 3, 320)    0           batch_normalization_v1_273[0][0] \n",
    "#__________________________________________________________________________________________________\n",
    "#mixed9_1 (Concatenate)          (None, 3, 3, 768)    0           activation_275[0][0]             \n",
    "#                                                                 activation_276[0][0]             \n",
    "#__________________________________________________________________________________________________\n",
    "#concatenate_5 (Concatenate)     (None, 3, 3, 768)    0           activation_279[0][0]             \n",
    "#                                                                 activation_280[0][0]             \n",
    "#__________________________________________________________________________________________________\n",
    "#activation_281 (Activation)     (None, 3, 3, 192)    0           batch_normalization_v1_281[0][0] \n",
    "#__________________________________________________________________________________________________\n",
    "#mixed10 (Concatenate)           (None, 3, 3, 2048)   0           activation_273[0][0]             \n",
    "#                                                                 mixed9_1[0][0]                   \n",
    "#                                                                 concatenate_5[0][0]              \n",
    "#                                                                 activation_281[0][0]             \n",
    "#==================================================================================================\n",
    "#Total params: 21,802,784\n",
    "#Trainable params: 0\n",
    "#Non-trainable params: 21,802,784"
   ]
  },
  {
   "cell_type": "code",
   "execution_count": 4,
   "metadata": {
    "colab": {},
    "colab_type": "code",
    "id": "CFsUlwdfs_wg"
   },
   "outputs": [
    {
     "name": "stdout",
     "output_type": "stream",
     "text": [
      "last layer output shape:  (None, 7, 7, 768)\n"
     ]
    }
   ],
   "source": [
    "last_layer = pre_trained_model.get_layer(\"mixed7\")\n",
    "print('last layer output shape: ', last_layer.output_shape)\n",
    "last_output = last_layer.output\n",
    "\n",
    "# Expected Output:\n",
    "# ('last layer output shape: ', (None, 7, 7, 768))"
   ]
  },
  {
   "cell_type": "code",
   "execution_count": 14,
   "metadata": {
    "colab": {},
    "colab_type": "code",
    "id": "-bsWZWp5oMq9"
   },
   "outputs": [],
   "source": [
    "# Define a Callback class that stops training once accuracy reaches 99.9%\n",
    "class myCallback(tf.keras.callbacks.Callback):\n",
    "    def on_epoch_end(self, epoch, logs={}):\n",
    "        #print(type(logs))\n",
    "        #display(logs)\n",
    "        if(logs.get('val_accuracy')>0.99):\n",
    "            print(\"\\nReached 99.9% accuracy so cancelling training!\")\n",
    "            self.model.stop_training = True\n",
    "\n",
    "      "
   ]
  },
  {
   "cell_type": "code",
   "execution_count": 15,
   "metadata": {
    "colab": {},
    "colab_type": "code",
    "id": "BMXb913pbvFg"
   },
   "outputs": [],
   "source": [
    "from tensorflow.keras.optimizers import RMSprop\n",
    "\n",
    "# Flatten the output layer to 1 dimension\n",
    "x = layers.Flatten()(last_output)\n",
    "# Add a fully connected layer with 1,024 hidden units and ReLU activation\n",
    "x = layers.Dense(1024, activation='relu')(x)\n",
    "# Add a dropout rate of 0.2\n",
    "x = layers.Dropout(0.2)(x)                  \n",
    "# Add a final sigmoid layer for classification\n",
    "x = layers.Dense  (1, activation='sigmoid')(x)           \n",
    "\n",
    "model = Model(inputs=[pre_trained_model.input], outputs=x) \n",
    "\n",
    "model.compile(optimizer = RMSprop(lr=0.0001), \n",
    "              loss = 'binary_crossentropy', \n",
    "              metrics = ['accuracy'])\n",
    "\n",
    "#model.summary()\n",
    "\n",
    "# Expected output will be large. Last few lines should be:\n",
    "\n",
    "# mixed7 (Concatenate)            (None, 7, 7, 768)    0           activation_248[0][0]             \n",
    "#                                                                  activation_251[0][0]             \n",
    "#                                                                  activation_256[0][0]             \n",
    "#                                                                  activation_257[0][0]             \n",
    "# __________________________________________________________________________________________________\n",
    "# flatten_4 (Flatten)             (None, 37632)        0           mixed7[0][0]                     \n",
    "# __________________________________________________________________________________________________\n",
    "# dense_8 (Dense)                 (None, 1024)         38536192    flatten_4[0][0]                  \n",
    "# __________________________________________________________________________________________________\n",
    "# dropout_4 (Dropout)             (None, 1024)         0           dense_8[0][0]                    \n",
    "# __________________________________________________________________________________________________\n",
    "# dense_9 (Dense)                 (None, 1)            1025        dropout_4[0][0]                  \n",
    "# ==================================================================================================\n",
    "# Total params: 47,512,481\n",
    "# Trainable params: 38,537,217\n",
    "# Non-trainable params: 8,975,264"
   ]
  },
  {
   "cell_type": "code",
   "execution_count": 8,
   "metadata": {
    "colab": {},
    "colab_type": "code",
    "id": "HrnL_IQ8knWA"
   },
   "outputs": [],
   "source": [
    "# Get the Horse or Human dataset\n",
    "#!wget --no-check-certificate https://storage.googleapis.com/laurencemoroney-blog.appspot.com/horse-or-human.zip -O /tmp/horse-or-human.zip\n",
    "\n",
    "# Get the Horse or Human Validation dataset\n",
    "#!wget --no-check-certificate https://storage.googleapis.com/laurencemoroney-blog.appspot.com/validation-horse-or-human.zip -O /tmp/validation-horse-or-human.zip \n",
    "  \n",
    "adwl\n",
    "\n",
    "import os\n",
    "import zipfile\n",
    "\n",
    "try:\n",
    "    os.mkdir(\"/tmp/horse-or-human/\")\n",
    "except:\n",
    "    pass\n",
    "\n",
    "local_zip = '/tmp/horse-or-human.zip'\n",
    "zip_ref = zipfile.ZipFile(local_zip, 'r')\n",
    "zip_ref.extractall('/tmp/horse-or-human/training')\n",
    "zip_ref.close()\n",
    "\n",
    "local_zip = '/tmp/validation-horse-or-human.zip'\n",
    "zip_ref = zipfile.ZipFile(local_zip, 'r')\n",
    "zip_ref.extractall('/tmp/horse-or-human/validation')\n",
    "zip_ref.close()"
   ]
  },
  {
   "cell_type": "code",
   "execution_count": 7,
   "metadata": {
    "colab": {},
    "colab_type": "code",
    "id": "y9okX7_ovskI"
   },
   "outputs": [
    {
     "name": "stdout",
     "output_type": "stream",
     "text": [
      "500\n",
      "527\n",
      "128\n",
      "128\n"
     ]
    }
   ],
   "source": [
    "train_horses_dir = '/tmp/horse-or-human/training/horses'\n",
    "train_humans_dir = '/tmp/horse-or-human/training/humans'\n",
    "validation_horses_dir = '/tmp/horse-or-human/validation/horses'\n",
    "validation_humans_dir = '/tmp/horse-or-human/validation/humans'\n",
    "\n",
    "train_horses_fnames = os.listdir(train_horses_dir)\n",
    "train_humans_fnames = os.listdir(train_humans_dir)\n",
    "validation_horses_fnames = os.listdir(validation_horses_dir)\n",
    "validation_humans_fnames = os.listdir(validation_humans_dir)\n",
    "\n",
    "print(len(train_horses_fnames))\n",
    "print(len(train_humans_fnames))\n",
    "print(len(validation_horses_fnames))\n",
    "print(len(validation_humans_fnames))\n",
    "\n",
    "# Expected Output:\n",
    "# 500\n",
    "# 527\n",
    "# 128\n",
    "# 128"
   ]
  },
  {
   "cell_type": "code",
   "execution_count": 8,
   "metadata": {
    "colab": {},
    "colab_type": "code",
    "id": "O4s8HckqGlnb"
   },
   "outputs": [
    {
     "name": "stdout",
     "output_type": "stream",
     "text": [
      "Found 1027 images belonging to 2 classes.\n",
      "Found 256 images belonging to 2 classes.\n"
     ]
    }
   ],
   "source": [
    "from tensorflow.keras.preprocessing.image import ImageDataGenerator\n",
    "# Define our example directories and files\n",
    "train_dir = '/tmp/horse-or-human/training'\n",
    "validation_dir = '/tmp/horse-or-human/validation'\n",
    "\n",
    "# Add our data-augmentation parameters to ImageDataGenerator\n",
    "train_datagen = ImageDataGenerator(rescale=1/255,\n",
    "                                   rotation_range=40,\n",
    "                                   width_shift_range=0.2,\n",
    "                                   height_shift_range=0.2,\n",
    "                                   shear_range=0.2,\n",
    "                                   zoom_range=0.2,\n",
    "                                   horizontal_flip=True\n",
    "                                   \n",
    "                                  )\n",
    "\n",
    "# Note that the validation data should not be augmented!\n",
    "test_datagen = ImageDataGenerator(rescale=1/255)\n",
    "\n",
    "# Flow training images in batches of 20 using train_datagen generator\n",
    "train_generator = train_datagen.flow_from_directory(train_dir,\n",
    "                                                   batch_size=32,\n",
    "                                                   class_mode='binary',\n",
    "                                                   target_size=(150, 150),\n",
    "                                                   shuffle=True)    \n",
    "\n",
    "# Flow validation images in batches of 20 using test_datagen generator\n",
    "validation_generator =  test_datagen.flow_from_directory(validation_dir,\n",
    "                                                   batch_size=32,\n",
    "                                                   class_mode='binary',\n",
    "                                                   target_size=(150, 150))\n",
    "\n",
    "# Expected Output:\n",
    "# Found 1027 images belonging to 2 classes.\n",
    "# Found 256 images belonging to 2 classes."
   ]
  },
  {
   "cell_type": "code",
   "execution_count": 16,
   "metadata": {
    "colab": {},
    "colab_type": "code",
    "id": "Blhq2MAUeyGA",
    "scrolled": false
   },
   "outputs": [
    {
     "name": "stdout",
     "output_type": "stream",
     "text": [
      "WARNING:tensorflow:sample_weight modes were coerced from\n",
      "  ...\n",
      "    to  \n",
      "  ['...']\n",
      "WARNING:tensorflow:sample_weight modes were coerced from\n",
      "  ...\n",
      "    to  \n",
      "  ['...']\n",
      "Train for 30 steps, validate for 8 steps\n",
      "Epoch 1/100\n",
      "30/30 [==============================] - 14s 479ms/step - loss: 0.0278 - accuracy: 0.9828 - val_loss: 0.0442 - val_accuracy: 0.9844\n",
      "Epoch 2/100\n",
      "30/30 [==============================] - 7s 249ms/step - loss: 0.0023 - accuracy: 0.9989 - val_loss: 0.2096 - val_accuracy: 0.9258\n",
      "Epoch 3/100\n",
      "30/30 [==============================] - 8s 256ms/step - loss: 0.0031 - accuracy: 0.9989 - val_loss: 0.0988 - val_accuracy: 0.9492\n",
      "Epoch 4/100\n",
      "30/30 [==============================] - 8s 255ms/step - loss: 0.0011 - accuracy: 1.0000 - val_loss: 1.0740 - val_accuracy: 0.8516\n",
      "Epoch 5/100\n",
      "30/30 [==============================] - 8s 255ms/step - loss: 0.0014 - accuracy: 0.9989 - val_loss: 3.5963 - val_accuracy: 0.6992\n",
      "Epoch 6/100\n",
      "30/30 [==============================] - 8s 253ms/step - loss: 0.0043 - accuracy: 0.9979 - val_loss: 1.4672 - val_accuracy: 0.8438\n",
      "Epoch 7/100\n",
      "30/30 [==============================] - 8s 256ms/step - loss: 5.0500e-07 - accuracy: 1.0000 - val_loss: 0.9975 - val_accuracy: 0.8828\n",
      "Epoch 8/100\n",
      "30/30 [==============================] - 8s 270ms/step - loss: 2.5907e-06 - accuracy: 1.0000 - val_loss: 0.7089 - val_accuracy: 0.9023\n",
      "Epoch 9/100\n",
      "30/30 [==============================] - 8s 254ms/step - loss: 1.5537e-05 - accuracy: 1.0000 - val_loss: 0.0419 - val_accuracy: 0.9883\n",
      "Epoch 10/100\n",
      "30/30 [==============================] - 8s 259ms/step - loss: 0.0020 - accuracy: 0.9989 - val_loss: 0.0144 - val_accuracy: 0.9961\n",
      "Epoch 11/100\n",
      "30/30 [==============================] - 8s 256ms/step - loss: 0.0061 - accuracy: 0.9979 - val_loss: 0.0143 - val_accuracy: 0.9922\n",
      "Epoch 12/100\n",
      "30/30 [==============================] - 8s 254ms/step - loss: 3.7709e-06 - accuracy: 1.0000 - val_loss: 0.0343 - val_accuracy: 0.9883\n",
      "Epoch 13/100\n",
      "30/30 [==============================] - 8s 255ms/step - loss: 5.3086e-06 - accuracy: 1.0000 - val_loss: 0.0666 - val_accuracy: 0.9766\n",
      "Epoch 14/100\n",
      "30/30 [==============================] - 8s 256ms/step - loss: 4.1808e-06 - accuracy: 1.0000 - val_loss: 0.0119 - val_accuracy: 0.9961\n",
      "Epoch 15/100\n",
      "30/30 [==============================] - 8s 259ms/step - loss: 3.6248e-06 - accuracy: 1.0000 - val_loss: 0.0078 - val_accuracy: 0.9961\n",
      "Epoch 16/100\n",
      "30/30 [==============================] - 8s 266ms/step - loss: 1.8987e-04 - accuracy: 1.0000 - val_loss: 0.4167 - val_accuracy: 0.9180\n",
      "Epoch 17/100\n",
      "30/30 [==============================] - 8s 266ms/step - loss: 2.5810e-07 - accuracy: 1.0000 - val_loss: 0.4018 - val_accuracy: 0.9258\n",
      "Epoch 18/100\n",
      "30/30 [==============================] - 8s 261ms/step - loss: 4.8770e-07 - accuracy: 1.0000 - val_loss: 0.2770 - val_accuracy: 0.9375\n",
      "Epoch 19/100\n",
      "30/30 [==============================] - 8s 256ms/step - loss: 3.2740e-07 - accuracy: 1.0000 - val_loss: 0.4352 - val_accuracy: 0.9180\n",
      "Epoch 20/100\n",
      "30/30 [==============================] - 8s 263ms/step - loss: 1.1699e-06 - accuracy: 1.0000 - val_loss: 0.3962 - val_accuracy: 0.9219\n",
      "Epoch 21/100\n",
      "30/30 [==============================] - 8s 268ms/step - loss: 0.0027 - accuracy: 0.9989 - val_loss: 0.0047 - val_accuracy: 0.9961\n",
      "Epoch 22/100\n",
      "28/30 [===========================>..] - ETA: 0s - loss: 2.6131e-04 - accuracy: 1.0000\n",
      "Reached 99.9% accuracy so cancelling training!\n",
      "30/30 [==============================] - 8s 258ms/step - loss: 2.4414e-04 - accuracy: 1.0000 - val_loss: 5.4336e-04 - val_accuracy: 1.0000\n"
     ]
    }
   ],
   "source": [
    "# Run this and see how many epochs it should take before the callback\n",
    "# fires, and stops training at 99.9% accuracy\n",
    "# (It should take less than 100 epochs)\n",
    "\n",
    "#callbacks = [myCallback()]\n",
    "history = model.fit(\n",
    "    train_generator, \n",
    "    steps_per_epoch=30,\n",
    "    epochs=100, \n",
    "    validation_steps=8,\n",
    "    validation_data=validation_generator,\n",
    "    callbacks=[myCallback()]                         \n",
    ")"
   ]
  },
  {
   "cell_type": "code",
   "execution_count": 17,
   "metadata": {
    "colab": {},
    "colab_type": "code",
    "id": "C2Fp6Se9rKuL"
   },
   "outputs": [
    {
     "data": {
      "image/png": "[encoded data removed]",
      "text/plain": [
       "<Figure size 432x288 with 1 Axes>"
      ]
     },
     "metadata": {
      "needs_background": "light"
     },
     "output_type": "display_data"
    },
    {
     "data": {
      "text/plain": [
       "<Figure size 432x288 with 0 Axes>"
      ]
     },
     "metadata": {},
     "output_type": "display_data"
    }
   ],
   "source": [
    "import matplotlib.pyplot as plt\n",
    "acc = history.history['accuracy']\n",
    "val_acc = history.history['val_accuracy']\n",
    "loss = history.history['loss']\n",
    "val_loss = history.history['val_loss']\n",
    "\n",
    "epochs = range(len(acc))\n",
    "\n",
    "plt.plot(epochs, acc, 'r', label='Training accuracy')\n",
    "plt.plot(epochs, val_acc, 'b', label='Validation accuracy')\n",
    "plt.title('Training and validation accuracy')\n",
    "plt.legend(loc=0)\n",
    "plt.figure()\n",
    "\n",
    "\n",
    "plt.show()"
   ]
  },
  {
   "cell_type": "code",
   "execution_count": null,
   "metadata": {},
   "outputs": [],
   "source": []
  }
 ],
 "metadata": {
  "accelerator": "GPU",
  "colab": {
   "collapsed_sections": [],
   "name": "Exercise 7 - Question.ipynb",
   "provenance": [
    {
     "file_id": "1fRZWXUFO_p-N929XKh2hBTj_kOWuKJTS",
     "timestamp": 1553617840759
    },
    {
     "file_id": "https://github.com/lmoroney/dlaicourse/blob/master/Course%202%20-%20Part%206%20-%20Lesson%203%20-%20Notebook.ipynb",
     "timestamp": 1553613150204
    }
   ],
   "version": "0.3.2"
  },
  "kernelspec": {
   "display_name": "Python 3",
   "language": "python",
   "name": "python3"
  },
  "language_info": {
   "codemirror_mode": {
    "name": "ipython",
    "version": 3
   },
   "file_extension": ".py",
   "mimetype": "text/x-python",
   "name": "python",
   "nbconvert_exporter": "python",
   "pygments_lexer": "ipython3",
   "version": "3.7.6"
  }
 },
 "nbformat": 4,
 "nbformat_minor": 1
}
